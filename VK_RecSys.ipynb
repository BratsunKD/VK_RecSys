{
  "nbformat": 4,
  "nbformat_minor": 0,
  "metadata": {
    "colab": {
      "provenance": [],
      "gpuType": "T4"
    },
    "kernelspec": {
      "name": "python3",
      "display_name": "Python 3"
    },
    "language_info": {
      "name": "python"
    },
    "widgets": {
      "application/vnd.jupyter.widget-state+json": {
        "24bb8d09538747109bde174d61512cec": {
          "model_module": "catboost-widget",
          "model_name": "CatboostWidgetModel",
          "model_module_version": "^1.0.0",
          "state": {
            "_dom_classes": [],
            "_model_module": "catboost-widget",
            "_model_module_version": "^1.0.0",
            "_model_name": "CatboostWidgetModel",
            "_view_count": null,
            "_view_module": "catboost-widget",
            "_view_module_version": "^1.0.0",
            "_view_name": "CatboostWidgetView",
            "data": {
              "RMSE": {
                "path": "RMSE",
                "name": "RMSE",
                "content": {
                  "passed_iterations": 999,
                  "total_iterations": 1000,
                  "data": {
                    "iterations": [
                      {
                        "learn": [
                          0.1451534412
                        ],
                        "iteration": 0,
                        "passed_time": 0.02119818789,
                        "remaining_time": 21.1769897,
                        "test": [
                          0.1398290071,
                          0.8716079257
                        ]
                      },
                      {
                        "learn": [
                          0.1449827548
                        ],
                        "iteration": 1,
                        "passed_time": 0.04272921198,
                        "remaining_time": 21.32187678,
                        "test": [
                          0.139689928,
                          0.8831999981
                        ]
                      },
                      {
                        "learn": [
                          0.1446610562
                        ],
                        "iteration": 2,
                        "passed_time": 0.07013443215,
                        "remaining_time": 23.30800962,
                        "test": [
                          0.1394267854,
                          0.8993900746
                        ]
                      },
                      {
                        "learn": [
                          0.1444704029
                        ],
                        "iteration": 3,
                        "passed_time": 0.09599999192,
                        "remaining_time": 23.90399799,
                        "test": [
                          0.1392934919,
                          0.9014981961
                        ]
                      },
                      {
                        "learn": [
                          0.1442657752
                        ],
                        "iteration": 4,
                        "passed_time": 0.1161874296,
                        "remaining_time": 23.1212985,
                        "test": [
                          0.1391397018,
                          0.903837425
                        ]
                      },
                      {
                        "learn": [
                          0.1440779853
                        ],
                        "iteration": 5,
                        "passed_time": 0.1435641395,
                        "remaining_time": 23.78379244,
                        "test": [
                          0.1389798064,
                          0.9053793705
                        ]
                      },
                      {
                        "learn": [
                          0.1438321724
                        ],
                        "iteration": 6,
                        "passed_time": 0.1648899796,
                        "remaining_time": 23.39082139,
                        "test": [
                          0.1388182537,
                          0.907210603
                        ]
                      },
                      {
                        "learn": [
                          0.1436058545
                        ],
                        "iteration": 7,
                        "passed_time": 0.1936147457,
                        "remaining_time": 24.00822846,
                        "test": [
                          0.138673229,
                          0.9075423979
                        ]
                      },
                      {
                        "learn": [
                          0.1434274881
                        ],
                        "iteration": 8,
                        "passed_time": 0.2162657821,
                        "remaining_time": 23.81326556,
                        "test": [
                          0.1385315604,
                          0.9106826907
                        ]
                      },
                      {
                        "learn": [
                          0.1432507341
                        ],
                        "iteration": 9,
                        "passed_time": 0.2403585067,
                        "remaining_time": 23.79549216,
                        "test": [
                          0.1383782222,
                          0.9127854947
                        ]
                      },
                      {
                        "learn": [
                          0.1429853415
                        ],
                        "iteration": 10,
                        "passed_time": 0.261927952,
                        "remaining_time": 23.54970405,
                        "test": [
                          0.1380993904,
                          0.9125493843
                        ]
                      },
                      {
                        "learn": [
                          0.1427897357
                        ],
                        "iteration": 11,
                        "passed_time": 0.2855769783,
                        "remaining_time": 23.51250455,
                        "test": [
                          0.1379321309,
                          0.9140420511
                        ]
                      },
                      {
                        "learn": [
                          0.1425722896
                        ],
                        "iteration": 12,
                        "passed_time": 0.3082886656,
                        "remaining_time": 23.40622408,
                        "test": [
                          0.1377598193,
                          0.9180475557
                        ]
                      },
                      {
                        "learn": [
                          0.1424146051
                        ],
                        "iteration": 13,
                        "passed_time": 0.3382291459,
                        "remaining_time": 23.82099556,
                        "test": [
                          0.137581851,
                          0.9183050182
                        ]
                      },
                      {
                        "learn": [
                          0.1422075951
                        ],
                        "iteration": 14,
                        "passed_time": 0.36226995,
                        "remaining_time": 23.78906005,
                        "test": [
                          0.1373893037,
                          0.9217029746
                        ]
                      },
                      {
                        "learn": [
                          0.1420424147
                        ],
                        "iteration": 15,
                        "passed_time": 0.3849144862,
                        "remaining_time": 23.6722409,
                        "test": [
                          0.1371656336,
                          0.9230699007
                        ]
                      },
                      {
                        "learn": [
                          0.1418684286
                        ],
                        "iteration": 16,
                        "passed_time": 0.408588513,
                        "remaining_time": 23.6260299,
                        "test": [
                          0.1370354832,
                          0.924169923
                        ]
                      },
                      {
                        "learn": [
                          0.1416879958
                        ],
                        "iteration": 17,
                        "passed_time": 0.4355991651,
                        "remaining_time": 23.76435445,
                        "test": [
                          0.1368863974,
                          0.926944349
                        ]
                      },
                      {
                        "learn": [
                          0.1414188288
                        ],
                        "iteration": 18,
                        "passed_time": 0.4620448561,
                        "remaining_time": 23.85610546,
                        "test": [
                          0.1367049707,
                          0.9258939567
                        ]
                      },
                      {
                        "learn": [
                          0.1411832691
                        ],
                        "iteration": 19,
                        "passed_time": 0.4858154447,
                        "remaining_time": 23.80495679,
                        "test": [
                          0.1365484897,
                          0.9266422458
                        ]
                      },
                      {
                        "learn": [
                          0.1410279346
                        ],
                        "iteration": 20,
                        "passed_time": 0.5126540437,
                        "remaining_time": 23.89944328,
                        "test": [
                          0.1364715402,
                          0.9268627373
                        ]
                      },
                      {
                        "learn": [
                          0.1408677854
                        ],
                        "iteration": 21,
                        "passed_time": 0.5323452616,
                        "remaining_time": 23.66516663,
                        "test": [
                          0.1363937478,
                          0.9267872012
                        ]
                      },
                      {
                        "learn": [
                          0.1407062141
                        ],
                        "iteration": 22,
                        "passed_time": 0.5609240551,
                        "remaining_time": 23.82707834,
                        "test": [
                          0.1362793517,
                          0.9272155444
                        ]
                      },
                      {
                        "learn": [
                          0.1405870204
                        ],
                        "iteration": 23,
                        "passed_time": 0.5836492632,
                        "remaining_time": 23.73507004,
                        "test": [
                          0.1362004787,
                          0.9267367466
                        ]
                      },
                      {
                        "learn": [
                          0.1404426992
                        ],
                        "iteration": 24,
                        "passed_time": 0.6001458283,
                        "remaining_time": 23.4056873,
                        "test": [
                          0.1360439554,
                          0.928262441
                        ]
                      },
                      {
                        "learn": [
                          0.1402334307
                        ],
                        "iteration": 25,
                        "passed_time": 0.6090129932,
                        "remaining_time": 22.81456367,
                        "test": [
                          0.1358680994,
                          0.928201237
                        ]
                      },
                      {
                        "learn": [
                          0.1400113423
                        ],
                        "iteration": 26,
                        "passed_time": 0.6183769576,
                        "remaining_time": 22.28447332,
                        "test": [
                          0.1357133983,
                          0.9291705767
                        ]
                      },
                      {
                        "learn": [
                          0.1398746347
                        ],
                        "iteration": 27,
                        "passed_time": 0.6276370901,
                        "remaining_time": 21.78797327,
                        "test": [
                          0.1356077977,
                          0.9304787098
                        ]
                      },
                      {
                        "learn": [
                          0.1397560704
                        ],
                        "iteration": 28,
                        "passed_time": 0.637430973,
                        "remaining_time": 21.3429474,
                        "test": [
                          0.1355581413,
                          0.9308001885
                        ]
                      },
                      {
                        "learn": [
                          0.1395761202
                        ],
                        "iteration": 29,
                        "passed_time": 0.6470464026,
                        "remaining_time": 20.92116702,
                        "test": [
                          0.1353645059,
                          0.9331349229
                        ]
                      },
                      {
                        "learn": [
                          0.1393573408
                        ],
                        "iteration": 30,
                        "passed_time": 0.6553892872,
                        "remaining_time": 20.48620062,
                        "test": [
                          0.1351365403,
                          0.9349408996
                        ]
                      },
                      {
                        "learn": [
                          0.1391961344
                        ],
                        "iteration": 31,
                        "passed_time": 0.6644020047,
                        "remaining_time": 20.09816064,
                        "test": [
                          0.1350628326,
                          0.9330229084
                        ]
                      },
                      {
                        "learn": [
                          0.1390784187
                        ],
                        "iteration": 32,
                        "passed_time": 0.6728700918,
                        "remaining_time": 19.71713269,
                        "test": [
                          0.1350322278,
                          0.9318640519
                        ]
                      },
                      {
                        "learn": [
                          0.1389883652
                        ],
                        "iteration": 33,
                        "passed_time": 0.6813809694,
                        "remaining_time": 19.35923578,
                        "test": [
                          0.1349783167,
                          0.9319710503
                        ]
                      },
                      {
                        "learn": [
                          0.1388520096
                        ],
                        "iteration": 34,
                        "passed_time": 0.689942328,
                        "remaining_time": 19.02269562,
                        "test": [
                          0.1348630376,
                          0.9334918479
                        ]
                      },
                      {
                        "learn": [
                          0.1388215814
                        ],
                        "iteration": 35,
                        "passed_time": 0.6990536372,
                        "remaining_time": 18.71910295,
                        "test": [
                          0.1348589238,
                          0.9334783256
                        ]
                      },
                      {
                        "learn": [
                          0.1387334365
                        ],
                        "iteration": 36,
                        "passed_time": 0.7079373225,
                        "remaining_time": 18.42550383,
                        "test": [
                          0.134745312,
                          0.9341424386
                        ]
                      },
                      {
                        "learn": [
                          0.138669699
                        ],
                        "iteration": 37,
                        "passed_time": 0.7162745266,
                        "remaining_time": 18.13305512,
                        "test": [
                          0.1346600554,
                          0.9352751233
                        ]
                      },
                      {
                        "learn": [
                          0.1385652339
                        ],
                        "iteration": 38,
                        "passed_time": 0.7275283287,
                        "remaining_time": 17.9270442,
                        "test": [
                          0.1345772082,
                          0.9352751233
                        ]
                      },
                      {
                        "learn": [
                          0.1384400179
                        ],
                        "iteration": 39,
                        "passed_time": 0.7370345962,
                        "remaining_time": 17.68883031,
                        "test": [
                          0.1345034254,
                          0.935958549
                        ]
                      },
                      {
                        "learn": [
                          0.1383026151
                        ],
                        "iteration": 40,
                        "passed_time": 0.746175586,
                        "remaining_time": 17.45322895,
                        "test": [
                          0.1343350444,
                          0.9377909977
                        ]
                      },
                      {
                        "learn": [
                          0.138140496
                        ],
                        "iteration": 41,
                        "passed_time": 0.7552601352,
                        "remaining_time": 17.22712404,
                        "test": [
                          0.1341556485,
                          0.9381721301
                        ]
                      },
                      {
                        "learn": [
                          0.138045674
                        ],
                        "iteration": 42,
                        "passed_time": 0.7670424075,
                        "remaining_time": 17.07115312,
                        "test": [
                          0.1340657407,
                          0.9383168737
                        ]
                      },
                      {
                        "learn": [
                          0.1378821199
                        ],
                        "iteration": 43,
                        "passed_time": 0.7763720712,
                        "remaining_time": 16.86844773,
                        "test": [
                          0.1339523649,
                          0.9389820847
                        ]
                      },
                      {
                        "learn": [
                          0.1377021668
                        ],
                        "iteration": 44,
                        "passed_time": 0.7856701142,
                        "remaining_time": 16.67366576,
                        "test": [
                          0.133822176,
                          0.9381382011
                        ]
                      },
                      {
                        "learn": [
                          0.1376234283
                        ],
                        "iteration": 45,
                        "passed_time": 0.7944054362,
                        "remaining_time": 16.47527796,
                        "test": [
                          0.1338196254,
                          0.9381466303
                        ]
                      },
                      {
                        "learn": [
                          0.1375294565
                        ],
                        "iteration": 46,
                        "passed_time": 0.8031840394,
                        "remaining_time": 16.28583808,
                        "test": [
                          0.1337181104,
                          0.9390087337
                        ]
                      },
                      {
                        "learn": [
                          0.137401558
                        ],
                        "iteration": 47,
                        "passed_time": 0.8136532958,
                        "remaining_time": 16.13745703,
                        "test": [
                          0.1335731488,
                          0.9384871841
                        ]
                      },
                      {
                        "learn": [
                          0.1372829359
                        ],
                        "iteration": 48,
                        "passed_time": 0.8240191301,
                        "remaining_time": 15.99269781,
                        "test": [
                          0.1334093226,
                          0.9392551365
                        ]
                      },
                      {
                        "learn": [
                          0.137099075
                        ],
                        "iteration": 49,
                        "passed_time": 0.8347498217,
                        "remaining_time": 15.86024661,
                        "test": [
                          0.1332577148,
                          0.9407844774
                        ]
                      },
                      {
                        "learn": [
                          0.1370036007
                        ],
                        "iteration": 50,
                        "passed_time": 0.8444868434,
                        "remaining_time": 15.71407871,
                        "test": [
                          0.1331544278,
                          0.9432308755
                        ]
                      },
                      {
                        "learn": [
                          0.1368787957
                        ],
                        "iteration": 51,
                        "passed_time": 0.8538301176,
                        "remaining_time": 15.56597984,
                        "test": [
                          0.1330015085,
                          0.9426212048
                        ]
                      },
                      {
                        "learn": [
                          0.136763394
                        ],
                        "iteration": 52,
                        "passed_time": 0.8634410773,
                        "remaining_time": 15.4279,
                        "test": [
                          0.1329613734,
                          0.9414514157
                        ]
                      },
                      {
                        "learn": [
                          0.1366942187
                        ],
                        "iteration": 53,
                        "passed_time": 0.874979485,
                        "remaining_time": 15.32834431,
                        "test": [
                          0.1329084848,
                          0.9419488364
                        ]
                      },
                      {
                        "learn": [
                          0.1365597017
                        ],
                        "iteration": 54,
                        "passed_time": 0.8881468845,
                        "remaining_time": 15.25997829,
                        "test": [
                          0.1327796861,
                          0.9424907744
                        ]
                      },
                      {
                        "learn": [
                          0.136451773
                        ],
                        "iteration": 55,
                        "passed_time": 0.8972979047,
                        "remaining_time": 15.12587897,
                        "test": [
                          0.1326952341,
                          0.9426997154
                        ]
                      },
                      {
                        "learn": [
                          0.1364046681
                        ],
                        "iteration": 56,
                        "passed_time": 0.906232051,
                        "remaining_time": 14.99257586,
                        "test": [
                          0.1326517175,
                          0.9426762064
                        ]
                      },
                      {
                        "learn": [
                          0.1363027912
                        ],
                        "iteration": 57,
                        "passed_time": 0.9156834974,
                        "remaining_time": 14.87196301,
                        "test": [
                          0.1324892303,
                          0.942814587
                        ]
                      },
                      {
                        "learn": [
                          0.1362155899
                        ],
                        "iteration": 58,
                        "passed_time": 1.023490623,
                        "remaining_time": 16.32380807,
                        "test": [
                          0.1324125209,
                          0.9435785402
                        ]
                      },
                      {
                        "learn": [
                          0.1361191615
                        ],
                        "iteration": 59,
                        "passed_time": 1.035673872,
                        "remaining_time": 16.22555734,
                        "test": [
                          0.1322768987,
                          0.943579927
                        ]
                      },
                      {
                        "learn": [
                          0.1359313016
                        ],
                        "iteration": 60,
                        "passed_time": 1.047126758,
                        "remaining_time": 16.11888568,
                        "test": [
                          0.1321264989,
                          0.9446623023
                        ]
                      },
                      {
                        "learn": [
                          0.1358098037
                        ],
                        "iteration": 61,
                        "passed_time": 1.056171037,
                        "remaining_time": 15.97884568,
                        "test": [
                          0.1320199052,
                          0.9451343883
                        ]
                      },
                      {
                        "learn": [
                          0.1357346414
                        ],
                        "iteration": 62,
                        "passed_time": 1.065224915,
                        "remaining_time": 15.84310707,
                        "test": [
                          0.1319135477,
                          0.9457767928
                        ]
                      },
                      {
                        "learn": [
                          0.1356512002
                        ],
                        "iteration": 63,
                        "passed_time": 1.074548009,
                        "remaining_time": 15.71526463,
                        "test": [
                          0.1318110487,
                          0.9451859449
                        ]
                      },
                      {
                        "learn": [
                          0.1354746386
                        ],
                        "iteration": 64,
                        "passed_time": 1.084151598,
                        "remaining_time": 15.59510376,
                        "test": [
                          0.1317151679,
                          0.9450663942
                        ]
                      },
                      {
                        "learn": [
                          0.1353835871
                        ],
                        "iteration": 65,
                        "passed_time": 1.093422501,
                        "remaining_time": 15.47358509,
                        "test": [
                          0.131646408,
                          0.9456055966
                        ]
                      },
                      {
                        "learn": [
                          0.1352739735
                        ],
                        "iteration": 66,
                        "passed_time": 1.102466859,
                        "remaining_time": 15.35226238,
                        "test": [
                          0.1315500003,
                          0.9474651102
                        ]
                      },
                      {
                        "learn": [
                          0.1351950415
                        ],
                        "iteration": 67,
                        "passed_time": 1.111719832,
                        "remaining_time": 15.23710122,
                        "test": [
                          0.1314387306,
                          0.9496598967
                        ]
                      },
                      {
                        "learn": [
                          0.13514549
                        ],
                        "iteration": 68,
                        "passed_time": 1.120679878,
                        "remaining_time": 15.12105748,
                        "test": [
                          0.131412171,
                          0.9496211098
                        ]
                      },
                      {
                        "learn": [
                          0.1350366918
                        ],
                        "iteration": 69,
                        "passed_time": 1.130737466,
                        "remaining_time": 15.02265491,
                        "test": [
                          0.1312855447,
                          0.9511538316
                        ]
                      },
                      {
                        "learn": [
                          0.1349946278
                        ],
                        "iteration": 70,
                        "passed_time": 1.142434827,
                        "remaining_time": 14.94819654,
                        "test": [
                          0.131253957,
                          0.9512876759
                        ]
                      },
                      {
                        "learn": [
                          0.1348692807
                        ],
                        "iteration": 71,
                        "passed_time": 1.151489825,
                        "remaining_time": 14.84142441,
                        "test": [
                          0.1311093962,
                          0.9516767291
                        ]
                      },
                      {
                        "learn": [
                          0.134848481
                        ],
                        "iteration": 72,
                        "passed_time": 1.160007543,
                        "remaining_time": 14.73050675,
                        "test": [
                          0.131087381,
                          0.9516893659
                        ]
                      },
                      {
                        "learn": [
                          0.1347500875
                        ],
                        "iteration": 73,
                        "passed_time": 1.169314857,
                        "remaining_time": 14.63223726,
                        "test": [
                          0.1309757308,
                          0.9506167059
                        ]
                      },
                      {
                        "learn": [
                          0.1345628573
                        ],
                        "iteration": 74,
                        "passed_time": 1.180071179,
                        "remaining_time": 14.55421121,
                        "test": [
                          0.1308528835,
                          0.9510963243
                        ]
                      },
                      {
                        "learn": [
                          0.1344515249
                        ],
                        "iteration": 75,
                        "passed_time": 1.189359482,
                        "remaining_time": 14.46010739,
                        "test": [
                          0.1307480454,
                          0.9509662611
                        ]
                      },
                      {
                        "learn": [
                          0.1343641308
                        ],
                        "iteration": 76,
                        "passed_time": 1.197844609,
                        "remaining_time": 14.35857889,
                        "test": [
                          0.1306195099,
                          0.9508152675
                        ]
                      },
                      {
                        "learn": [
                          0.1342585335
                        ],
                        "iteration": 77,
                        "passed_time": 1.207696834,
                        "remaining_time": 14.27559591,
                        "test": [
                          0.1304772643,
                          0.9508338732
                        ]
                      },
                      {
                        "learn": [
                          0.1341388015
                        ],
                        "iteration": 78,
                        "passed_time": 1.217016127,
                        "remaining_time": 14.18825131,
                        "test": [
                          0.1304057041,
                          0.9507979658
                        ]
                      },
                      {
                        "learn": [
                          0.1340478145
                        ],
                        "iteration": 79,
                        "passed_time": 1.226383082,
                        "remaining_time": 14.10340544,
                        "test": [
                          0.1303525786,
                          0.9503574348
                        ]
                      },
                      {
                        "learn": [
                          0.1339731309
                        ],
                        "iteration": 80,
                        "passed_time": 1.235226276,
                        "remaining_time": 14.01448084,
                        "test": [
                          0.130272037,
                          0.9511729021
                        ]
                      },
                      {
                        "learn": [
                          0.1338871519
                        ],
                        "iteration": 81,
                        "passed_time": 1.243826046,
                        "remaining_time": 13.92478427,
                        "test": [
                          0.1301872046,
                          0.9514741474
                        ]
                      },
                      {
                        "learn": [
                          0.1338130495
                        ],
                        "iteration": 82,
                        "passed_time": 1.252941586,
                        "remaining_time": 13.84274017,
                        "test": [
                          0.1301277206,
                          0.9518533763
                        ]
                      },
                      {
                        "learn": [
                          0.1337189881
                        ],
                        "iteration": 83,
                        "passed_time": 1.261824571,
                        "remaining_time": 13.75989651,
                        "test": [
                          0.1300795854,
                          0.9516203799
                        ]
                      },
                      {
                        "learn": [
                          0.1336228655
                        ],
                        "iteration": 84,
                        "passed_time": 1.270980722,
                        "remaining_time": 13.68173365,
                        "test": [
                          0.1299984833,
                          0.9521411696
                        ]
                      },
                      {
                        "learn": [
                          0.1335657176
                        ],
                        "iteration": 85,
                        "passed_time": 1.279816096,
                        "remaining_time": 13.60176641,
                        "test": [
                          0.1299356328,
                          0.9523529535
                        ]
                      },
                      {
                        "learn": [
                          0.1334059552
                        ],
                        "iteration": 86,
                        "passed_time": 1.288783553,
                        "remaining_time": 13.5248205,
                        "test": [
                          0.1297970887,
                          0.952007653
                        ]
                      },
                      {
                        "learn": [
                          0.1333112471
                        ],
                        "iteration": 87,
                        "passed_time": 1.298485684,
                        "remaining_time": 13.45703345,
                        "test": [
                          0.129665402,
                          0.9520352887
                        ]
                      },
                      {
                        "learn": [
                          0.1332226147
                        ],
                        "iteration": 88,
                        "passed_time": 1.307619744,
                        "remaining_time": 13.38473693,
                        "test": [
                          0.1295643943,
                          0.9513313451
                        ]
                      },
                      {
                        "learn": [
                          0.1331360655
                        ],
                        "iteration": 89,
                        "passed_time": 1.316938948,
                        "remaining_time": 13.31571603,
                        "test": [
                          0.129432037,
                          0.9513313451
                        ]
                      },
                      {
                        "learn": [
                          0.1330242738
                        ],
                        "iteration": 90,
                        "passed_time": 1.327090398,
                        "remaining_time": 13.25632057,
                        "test": [
                          0.1293478751,
                          0.9512388907
                        ]
                      },
                      {
                        "learn": [
                          0.1329482818
                        ],
                        "iteration": 91,
                        "passed_time": 1.336348821,
                        "remaining_time": 13.18918184,
                        "test": [
                          0.1293398512,
                          0.9515665989
                        ]
                      },
                      {
                        "learn": [
                          0.1328365555
                        ],
                        "iteration": 92,
                        "passed_time": 1.345257536,
                        "remaining_time": 13.11987726,
                        "test": [
                          0.1292605267,
                          0.9516426842
                        ]
                      },
                      {
                        "learn": [
                          0.1327945125
                        ],
                        "iteration": 93,
                        "passed_time": 1.354916577,
                        "remaining_time": 13.05908956,
                        "test": [
                          0.1292363615,
                          0.9518699634
                        ]
                      },
                      {
                        "learn": [
                          0.1327664876
                        ],
                        "iteration": 94,
                        "passed_time": 1.36523993,
                        "remaining_time": 13.0057067,
                        "test": [
                          0.1292233169,
                          0.9518699634
                        ]
                      },
                      {
                        "learn": [
                          0.1327330239
                        ],
                        "iteration": 95,
                        "passed_time": 1.373923341,
                        "remaining_time": 12.93777813,
                        "test": [
                          0.1292063276,
                          0.9523121318
                        ]
                      },
                      {
                        "learn": [
                          0.1326068959
                        ],
                        "iteration": 96,
                        "passed_time": 1.382802956,
                        "remaining_time": 12.87289762,
                        "test": [
                          0.1291284383,
                          0.9520830613
                        ]
                      },
                      {
                        "learn": [
                          0.132529274
                        ],
                        "iteration": 97,
                        "passed_time": 1.391440716,
                        "remaining_time": 12.80693394,
                        "test": [
                          0.1290461514,
                          0.9521243157
                        ]
                      },
                      {
                        "learn": [
                          0.1324426283
                        ],
                        "iteration": 98,
                        "passed_time": 1.401380432,
                        "remaining_time": 12.75397747,
                        "test": [
                          0.1289434556,
                          0.9523351077
                        ]
                      },
                      {
                        "learn": [
                          0.1324051706
                        ],
                        "iteration": 99,
                        "passed_time": 1.411521292,
                        "remaining_time": 12.70369163,
                        "test": [
                          0.1289246964,
                          0.9523043951
                        ]
                      },
                      {
                        "learn": [
                          0.1322980788
                        ],
                        "iteration": 100,
                        "passed_time": 1.420432468,
                        "remaining_time": 12.64325533,
                        "test": [
                          0.1287666112,
                          0.9517788841
                        ]
                      },
                      {
                        "learn": [
                          0.1321679965
                        ],
                        "iteration": 101,
                        "passed_time": 1.429811823,
                        "remaining_time": 12.58795115,
                        "test": [
                          0.128630641,
                          0.952275157
                        ]
                      },
                      {
                        "learn": [
                          0.1320619315
                        ],
                        "iteration": 102,
                        "passed_time": 1.440770049,
                        "remaining_time": 12.54728868,
                        "test": [
                          0.1285226005,
                          0.9545551548
                        ]
                      },
                      {
                        "learn": [
                          0.1319368819
                        ],
                        "iteration": 103,
                        "passed_time": 1.451850577,
                        "remaining_time": 12.50825112,
                        "test": [
                          0.1284302068,
                          0.9549547411
                        ]
                      },
                      {
                        "learn": [
                          0.1318591369
                        ],
                        "iteration": 104,
                        "passed_time": 1.460250463,
                        "remaining_time": 12.4468968,
                        "test": [
                          0.128332461,
                          0.9549389715
                        ]
                      },
                      {
                        "learn": [
                          0.1316760926
                        ],
                        "iteration": 105,
                        "passed_time": 1.469816051,
                        "remaining_time": 12.39637311,
                        "test": [
                          0.1281088242,
                          0.9550863373
                        ]
                      },
                      {
                        "learn": [
                          0.1316154333
                        ],
                        "iteration": 106,
                        "passed_time": 1.478719766,
                        "remaining_time": 12.34109113,
                        "test": [
                          0.1280193441,
                          0.9549796508
                        ]
                      },
                      {
                        "learn": [
                          0.131564285
                        ],
                        "iteration": 107,
                        "passed_time": 1.487831266,
                        "remaining_time": 12.28838416,
                        "test": [
                          0.1279820869,
                          0.9551455554
                        ]
                      },
                      {
                        "learn": [
                          0.1314494596
                        ],
                        "iteration": 108,
                        "passed_time": 1.497342213,
                        "remaining_time": 12.23974231,
                        "test": [
                          0.1278238781,
                          0.9555073197
                        ]
                      },
                      {
                        "learn": [
                          0.1313639434
                        ],
                        "iteration": 109,
                        "passed_time": 1.506539234,
                        "remaining_time": 12.18927199,
                        "test": [
                          0.1277232524,
                          0.9561899982
                        ]
                      },
                      {
                        "learn": [
                          0.1312565532
                        ],
                        "iteration": 110,
                        "passed_time": 1.515821018,
                        "remaining_time": 12.14022419,
                        "test": [
                          0.1276431576,
                          0.9577608702
                        ]
                      },
                      {
                        "learn": [
                          0.1311755411
                        ],
                        "iteration": 111,
                        "passed_time": 1.524888416,
                        "remaining_time": 12.09018673,
                        "test": [
                          0.1275539743,
                          0.9580779291
                        ]
                      },
                      {
                        "learn": [
                          0.1311449773
                        ],
                        "iteration": 112,
                        "passed_time": 1.533968575,
                        "remaining_time": 12.04097457,
                        "test": [
                          0.1274972026,
                          0.958157225
                        ]
                      },
                      {
                        "learn": [
                          0.1310860714
                        ],
                        "iteration": 113,
                        "passed_time": 1.542546434,
                        "remaining_time": 11.98856264,
                        "test": [
                          0.1274101987,
                          0.958157225
                        ]
                      },
                      {
                        "learn": [
                          0.1310292098
                        ],
                        "iteration": 114,
                        "passed_time": 1.551257716,
                        "remaining_time": 11.93793981,
                        "test": [
                          0.1273348045,
                          0.958684939
                        ]
                      },
                      {
                        "learn": [
                          0.1308757347
                        ],
                        "iteration": 115,
                        "passed_time": 1.560202252,
                        "remaining_time": 11.88981716,
                        "test": [
                          0.1271772031,
                          0.958565653
                        ]
                      },
                      {
                        "learn": [
                          0.1308010013
                        ],
                        "iteration": 116,
                        "passed_time": 1.57278752,
                        "remaining_time": 11.86984086,
                        "test": [
                          0.1271348067,
                          0.9585910607
                        ]
                      },
                      {
                        "learn": [
                          0.1306500434
                        ],
                        "iteration": 117,
                        "passed_time": 1.587035651,
                        "remaining_time": 11.86241902,
                        "test": [
                          0.126967593,
                          0.9592704597
                        ]
                      },
                      {
                        "learn": [
                          0.1305907304
                        ],
                        "iteration": 118,
                        "passed_time": 1.597495957,
                        "remaining_time": 11.82683982,
                        "test": [
                          0.126919653,
                          0.959282582
                        ]
                      },
                      {
                        "learn": [
                          0.1305575562
                        ],
                        "iteration": 119,
                        "passed_time": 1.606477334,
                        "remaining_time": 11.78083378,
                        "test": [
                          0.1268865268,
                          0.9592411439
                        ]
                      },
                      {
                        "learn": [
                          0.1304878047
                        ],
                        "iteration": 120,
                        "passed_time": 1.615645265,
                        "remaining_time": 11.73679494,
                        "test": [
                          0.1267769871,
                          0.9593601469
                        ]
                      },
                      {
                        "learn": [
                          0.1304314317
                        ],
                        "iteration": 121,
                        "passed_time": 1.62505359,
                        "remaining_time": 11.6950578,
                        "test": [
                          0.1266873804,
                          0.9593700203
                        ]
                      },
                      {
                        "learn": [
                          0.1303699568
                        ],
                        "iteration": 122,
                        "passed_time": 1.633947495,
                        "remaining_time": 11.65017848,
                        "test": [
                          0.1266414237,
                          0.9594494112
                        ]
                      },
                      {
                        "learn": [
                          0.1302594079
                        ],
                        "iteration": 123,
                        "passed_time": 1.643111146,
                        "remaining_time": 11.60778519,
                        "test": [
                          0.1264984339,
                          0.9596670109
                        ]
                      },
                      {
                        "learn": [
                          0.1301990692
                        ],
                        "iteration": 124,
                        "passed_time": 1.652175795,
                        "remaining_time": 11.56523056,
                        "test": [
                          0.1264164358,
                          0.9598921383
                        ]
                      },
                      {
                        "learn": [
                          0.1301236838
                        ],
                        "iteration": 125,
                        "passed_time": 1.661328095,
                        "remaining_time": 11.52381552,
                        "test": [
                          0.1263482032,
                          0.9608189323
                        ]
                      },
                      {
                        "learn": [
                          0.1300742792
                        ],
                        "iteration": 126,
                        "passed_time": 1.670382633,
                        "remaining_time": 11.48223653,
                        "test": [
                          0.1262666855,
                          0.9608603704
                        ]
                      },
                      {
                        "learn": [
                          0.1300321807
                        ],
                        "iteration": 127,
                        "passed_time": 1.679063904,
                        "remaining_time": 11.43862285,
                        "test": [
                          0.1262369475,
                          0.9608603704
                        ]
                      },
                      {
                        "learn": [
                          0.1298734643
                        ],
                        "iteration": 128,
                        "passed_time": 1.68845735,
                        "remaining_time": 11.40035932,
                        "test": [
                          0.1260198926,
                          0.9612080232
                        ]
                      },
                      {
                        "learn": [
                          0.1298399515
                        ],
                        "iteration": 129,
                        "passed_time": 1.69710109,
                        "remaining_time": 11.35752268,
                        "test": [
                          0.1259651917,
                          0.9612420636
                        ]
                      },
                      {
                        "learn": [
                          0.1297652438
                        ],
                        "iteration": 130,
                        "passed_time": 1.705644169,
                        "remaining_time": 11.31454033,
                        "test": [
                          0.1258695181,
                          0.9616034711
                        ]
                      },
                      {
                        "learn": [
                          0.1296507051
                        ],
                        "iteration": 131,
                        "passed_time": 1.716551934,
                        "remaining_time": 11.28762938,
                        "test": [
                          0.1257680148,
                          0.9627354972
                        ]
                      },
                      {
                        "learn": [
                          0.1294434147
                        ],
                        "iteration": 132,
                        "passed_time": 1.73056252,
                        "remaining_time": 11.28118575,
                        "test": [
                          0.1256556499,
                          0.962156166
                        ]
                      },
                      {
                        "learn": [
                          0.1294153571
                        ],
                        "iteration": 133,
                        "passed_time": 1.741670009,
                        "remaining_time": 11.25586737,
                        "test": [
                          0.1256279734,
                          0.962156166
                        ]
                      },
                      {
                        "learn": [
                          0.1293487345
                        ],
                        "iteration": 134,
                        "passed_time": 1.750061434,
                        "remaining_time": 11.2133566,
                        "test": [
                          0.12554648,
                          0.962156166
                        ]
                      },
                      {
                        "learn": [
                          0.1292752013
                        ],
                        "iteration": 135,
                        "passed_time": 1.758610143,
                        "remaining_time": 11.17234679,
                        "test": [
                          0.1254692984,
                          0.9620183084
                        ]
                      },
                      {
                        "learn": [
                          0.1291112965
                        ],
                        "iteration": 136,
                        "passed_time": 1.767777373,
                        "remaining_time": 11.1357071,
                        "test": [
                          0.12535189,
                          0.9618452451
                        ]
                      },
                      {
                        "learn": [
                          0.1289946395
                        ],
                        "iteration": 137,
                        "passed_time": 1.777414734,
                        "remaining_time": 11.10240218,
                        "test": [
                          0.1252665416,
                          0.9619996258
                        ]
                      },
                      {
                        "learn": [
                          0.128904108
                        ],
                        "iteration": 138,
                        "passed_time": 1.786200747,
                        "remaining_time": 11.06416434,
                        "test": [
                          0.1251784034,
                          0.9619996258
                        ]
                      },
                      {
                        "learn": [
                          0.1288755881
                        ],
                        "iteration": 139,
                        "passed_time": 1.794889238,
                        "remaining_time": 11.02574818,
                        "test": [
                          0.1251514921,
                          0.9618740399
                        ]
                      },
                      {
                        "learn": [
                          0.1287944642
                        ],
                        "iteration": 140,
                        "passed_time": 1.804126081,
                        "remaining_time": 10.99109435,
                        "test": [
                          0.1250956567,
                          0.9625098065
                        ]
                      },
                      {
                        "learn": [
                          0.1286551102
                        ],
                        "iteration": 141,
                        "passed_time": 1.813297802,
                        "remaining_time": 10.95640503,
                        "test": [
                          0.1250133727,
                          0.9619183613
                        ]
                      },
                      {
                        "learn": [
                          0.1285871787
                        ],
                        "iteration": 142,
                        "passed_time": 1.822197337,
                        "remaining_time": 10.92044138,
                        "test": [
                          0.1249768037,
                          0.9619183613
                        ]
                      },
                      {
                        "learn": [
                          0.1285207072
                        ],
                        "iteration": 143,
                        "passed_time": 1.832674073,
                        "remaining_time": 10.89422921,
                        "test": [
                          0.1248975199,
                          0.9620594545
                        ]
                      },
                      {
                        "learn": [
                          0.1284807664
                        ],
                        "iteration": 144,
                        "passed_time": 1.842428816,
                        "remaining_time": 10.86397681,
                        "test": [
                          0.1248447393,
                          0.9621331566
                        ]
                      },
                      {
                        "learn": [
                          0.1284224575
                        ],
                        "iteration": 145,
                        "passed_time": 1.85281567,
                        "remaining_time": 10.83770262,
                        "test": [
                          0.1247830246,
                          0.9627422644
                        ]
                      },
                      {
                        "learn": [
                          0.1284084811
                        ],
                        "iteration": 146,
                        "passed_time": 1.861269177,
                        "remaining_time": 10.8004259,
                        "test": [
                          0.124776123,
                          0.9627365757
                        ]
                      },
                      {
                        "learn": [
                          0.1282638139
                        ],
                        "iteration": 147,
                        "passed_time": 1.869897567,
                        "remaining_time": 10.76454545,
                        "test": [
                          0.1246122677,
                          0.9628321938
                        ]
                      },
                      {
                        "learn": [
                          0.1282154242
                        ],
                        "iteration": 148,
                        "passed_time": 1.878901595,
                        "remaining_time": 10.73117622,
                        "test": [
                          0.1245491979,
                          0.9634593612
                        ]
                      },
                      {
                        "learn": [
                          0.1281744763
                        ],
                        "iteration": 149,
                        "passed_time": 1.888270289,
                        "remaining_time": 10.70019831,
                        "test": [
                          0.1245197128,
                          0.9628067611
                        ]
                      },
                      {
                        "learn": [
                          0.1281466512
                        ],
                        "iteration": 150,
                        "passed_time": 1.896969701,
                        "remaining_time": 10.66574355,
                        "test": [
                          0.1244971866,
                          0.9636009525
                        ]
                      },
                      {
                        "learn": [
                          0.1280237026
                        ],
                        "iteration": 151,
                        "passed_time": 1.906142952,
                        "remaining_time": 10.6342712,
                        "test": [
                          0.1244100017,
                          0.9639163151
                        ]
                      },
                      {
                        "learn": [
                          0.1278250276
                        ],
                        "iteration": 152,
                        "passed_time": 1.916440345,
                        "remaining_time": 10.60931354,
                        "test": [
                          0.1242785313,
                          0.9650775294
                        ]
                      },
                      {
                        "learn": [
                          0.127674382
                        ],
                        "iteration": 153,
                        "passed_time": 1.925808659,
                        "remaining_time": 10.57944238,
                        "test": [
                          0.1241200052,
                          0.9651876185
                        ]
                      },
                      {
                        "learn": [
                          0.127597151
                        ],
                        "iteration": 154,
                        "passed_time": 1.934620203,
                        "remaining_time": 10.54680046,
                        "test": [
                          0.1240775587,
                          0.9657985078
                        ]
                      },
                      {
                        "learn": [
                          0.127451637
                        ],
                        "iteration": 155,
                        "passed_time": 1.943917636,
                        "remaining_time": 10.51709285,
                        "test": [
                          0.1239433821,
                          0.9662305262
                        ]
                      },
                      {
                        "learn": [
                          0.1273869443
                        ],
                        "iteration": 156,
                        "passed_time": 1.952471985,
                        "remaining_time": 10.48365531,
                        "test": [
                          0.1238730652,
                          0.9662442835
                        ]
                      },
                      {
                        "learn": [
                          0.1273503593
                        ],
                        "iteration": 157,
                        "passed_time": 1.961490963,
                        "remaining_time": 10.4530088,
                        "test": [
                          0.1238225449,
                          0.9662626202
                        ]
                      },
                      {
                        "learn": [
                          0.1271681333
                        ],
                        "iteration": 158,
                        "passed_time": 1.971153764,
                        "remaining_time": 10.42603972,
                        "test": [
                          0.1236913782,
                          0.9666828698
                        ]
                      },
                      {
                        "learn": [
                          0.1270970553
                        ],
                        "iteration": 159,
                        "passed_time": 1.980158092,
                        "remaining_time": 10.39582998,
                        "test": [
                          0.1236196533,
                          0.9671757729
                        ]
                      },
                      {
                        "learn": [
                          0.1269648944
                        ],
                        "iteration": 160,
                        "passed_time": 1.989560767,
                        "remaining_time": 10.36795952,
                        "test": [
                          0.1234727901,
                          0.9678165566
                        ]
                      },
                      {
                        "learn": [
                          0.1269426648
                        ],
                        "iteration": 161,
                        "passed_time": 1.998609195,
                        "remaining_time": 10.3384846,
                        "test": [
                          0.1234402306,
                          0.9677751184
                        ]
                      },
                      {
                        "learn": [
                          0.1268874204
                        ],
                        "iteration": 162,
                        "passed_time": 2.007361388,
                        "remaining_time": 10.30773915,
                        "test": [
                          0.1233788585,
                          0.9679227795
                        ]
                      },
                      {
                        "learn": [
                          0.1267461094
                        ],
                        "iteration": 163,
                        "passed_time": 2.016805244,
                        "remaining_time": 10.28078771,
                        "test": [
                          0.123335189,
                          0.9679384813
                        ]
                      },
                      {
                        "learn": [
                          0.1266146913
                        ],
                        "iteration": 164,
                        "passed_time": 2.040844229,
                        "remaining_time": 10.32790867,
                        "test": [
                          0.1232454299,
                          0.9688701758
                        ]
                      },
                      {
                        "learn": [
                          0.1265484827
                        ],
                        "iteration": 165,
                        "passed_time": 2.049513919,
                        "remaining_time": 10.29695547,
                        "test": [
                          0.1231511196,
                          0.9696643673
                        ]
                      },
                      {
                        "learn": [
                          0.1263793899
                        ],
                        "iteration": 166,
                        "passed_time": 2.059464426,
                        "remaining_time": 10.27265788,
                        "test": [
                          0.1230427196,
                          0.9704889035
                        ]
                      },
                      {
                        "learn": [
                          0.1263162692
                        ],
                        "iteration": 167,
                        "passed_time": 2.068137337,
                        "remaining_time": 10.24220395,
                        "test": [
                          0.1229861297,
                          0.9700574895
                        ]
                      },
                      {
                        "learn": [
                          0.1262737076
                        ],
                        "iteration": 168,
                        "passed_time": 2.076860739,
                        "remaining_time": 10.21225606,
                        "test": [
                          0.1229465826,
                          0.9700574895
                        ]
                      },
                      {
                        "learn": [
                          0.1262190675
                        ],
                        "iteration": 169,
                        "passed_time": 2.08554398,
                        "remaining_time": 10.18236178,
                        "test": [
                          0.122925342,
                          0.9700574895
                        ]
                      },
                      {
                        "learn": [
                          0.1260934363
                        ],
                        "iteration": 170,
                        "passed_time": 2.094499387,
                        "remaining_time": 10.15403504,
                        "test": [
                          0.1228253309,
                          0.9698773578
                        ]
                      },
                      {
                        "learn": [
                          0.126038521
                        ],
                        "iteration": 171,
                        "passed_time": 2.105299419,
                        "remaining_time": 10.13481348,
                        "test": [
                          0.1227498646,
                          0.9696487709
                        ]
                      },
                      {
                        "learn": [
                          0.1259746592
                        ],
                        "iteration": 172,
                        "passed_time": 2.122715683,
                        "remaining_time": 10.14731717,
                        "test": [
                          0.1227034407,
                          0.9696974492
                        ]
                      },
                      {
                        "learn": [
                          0.1258823348
                        ],
                        "iteration": 173,
                        "passed_time": 2.131335383,
                        "remaining_time": 10.11771854,
                        "test": [
                          0.1225800007,
                          0.9705262436
                        ]
                      },
                      {
                        "learn": [
                          0.1258632476
                        ],
                        "iteration": 174,
                        "passed_time": 2.140248149,
                        "remaining_time": 10.08974127,
                        "test": [
                          0.1225523566,
                          0.970289052
                        ]
                      },
                      {
                        "learn": [
                          0.1257454334
                        ],
                        "iteration": 175,
                        "passed_time": 2.149265266,
                        "remaining_time": 10.0624692,
                        "test": [
                          0.1224938075,
                          0.970502973
                        ]
                      },
                      {
                        "learn": [
                          0.1257030874
                        ],
                        "iteration": 176,
                        "passed_time": 2.158711092,
                        "remaining_time": 10.03739677,
                        "test": [
                          0.1224291277,
                          0.970502973
                        ]
                      },
                      {
                        "learn": [
                          0.1256495245
                        ],
                        "iteration": 177,
                        "passed_time": 2.167498235,
                        "remaining_time": 10.00945814,
                        "test": [
                          0.1223522771,
                          0.970502973
                        ]
                      },
                      {
                        "learn": [
                          0.1254840167
                        ],
                        "iteration": 178,
                        "passed_time": 2.17740012,
                        "remaining_time": 9.986846362,
                        "test": [
                          0.1221913942,
                          0.9708119199
                        ]
                      },
                      {
                        "learn": [
                          0.1254316293
                        ],
                        "iteration": 179,
                        "passed_time": 2.186422568,
                        "remaining_time": 9.960369477,
                        "test": [
                          0.122113368,
                          0.9705747283
                        ]
                      },
                      {
                        "learn": [
                          0.1252878984
                        ],
                        "iteration": 180,
                        "passed_time": 2.196044348,
                        "remaining_time": 9.936797354,
                        "test": [
                          0.1220451851,
                          0.9710866557
                        ]
                      },
                      {
                        "learn": [
                          0.1252368484
                        ],
                        "iteration": 181,
                        "passed_time": 2.20472647,
                        "remaining_time": 9.909155231,
                        "test": [
                          0.1220132117,
                          0.9701671111
                        ]
                      },
                      {
                        "learn": [
                          0.1251782342
                        ],
                        "iteration": 182,
                        "passed_time": 2.214864319,
                        "remaining_time": 9.888219393,
                        "test": [
                          0.1219880559,
                          0.9704043027
                        ]
                      },
                      {
                        "learn": [
                          0.125031567
                        ],
                        "iteration": 183,
                        "passed_time": 2.224275055,
                        "remaining_time": 9.864176331,
                        "test": [
                          0.1218751185,
                          0.9716609772
                        ]
                      },
                      {
                        "learn": [
                          0.1248400567
                        ],
                        "iteration": 184,
                        "passed_time": 2.233799833,
                        "remaining_time": 9.840793857,
                        "test": [
                          0.1217155549,
                          0.9715288854
                        ]
                      },
                      {
                        "learn": [
                          0.1248227302
                        ],
                        "iteration": 185,
                        "passed_time": 2.242956263,
                        "remaining_time": 9.815948377,
                        "test": [
                          0.1216901706,
                          0.9715288854
                        ]
                      },
                      {
                        "learn": [
                          0.1246273386
                        ],
                        "iteration": 186,
                        "passed_time": 2.252456011,
                        "remaining_time": 9.792763297,
                        "test": [
                          0.121680696,
                          0.971459085
                        ]
                      },
                      {
                        "learn": [
                          0.1245111855
                        ],
                        "iteration": 187,
                        "passed_time": 2.265283283,
                        "remaining_time": 9.784095884,
                        "test": [
                          0.1215978568,
                          0.9715715676
                        ]
                      },
                      {
                        "learn": [
                          0.1244223572
                        ],
                        "iteration": 188,
                        "passed_time": 2.274603467,
                        "remaining_time": 9.760335512,
                        "test": [
                          0.1215794309,
                          0.9718159459
                        ]
                      },
                      {
                        "learn": [
                          0.1243761381
                        ],
                        "iteration": 189,
                        "passed_time": 2.2833829,
                        "remaining_time": 9.734421839,
                        "test": [
                          0.1215503305,
                          0.9726101373
                        ]
                      },
                      {
                        "learn": [
                          0.1242550552
                        ],
                        "iteration": 190,
                        "passed_time": 2.292908908,
                        "remaining_time": 9.711849772,
                        "test": [
                          0.1214278207,
                          0.9726396725
                        ]
                      },
                      {
                        "learn": [
                          0.1242147063
                        ],
                        "iteration": 191,
                        "passed_time": 2.301963716,
                        "remaining_time": 9.68743064,
                        "test": [
                          0.1213747555,
                          0.9726322722
                        ]
                      },
                      {
                        "learn": [
                          0.1240735646
                        ],
                        "iteration": 192,
                        "passed_time": 2.311098767,
                        "remaining_time": 9.663506242,
                        "test": [
                          0.1212889384,
                          0.9727404491
                        ]
                      },
                      {
                        "learn": [
                          0.1240171629
                        ],
                        "iteration": 193,
                        "passed_time": 2.319853679,
                        "remaining_time": 9.638154976,
                        "test": [
                          0.1212213759,
                          0.9727404491
                        ]
                      },
                      {
                        "learn": [
                          0.1238994211
                        ],
                        "iteration": 194,
                        "passed_time": 2.328994909,
                        "remaining_time": 9.614568729,
                        "test": [
                          0.1211370857,
                          0.9717412808
                        ]
                      },
                      {
                        "learn": [
                          0.1237971391
                        ],
                        "iteration": 195,
                        "passed_time": 2.338544948,
                        "remaining_time": 9.592806826,
                        "test": [
                          0.1210353438,
                          0.9716939499
                        ]
                      },
                      {
                        "learn": [
                          0.1237065501
                        ],
                        "iteration": 196,
                        "passed_time": 2.347765289,
                        "remaining_time": 9.569825011,
                        "test": [
                          0.1209862026,
                          0.9716939499
                        ]
                      },
                      {
                        "learn": [
                          0.1236659661
                        ],
                        "iteration": 197,
                        "passed_time": 2.356114854,
                        "remaining_time": 9.543455115,
                        "test": [
                          0.120937987,
                          0.9716939499
                        ]
                      },
                      {
                        "learn": [
                          0.1234818483
                        ],
                        "iteration": 198,
                        "passed_time": 2.365280844,
                        "remaining_time": 9.520552543,
                        "test": [
                          0.120797341,
                          0.9724650119
                        ]
                      },
                      {
                        "learn": [
                          0.1233397519
                        ],
                        "iteration": 199,
                        "passed_time": 2.374343572,
                        "remaining_time": 9.49737429,
                        "test": [
                          0.1207077628,
                          0.9720613374
                        ]
                      },
                      {
                        "learn": [
                          0.1232848449
                        ],
                        "iteration": 200,
                        "passed_time": 2.383092835,
                        "remaining_time": 9.473090424,
                        "test": [
                          0.1206303183,
                          0.9720613374
                        ]
                      },
                      {
                        "learn": [
                          0.1231557774
                        ],
                        "iteration": 201,
                        "passed_time": 2.392785336,
                        "remaining_time": 9.452686624,
                        "test": [
                          0.1204931125,
                          0.9721933747
                        ]
                      },
                      {
                        "learn": [
                          0.1230744857
                        ],
                        "iteration": 202,
                        "passed_time": 2.401851595,
                        "remaining_time": 9.429929659,
                        "test": [
                          0.1204199187,
                          0.9718708096
                        ]
                      },
                      {
                        "learn": [
                          0.1230255008
                        ],
                        "iteration": 203,
                        "passed_time": 2.410806731,
                        "remaining_time": 9.406873323,
                        "test": [
                          0.1203806545,
                          0.9718708096
                        ]
                      },
                      {
                        "learn": [
                          0.1229798017
                        ],
                        "iteration": 204,
                        "passed_time": 2.41989719,
                        "remaining_time": 9.384479348,
                        "test": [
                          0.1203296061,
                          0.9718708096
                        ]
                      },
                      {
                        "learn": [
                          0.1228678045
                        ],
                        "iteration": 205,
                        "passed_time": 2.428889988,
                        "remaining_time": 9.361838108,
                        "test": [
                          0.1202253354,
                          0.9719279139
                        ]
                      },
                      {
                        "learn": [
                          0.1227651107
                        ],
                        "iteration": 206,
                        "passed_time": 2.437784153,
                        "remaining_time": 9.338950886,
                        "test": [
                          0.1201290084,
                          0.9719096399
                        ]
                      },
                      {
                        "learn": [
                          0.1226833954
                        ],
                        "iteration": 207,
                        "passed_time": 2.447002505,
                        "remaining_time": 9.317432615,
                        "test": [
                          0.1201116616,
                          0.9718942781
                        ]
                      },
                      {
                        "learn": [
                          0.1226405392
                        ],
                        "iteration": 208,
                        "passed_time": 2.455475912,
                        "remaining_time": 9.293212662,
                        "test": [
                          0.1200841191,
                          0.9719777877
                        ]
                      },
                      {
                        "learn": [
                          0.12257021
                        ],
                        "iteration": 209,
                        "passed_time": 2.464913118,
                        "remaining_time": 9.272768395,
                        "test": [
                          0.1199875072,
                          0.9721654401
                        ]
                      },
                      {
                        "learn": [
                          0.1224970276
                        ],
                        "iteration": 210,
                        "passed_time": 2.474114059,
                        "remaining_time": 9.251544988,
                        "test": [
                          0.1199482876,
                          0.971552352
                        ]
                      },
                      {
                        "learn": [
                          0.122378518
                        ],
                        "iteration": 211,
                        "passed_time": 2.482992044,
                        "remaining_time": 9.229234579,
                        "test": [
                          0.11989835,
                          0.9714729611
                        ]
                      },
                      {
                        "learn": [
                          0.1222766246
                        ],
                        "iteration": 212,
                        "passed_time": 2.491978601,
                        "remaining_time": 9.207451451,
                        "test": [
                          0.1198214989,
                          0.9721685389
                        ]
                      },
                      {
                        "learn": [
                          0.1221334332
                        ],
                        "iteration": 213,
                        "passed_time": 2.500760284,
                        "remaining_time": 9.185035437,
                        "test": [
                          0.1197140805,
                          0.9715141259
                        ]
                      },
                      {
                        "learn": [
                          0.1219998938
                        ],
                        "iteration": 214,
                        "passed_time": 2.510646139,
                        "remaining_time": 9.166777764,
                        "test": [
                          0.1195736509,
                          0.9715028828
                        ]
                      },
                      {
                        "learn": [
                          0.1219059526
                        ],
                        "iteration": 215,
                        "passed_time": 2.519629557,
                        "remaining_time": 9.145322094,
                        "test": [
                          0.119445292,
                          0.9719342967
                        ]
                      },
                      {
                        "learn": [
                          0.1217703193
                        ],
                        "iteration": 216,
                        "passed_time": 2.529195255,
                        "remaining_time": 9.126082418,
                        "test": [
                          0.1193064447,
                          0.972773146
                        ]
                      },
                      {
                        "learn": [
                          0.1216179969
                        ],
                        "iteration": 217,
                        "passed_time": 2.538505649,
                        "remaining_time": 9.106015675,
                        "test": [
                          0.1192039458,
                          0.9734077112
                        ]
                      },
                      {
                        "learn": [
                          0.1215491929
                        ],
                        "iteration": 218,
                        "passed_time": 2.548091638,
                        "remaining_time": 9.087029995,
                        "test": [
                          0.1191835435,
                          0.9734077112
                        ]
                      },
                      {
                        "learn": [
                          0.1214874742
                        ],
                        "iteration": 219,
                        "passed_time": 2.55732925,
                        "remaining_time": 9.066894613,
                        "test": [
                          0.1191456389,
                          0.9734531213
                        ]
                      },
                      {
                        "learn": [
                          0.1214491697
                        ],
                        "iteration": 220,
                        "passed_time": 2.566199374,
                        "remaining_time": 9.0455625,
                        "test": [
                          0.1191209342,
                          0.9727845158
                        ]
                      },
                      {
                        "learn": [
                          0.1213574085
                        ],
                        "iteration": 221,
                        "passed_time": 2.579536027,
                        "remaining_time": 9.039995627,
                        "test": [
                          0.1190256125,
                          0.9733275353
                        ]
                      },
                      {
                        "learn": [
                          0.1212420275
                        ],
                        "iteration": 222,
                        "passed_time": 2.591067475,
                        "remaining_time": 9.028069184,
                        "test": [
                          0.1189180168,
                          0.9740519324
                        ]
                      },
                      {
                        "learn": [
                          0.1211191028
                        ],
                        "iteration": 223,
                        "passed_time": 2.602752895,
                        "remaining_time": 9.016679672,
                        "test": [
                          0.1187854753,
                          0.9741414902
                        ]
                      },
                      {
                        "learn": [
                          0.1210418028
                        ],
                        "iteration": 224,
                        "passed_time": 2.611751123,
                        "remaining_time": 8.996031644,
                        "test": [
                          0.1187428634,
                          0.9741639456
                        ]
                      },
                      {
                        "learn": [
                          0.1209682329
                        ],
                        "iteration": 225,
                        "passed_time": 2.62075557,
                        "remaining_time": 8.975508013,
                        "test": [
                          0.1186484245,
                          0.9741542766
                        ]
                      },
                      {
                        "learn": [
                          0.1209054523
                        ],
                        "iteration": 226,
                        "passed_time": 2.629766907,
                        "remaining_time": 8.955109336,
                        "test": [
                          0.118627658,
                          0.9741644487
                        ]
                      },
                      {
                        "learn": [
                          0.1207540935
                        ],
                        "iteration": 227,
                        "passed_time": 2.638965779,
                        "remaining_time": 8.935445531,
                        "test": [
                          0.118508514,
                          0.9742065831
                        ]
                      },
                      {
                        "learn": [
                          0.1207297376
                        ],
                        "iteration": 228,
                        "passed_time": 2.647975026,
                        "remaining_time": 8.915234696,
                        "test": [
                          0.1184877614,
                          0.9741725427
                        ]
                      },
                      {
                        "learn": [
                          0.1206869995
                        ],
                        "iteration": 229,
                        "passed_time": 2.65678897,
                        "remaining_time": 8.894467421,
                        "test": [
                          0.1184340525,
                          0.9741725427
                        ]
                      },
                      {
                        "learn": [
                          0.1206471447
                        ],
                        "iteration": 230,
                        "passed_time": 2.666084633,
                        "remaining_time": 8.875407286,
                        "test": [
                          0.1183889912,
                          0.9744863051
                        ]
                      },
                      {
                        "learn": [
                          0.1205829273
                        ],
                        "iteration": 231,
                        "passed_time": 2.67456377,
                        "remaining_time": 8.853728343,
                        "test": [
                          0.1183120331,
                          0.9745452399
                        ]
                      },
                      {
                        "learn": [
                          0.1204919516
                        ],
                        "iteration": 232,
                        "passed_time": 2.683598108,
                        "remaining_time": 8.833990339,
                        "test": [
                          0.1182517163,
                          0.9746063646
                        ]
                      },
                      {
                        "learn": [
                          0.1204017294
                        ],
                        "iteration": 233,
                        "passed_time": 2.692258129,
                        "remaining_time": 8.813118491,
                        "test": [
                          0.1181519373,
                          0.9745860717
                        ]
                      },
                      {
                        "learn": [
                          0.1203064867
                        ],
                        "iteration": 234,
                        "passed_time": 2.701374499,
                        "remaining_time": 8.793836135,
                        "test": [
                          0.1180596231,
                          0.9747910485
                        ]
                      },
                      {
                        "learn": [
                          0.1201073785
                        ],
                        "iteration": 235,
                        "passed_time": 2.712460277,
                        "remaining_time": 8.781015474,
                        "test": [
                          0.1178815626,
                          0.975465499
                        ]
                      },
                      {
                        "learn": [
                          0.1199833353
                        ],
                        "iteration": 236,
                        "passed_time": 2.721702979,
                        "remaining_time": 8.762275837,
                        "test": [
                          0.1177910839,
                          0.975465499
                        ]
                      },
                      {
                        "learn": [
                          0.1198782885
                        ],
                        "iteration": 237,
                        "passed_time": 2.731250047,
                        "remaining_time": 8.744590487,
                        "test": [
                          0.117765867,
                          0.9754532273
                        ]
                      },
                      {
                        "learn": [
                          0.1198340345
                        ],
                        "iteration": 238,
                        "passed_time": 2.740230034,
                        "remaining_time": 8.725167598,
                        "test": [
                          0.1177337416,
                          0.9754532273
                        ]
                      },
                      {
                        "learn": [
                          0.1197209195
                        ],
                        "iteration": 239,
                        "passed_time": 2.749628899,
                        "remaining_time": 8.707158181,
                        "test": [
                          0.117659895,
                          0.9754278196
                        ]
                      },
                      {
                        "learn": [
                          0.11958395
                        ],
                        "iteration": 240,
                        "passed_time": 2.759043505,
                        "remaining_time": 8.689269794,
                        "test": [
                          0.1175965596,
                          0.9756697448
                        ]
                      },
                      {
                        "learn": [
                          0.119480098
                        ],
                        "iteration": 241,
                        "passed_time": 2.768189095,
                        "remaining_time": 8.67060882,
                        "test": [
                          0.1175187289,
                          0.9759835072
                        ]
                      },
                      {
                        "learn": [
                          0.1194022296
                        ],
                        "iteration": 242,
                        "passed_time": 2.777128812,
                        "remaining_time": 8.651384818,
                        "test": [
                          0.1174141019,
                          0.976042442
                        ]
                      },
                      {
                        "learn": [
                          0.1193534577
                        ],
                        "iteration": 243,
                        "passed_time": 2.785761342,
                        "remaining_time": 8.631293339,
                        "test": [
                          0.1173887286,
                          0.9758736908
                        ]
                      },
                      {
                        "learn": [
                          0.1193181824
                        ],
                        "iteration": 244,
                        "passed_time": 2.794645948,
                        "remaining_time": 8.612072206,
                        "test": [
                          0.1173645814,
                          0.9758736908
                        ]
                      },
                      {
                        "learn": [
                          0.119239875
                        ],
                        "iteration": 245,
                        "passed_time": 2.814458678,
                        "remaining_time": 8.626430257,
                        "test": [
                          0.1172742916,
                          0.9757942999
                        ]
                      },
                      {
                        "learn": [
                          0.1191671372
                        ],
                        "iteration": 246,
                        "passed_time": 2.830351931,
                        "remaining_time": 8.62856277,
                        "test": [
                          0.1172196242,
                          0.9759788207
                        ]
                      },
                      {
                        "learn": [
                          0.1190452093
                        ],
                        "iteration": 247,
                        "passed_time": 2.852379966,
                        "remaining_time": 8.649152154,
                        "test": [
                          0.1170806506,
                          0.9759788207
                        ]
                      },
                      {
                        "learn": [
                          0.1190116273
                        ],
                        "iteration": 248,
                        "passed_time": 2.865950453,
                        "remaining_time": 8.643890725,
                        "test": [
                          0.1170608934,
                          0.9759788207
                        ]
                      },
                      {
                        "learn": [
                          0.1188837066
                        ],
                        "iteration": 249,
                        "passed_time": 2.876876329,
                        "remaining_time": 8.630628986,
                        "test": [
                          0.1168884353,
                          0.9759280053
                        ]
                      },
                      {
                        "learn": [
                          0.1187194096
                        ],
                        "iteration": 250,
                        "passed_time": 2.889455196,
                        "remaining_time": 8.622318495,
                        "test": [
                          0.1167614036,
                          0.975953413
                        ]
                      },
                      {
                        "learn": [
                          0.1186915508
                        ],
                        "iteration": 251,
                        "passed_time": 2.912184214,
                        "remaining_time": 8.644102351,
                        "test": [
                          0.1167335851,
                          0.975953413
                        ]
                      },
                      {
                        "learn": [
                          0.118640429
                        ],
                        "iteration": 252,
                        "passed_time": 2.930189129,
                        "remaining_time": 8.651586085,
                        "test": [
                          0.1167321787,
                          0.9759621776
                        ]
                      },
                      {
                        "learn": [
                          0.118602221
                        ],
                        "iteration": 253,
                        "passed_time": 2.948923758,
                        "remaining_time": 8.661012298,
                        "test": [
                          0.1166851018,
                          0.975552224
                        ]
                      },
                      {
                        "learn": [
                          0.118497995
                        ],
                        "iteration": 254,
                        "passed_time": 2.973203237,
                        "remaining_time": 8.6864173,
                        "test": [
                          0.1165910592,
                          0.9755268164
                        ]
                      },
                      {
                        "learn": [
                          0.1184555556
                        ],
                        "iteration": 255,
                        "passed_time": 2.996061527,
                        "remaining_time": 8.707303814,
                        "test": [
                          0.1165357377,
                          0.9755268164
                        ]
                      },
                      {
                        "learn": [
                          0.1183487622
                        ],
                        "iteration": 256,
                        "passed_time": 3.009635685,
                        "remaining_time": 8.701009004,
                        "test": [
                          0.116440113,
                          0.9752896248
                        ]
                      },
                      {
                        "learn": [
                          0.1182929603
                        ],
                        "iteration": 257,
                        "passed_time": 3.049388248,
                        "remaining_time": 8.769946048,
                        "test": [
                          0.1163754096,
                          0.9753690156
                        ]
                      },
                      {
                        "learn": [
                          0.1182372959
                        ],
                        "iteration": 258,
                        "passed_time": 3.075518933,
                        "remaining_time": 8.799071543,
                        "test": [
                          0.1163302213,
                          0.9754062721
                        ]
                      },
                      {
                        "learn": [
                          0.1182060103
                        ],
                        "iteration": 259,
                        "passed_time": 3.101806571,
                        "remaining_time": 8.828218703,
                        "test": [
                          0.1163159078,
                          0.9754062721
                        ]
                      },
                      {
                        "learn": [
                          0.1181194201
                        ],
                        "iteration": 260,
                        "passed_time": 3.126683732,
                        "remaining_time": 8.852947425,
                        "test": [
                          0.1162926961,
                          0.9755903786
                        ]
                      },
                      {
                        "learn": [
                          0.1180897629
                        ],
                        "iteration": 261,
                        "passed_time": 3.145052624,
                        "remaining_time": 8.858965025,
                        "test": [
                          0.1162822762,
                          0.9755903786
                        ]
                      },
                      {
                        "learn": [
                          0.1180216316
                        ],
                        "iteration": 262,
                        "passed_time": 3.16207419,
                        "remaining_time": 8.861021588,
                        "test": [
                          0.1162059133,
                          0.9756133602
                        ]
                      },
                      {
                        "learn": [
                          0.1178932553
                        ],
                        "iteration": 263,
                        "passed_time": 3.188673194,
                        "remaining_time": 8.889634358,
                        "test": [
                          0.1160639289,
                          0.9756133602
                        ]
                      },
                      {
                        "learn": [
                          0.1177954477
                        ],
                        "iteration": 264,
                        "passed_time": 3.210952643,
                        "remaining_time": 8.905849783,
                        "test": [
                          0.1159685316,
                          0.9760439036
                        ]
                      },
                      {
                        "learn": [
                          0.117736943
                        ],
                        "iteration": 265,
                        "passed_time": 3.237763852,
                        "remaining_time": 8.934280703,
                        "test": [
                          0.1159260005,
                          0.9760596202
                        ]
                      },
                      {
                        "learn": [
                          0.1176374948
                        ],
                        "iteration": 266,
                        "passed_time": 3.262747134,
                        "remaining_time": 8.957279586,
                        "test": [
                          0.1158282887,
                          0.9762001305
                        ]
                      },
                      {
                        "learn": [
                          0.1175873476
                        ],
                        "iteration": 267,
                        "passed_time": 3.283747868,
                        "remaining_time": 8.969042685,
                        "test": [
                          0.1157708639,
                          0.9762001305
                        ]
                      },
                      {
                        "learn": [
                          0.117491823
                        ],
                        "iteration": 268,
                        "passed_time": 3.310592247,
                        "remaining_time": 8.996442129,
                        "test": [
                          0.1156781191,
                          0.9762097686
                        ]
                      },
                      {
                        "learn": [
                          0.1174384524
                        ],
                        "iteration": 269,
                        "passed_time": 3.332442168,
                        "remaining_time": 9.009936232,
                        "test": [
                          0.1156299224,
                          0.976186261
                        ]
                      },
                      {
                        "learn": [
                          0.1173728381
                        ],
                        "iteration": 270,
                        "passed_time": 3.353580155,
                        "remaining_time": 9.021254365,
                        "test": [
                          0.1155879799,
                          0.9761995516
                        ]
                      },
                      {
                        "learn": [
                          0.117295248
                        ],
                        "iteration": 271,
                        "passed_time": 3.381370133,
                        "remaining_time": 9.050137708,
                        "test": [
                          0.1155141912,
                          0.9760541183
                        ]
                      },
                      {
                        "learn": [
                          0.1171849987
                        ],
                        "iteration": 272,
                        "passed_time": 3.403650062,
                        "remaining_time": 9.063932583,
                        "test": [
                          0.1154012292,
                          0.9760585955
                        ]
                      },
                      {
                        "learn": [
                          0.1171088316
                        ],
                        "iteration": 273,
                        "passed_time": 3.416469354,
                        "remaining_time": 9.052396902,
                        "test": [
                          0.1153430555,
                          0.9761175303
                        ]
                      },
                      {
                        "learn": [
                          0.1170767408
                        ],
                        "iteration": 274,
                        "passed_time": 3.437437448,
                        "remaining_time": 9.062335089,
                        "test": [
                          0.1153179897,
                          0.9761175303
                        ]
                      },
                      {
                        "learn": [
                          0.1170507334
                        ],
                        "iteration": 275,
                        "passed_time": 3.456588215,
                        "remaining_time": 9.06728213,
                        "test": [
                          0.1152971846,
                          0.9761175303
                        ]
                      },
                      {
                        "learn": [
                          0.1169472415
                        ],
                        "iteration": 276,
                        "passed_time": 3.47409021,
                        "remaining_time": 9.067751704,
                        "test": [
                          0.1151916745,
                          0.9762629637
                        ]
                      },
                      {
                        "learn": [
                          0.1167824546
                        ],
                        "iteration": 277,
                        "passed_time": 3.504892997,
                        "remaining_time": 9.10263577,
                        "test": [
                          0.1150799395,
                          0.9762817408
                        ]
                      },
                      {
                        "learn": [
                          0.1166601367
                        ],
                        "iteration": 278,
                        "passed_time": 3.522368502,
                        "remaining_time": 9.102608207,
                        "test": [
                          0.1149453112,
                          0.976261893
                        ]
                      },
                      {
                        "learn": [
                          0.1165660833
                        ],
                        "iteration": 279,
                        "passed_time": 3.539761765,
                        "remaining_time": 9.102244538,
                        "test": [
                          0.1148873647,
                          0.976261893
                        ]
                      },
                      {
                        "learn": [
                          0.1165598708
                        ],
                        "iteration": 280,
                        "passed_time": 3.560945742,
                        "remaining_time": 9.111459034,
                        "test": [
                          0.1148837937,
                          0.976261893
                        ]
                      },
                      {
                        "learn": [
                          0.1164895125
                        ],
                        "iteration": 281,
                        "passed_time": 3.581507917,
                        "remaining_time": 9.118874768,
                        "test": [
                          0.1148461095,
                          0.9762817408
                        ]
                      },
                      {
                        "learn": [
                          0.1163725234
                        ],
                        "iteration": 282,
                        "passed_time": 3.602652184,
                        "remaining_time": 9.127567548,
                        "test": [
                          0.1147747556,
                          0.975625407
                        ]
                      },
                      {
                        "learn": [
                          0.1163378942
                        ],
                        "iteration": 283,
                        "passed_time": 3.625132187,
                        "remaining_time": 9.139417768,
                        "test": [
                          0.1147550399,
                          0.975625407
                        ]
                      },
                      {
                        "learn": [
                          0.1162224378
                        ],
                        "iteration": 284,
                        "passed_time": 3.652275452,
                        "remaining_time": 9.162726135,
                        "test": [
                          0.114644168,
                          0.9757678124
                        ]
                      },
                      {
                        "learn": [
                          0.116185204
                        ],
                        "iteration": 285,
                        "passed_time": 3.664622686,
                        "remaining_time": 9.148743348,
                        "test": [
                          0.1146031896,
                          0.9757678124
                        ]
                      },
                      {
                        "learn": [
                          0.1161344548
                        ],
                        "iteration": 286,
                        "passed_time": 3.68616236,
                        "remaining_time": 9.15760893,
                        "test": [
                          0.1145366062,
                          0.9764364179
                        ]
                      },
                      {
                        "learn": [
                          0.116100121
                        ],
                        "iteration": 287,
                        "passed_time": 3.705249616,
                        "remaining_time": 9.16020044,
                        "test": [
                          0.1145063102,
                          0.9764364179
                        ]
                      },
                      {
                        "learn": [
                          0.11599689
                        ],
                        "iteration": 288,
                        "passed_time": 3.729590126,
                        "remaining_time": 9.17556602,
                        "test": [
                          0.1143903189,
                          0.9764496969
                        ]
                      },
                      {
                        "learn": [
                          0.1159286865
                        ],
                        "iteration": 289,
                        "passed_time": 3.75211461,
                        "remaining_time": 9.186211632,
                        "test": [
                          0.1143237873,
                          0.9767143835
                        ]
                      },
                      {
                        "learn": [
                          0.1158784793
                        ],
                        "iteration": 290,
                        "passed_time": 3.778244845,
                        "remaining_time": 9.205414417,
                        "test": [
                          0.1142959729,
                          0.9764771919
                        ]
                      },
                      {
                        "learn": [
                          0.1158390283
                        ],
                        "iteration": 291,
                        "passed_time": 3.80031897,
                        "remaining_time": 9.214472024,
                        "test": [
                          0.1142696307,
                          0.9764771919
                        ]
                      },
                      {
                        "learn": [
                          0.1157009063
                        ],
                        "iteration": 292,
                        "passed_time": 3.826877164,
                        "remaining_time": 9.234137047,
                        "test": [
                          0.1140874828,
                          0.9759487234
                        ]
                      },
                      {
                        "learn": [
                          0.1156155023
                        ],
                        "iteration": 293,
                        "passed_time": 3.854494518,
                        "remaining_time": 9.256031054,
                        "test": [
                          0.1139843127,
                          0.9758374144
                        ]
                      },
                      {
                        "learn": [
                          0.1155282474
                        ],
                        "iteration": 294,
                        "passed_time": 3.877971911,
                        "remaining_time": 9.267695584,
                        "test": [
                          0.1139096491,
                          0.9759827638
                        ]
                      },
                      {
                        "learn": [
                          0.1154258514
                        ],
                        "iteration": 295,
                        "passed_time": 3.904256739,
                        "remaining_time": 9.285799811,
                        "test": [
                          0.1138001554,
                          0.9765120358
                        ]
                      },
                      {
                        "learn": [
                          0.115266235
                        ],
                        "iteration": 296,
                        "passed_time": 3.924246893,
                        "remaining_time": 9.288705608,
                        "test": [
                          0.1136082907,
                          0.9767831501
                        ]
                      },
                      {
                        "learn": [
                          0.115248465
                        ],
                        "iteration": 297,
                        "passed_time": 3.936876452,
                        "remaining_time": 9.274118353,
                        "test": [
                          0.113600746,
                          0.9767831501
                        ]
                      },
                      {
                        "learn": [
                          0.1152141202
                        ],
                        "iteration": 298,
                        "passed_time": 3.945862799,
                        "remaining_time": 9.251002749,
                        "test": [
                          0.1135559275,
                          0.9767880415
                        ]
                      },
                      {
                        "learn": [
                          0.1151759685
                        ],
                        "iteration": 299,
                        "passed_time": 3.955088231,
                        "remaining_time": 9.228539205,
                        "test": [
                          0.1135127026,
                          0.976816066
                        ]
                      },
                      {
                        "learn": [
                          0.115146204
                        ],
                        "iteration": 300,
                        "passed_time": 3.963581629,
                        "remaining_time": 9.204463649,
                        "test": [
                          0.1134964703,
                          0.976816066
                        ]
                      },
                      {
                        "learn": [
                          0.1150752753
                        ],
                        "iteration": 301,
                        "passed_time": 3.97225842,
                        "remaining_time": 9.180915155,
                        "test": [
                          0.1134485872,
                          0.9769327489
                        ]
                      },
                      {
                        "learn": [
                          0.1150492642
                        ],
                        "iteration": 302,
                        "passed_time": 3.980726287,
                        "remaining_time": 9.15698423,
                        "test": [
                          0.1134247295,
                          0.9769327489
                        ]
                      },
                      {
                        "learn": [
                          0.1149730486
                        ],
                        "iteration": 303,
                        "passed_time": 3.99001961,
                        "remaining_time": 9.135044896,
                        "test": [
                          0.1133464619,
                          0.9769262975
                        ]
                      },
                      {
                        "learn": [
                          0.1149226355
                        ],
                        "iteration": 304,
                        "passed_time": 3.999122269,
                        "remaining_time": 9.112754023,
                        "test": [
                          0.1132885646,
                          0.977594903
                        ]
                      },
                      {
                        "learn": [
                          0.1148996749
                        ],
                        "iteration": 305,
                        "passed_time": 4.009136646,
                        "remaining_time": 9.0926171,
                        "test": [
                          0.1132765557,
                          0.977594903
                        ]
                      },
                      {
                        "learn": [
                          0.1148343014
                        ],
                        "iteration": 306,
                        "passed_time": 4.018274596,
                        "remaining_time": 9.070567737,
                        "test": [
                          0.1132083968,
                          0.9775625327
                        ]
                      },
                      {
                        "learn": [
                          0.1146408242
                        ],
                        "iteration": 307,
                        "passed_time": 4.045274449,
                        "remaining_time": 9.088733502,
                        "test": [
                          0.113009,
                          0.9775751807
                        ]
                      },
                      {
                        "learn": [
                          0.1145782764
                        ],
                        "iteration": 308,
                        "passed_time": 4.055663164,
                        "remaining_time": 9.069460343,
                        "test": [
                          0.1130036388,
                          0.9775751807
                        ]
                      },
                      {
                        "learn": [
                          0.1145618483
                        ],
                        "iteration": 309,
                        "passed_time": 4.066569468,
                        "remaining_time": 9.051396558,
                        "test": [
                          0.1129974004,
                          0.9775751807
                        ]
                      },
                      {
                        "learn": [
                          0.1145285996
                        ],
                        "iteration": 310,
                        "passed_time": 4.075077546,
                        "remaining_time": 9.028065688,
                        "test": [
                          0.1129771017,
                          0.9776341155
                        ]
                      },
                      {
                        "learn": [
                          0.114432432
                        ],
                        "iteration": 311,
                        "passed_time": 4.084123714,
                        "remaining_time": 9.006016395,
                        "test": [
                          0.112879538,
                          0.9776217208
                        ]
                      },
                      {
                        "learn": [
                          0.1143645222
                        ],
                        "iteration": 312,
                        "passed_time": 4.093650641,
                        "remaining_time": 8.985105401,
                        "test": [
                          0.1128159191,
                          0.9774892529
                        ]
                      },
                      {
                        "learn": [
                          0.1141454876
                        ],
                        "iteration": 313,
                        "passed_time": 4.103597808,
                        "remaining_time": 8.965185019,
                        "test": [
                          0.1127565642,
                          0.9774769812
                        ]
                      },
                      {
                        "learn": [
                          0.1141177578
                        ],
                        "iteration": 314,
                        "passed_time": 4.11233336,
                        "remaining_time": 8.942693179,
                        "test": [
                          0.112741597,
                          0.9774769812
                        ]
                      },
                      {
                        "learn": [
                          0.1140499932
                        ],
                        "iteration": 315,
                        "passed_time": 4.121654393,
                        "remaining_time": 8.921555712,
                        "test": [
                          0.1126747228,
                          0.9774769812
                        ]
                      },
                      {
                        "learn": [
                          0.1139958684
                        ],
                        "iteration": 316,
                        "passed_time": 4.130076229,
                        "remaining_time": 8.898555409,
                        "test": [
                          0.1126116931,
                          0.9774769812
                        ]
                      },
                      {
                        "learn": [
                          0.113853876
                        ],
                        "iteration": 317,
                        "passed_time": 4.139515225,
                        "remaining_time": 8.877828251,
                        "test": [
                          0.1124647374,
                          0.977392138
                        ]
                      },
                      {
                        "learn": [
                          0.1138211827
                        ],
                        "iteration": 318,
                        "passed_time": 4.148079154,
                        "remaining_time": 8.855303774,
                        "test": [
                          0.1124253092,
                          0.977392138
                        ]
                      },
                      {
                        "learn": [
                          0.1137903216
                        ],
                        "iteration": 319,
                        "passed_time": 4.159924128,
                        "remaining_time": 8.839838772,
                        "test": [
                          0.1124024244,
                          0.977392138
                        ]
                      },
                      {
                        "learn": [
                          0.1136841625
                        ],
                        "iteration": 320,
                        "passed_time": 4.169388655,
                        "remaining_time": 8.819361048,
                        "test": [
                          0.1123221067,
                          0.9775864073
                        ]
                      },
                      {
                        "learn": [
                          0.1136494401
                        ],
                        "iteration": 321,
                        "passed_time": 4.178975243,
                        "remaining_time": 8.799208742,
                        "test": [
                          0.112287915,
                          0.9775797893
                        ]
                      },
                      {
                        "learn": [
                          0.1136248569
                        ],
                        "iteration": 322,
                        "passed_time": 4.188047112,
                        "remaining_time": 8.778043017,
                        "test": [
                          0.1122711856,
                          0.9775862407
                        ]
                      },
                      {
                        "learn": [
                          0.1135861323
                        ],
                        "iteration": 323,
                        "passed_time": 4.197197412,
                        "remaining_time": 8.757115588,
                        "test": [
                          0.1122355777,
                          0.9775797893
                        ]
                      },
                      {
                        "learn": [
                          0.1134645422
                        ],
                        "iteration": 324,
                        "passed_time": 4.207008105,
                        "remaining_time": 8.737632218,
                        "test": [
                          0.1122127578,
                          0.9781881033
                        ]
                      },
                      {
                        "learn": [
                          0.1134368236
                        ],
                        "iteration": 325,
                        "passed_time": 4.21638748,
                        "remaining_time": 8.717316446,
                        "test": [
                          0.1121744904,
                          0.9781881033
                        ]
                      },
                      {
                        "learn": [
                          0.1134219251
                        ],
                        "iteration": 326,
                        "passed_time": 4.225790735,
                        "remaining_time": 8.697116712,
                        "test": [
                          0.1121694199,
                          0.9781881033
                        ]
                      },
                      {
                        "learn": [
                          0.1134017918
                        ],
                        "iteration": 327,
                        "passed_time": 4.23463966,
                        "remaining_time": 8.675847108,
                        "test": [
                          0.1121493124,
                          0.9781881033
                        ]
                      },
                      {
                        "learn": [
                          0.113325747
                        ],
                        "iteration": 328,
                        "passed_time": 4.243675598,
                        "remaining_time": 8.655034426,
                        "test": [
                          0.1120894072,
                          0.9781881033
                        ]
                      },
                      {
                        "learn": [
                          0.1131450191
                        ],
                        "iteration": 329,
                        "passed_time": 4.254986121,
                        "remaining_time": 8.638911215,
                        "test": [
                          0.1119728384,
                          0.978188987
                        ]
                      },
                      {
                        "learn": [
                          0.1129959885
                        ],
                        "iteration": 330,
                        "passed_time": 4.264799724,
                        "remaining_time": 8.619791587,
                        "test": [
                          0.1118555927,
                          0.9782685244
                        ]
                      },
                      {
                        "learn": [
                          0.1128379485
                        ],
                        "iteration": 331,
                        "passed_time": 4.274587147,
                        "remaining_time": 8.600675344,
                        "test": [
                          0.1116923238,
                          0.9780427068
                        ]
                      },
                      {
                        "learn": [
                          0.1128209335
                        ],
                        "iteration": 332,
                        "passed_time": 4.283663736,
                        "remaining_time": 8.580191327,
                        "test": [
                          0.1116747433,
                          0.9780265281
                        ]
                      },
                      {
                        "learn": [
                          0.1127878326
                        ],
                        "iteration": 333,
                        "passed_time": 4.293737504,
                        "remaining_time": 8.561764006,
                        "test": [
                          0.1116379866,
                          0.9780011204
                        ]
                      },
                      {
                        "learn": [
                          0.1126545224
                        ],
                        "iteration": 334,
                        "passed_time": 4.30465768,
                        "remaining_time": 8.545066737,
                        "test": [
                          0.1116019693,
                          0.9780749289
                        ]
                      },
                      {
                        "learn": [
                          0.1125798431
                        ],
                        "iteration": 335,
                        "passed_time": 4.313909402,
                        "remaining_time": 8.525106675,
                        "test": [
                          0.1115479445,
                          0.9780652379
                        ]
                      },
                      {
                        "learn": [
                          0.1124447879
                        ],
                        "iteration": 336,
                        "passed_time": 4.324213845,
                        "remaining_time": 8.507281243,
                        "test": [
                          0.1114432045,
                          0.9781118958
                        ]
                      },
                      {
                        "learn": [
                          0.1123801548
                        ],
                        "iteration": 337,
                        "passed_time": 4.334433896,
                        "remaining_time": 8.489335027,
                        "test": [
                          0.1113767699,
                          0.9780798036
                        ]
                      },
                      {
                        "learn": [
                          0.1122962006
                        ],
                        "iteration": 338,
                        "passed_time": 4.343936984,
                        "remaining_time": 8.470036419,
                        "test": [
                          0.1113029759,
                          0.9781058567
                        ]
                      },
                      {
                        "learn": [
                          0.1122615435
                        ],
                        "iteration": 339,
                        "passed_time": 4.353783038,
                        "remaining_time": 8.451461191,
                        "test": [
                          0.1112658275,
                          0.9781058567
                        ]
                      },
                      {
                        "learn": [
                          0.1122178852
                        ],
                        "iteration": 340,
                        "passed_time": 4.362739074,
                        "remaining_time": 8.431217155,
                        "test": [
                          0.1112266722,
                          0.978368456
                        ]
                      },
                      {
                        "learn": [
                          0.1120538862
                        ],
                        "iteration": 341,
                        "passed_time": 4.372445826,
                        "remaining_time": 8.412483489,
                        "test": [
                          0.1111793587,
                          0.9782024149
                        ]
                      },
                      {
                        "learn": [
                          0.1119911977
                        ],
                        "iteration": 342,
                        "passed_time": 4.381546045,
                        "remaining_time": 8.392640675,
                        "test": [
                          0.1111487213,
                          0.9780417303
                        ]
                      },
                      {
                        "learn": [
                          0.111959668
                        ],
                        "iteration": 343,
                        "passed_time": 4.390802157,
                        "remaining_time": 8.373157602,
                        "test": [
                          0.1111406101,
                          0.9780417303
                        ]
                      },
                      {
                        "learn": [
                          0.1119073019
                        ],
                        "iteration": 344,
                        "passed_time": 4.399848335,
                        "remaining_time": 8.353335246,
                        "test": [
                          0.1111342881,
                          0.9778250232
                        ]
                      },
                      {
                        "learn": [
                          0.1117926695
                        ],
                        "iteration": 345,
                        "passed_time": 4.409153189,
                        "remaining_time": 8.334064121,
                        "test": [
                          0.1110495576,
                          0.9783456008
                        ]
                      },
                      {
                        "learn": [
                          0.1117505083
                        ],
                        "iteration": 346,
                        "passed_time": 4.418175607,
                        "remaining_time": 8.314318938,
                        "test": [
                          0.1110381261,
                          0.9781084092
                        ]
                      },
                      {
                        "learn": [
                          0.1117247453
                        ],
                        "iteration": 347,
                        "passed_time": 4.426599173,
                        "remaining_time": 8.293513393,
                        "test": [
                          0.1110143644,
                          0.9780885614
                        ]
                      },
                      {
                        "learn": [
                          0.1116912236
                        ],
                        "iteration": 348,
                        "passed_time": 4.439288793,
                        "remaining_time": 8.280736402,
                        "test": [
                          0.1109960183,
                          0.9780885614
                        ]
                      },
                      {
                        "learn": [
                          0.1116470586
                        ],
                        "iteration": 349,
                        "passed_time": 4.44823532,
                        "remaining_time": 8.261008451,
                        "test": [
                          0.1109376799,
                          0.9780994439
                        ]
                      },
                      {
                        "learn": [
                          0.1115892659
                        ],
                        "iteration": 350,
                        "passed_time": 4.457159896,
                        "remaining_time": 8.241301345,
                        "test": [
                          0.1108783734,
                          0.9780777678
                        ]
                      },
                      {
                        "learn": [
                          0.1115804146
                        ],
                        "iteration": 351,
                        "passed_time": 4.465846386,
                        "remaining_time": 8.221217211,
                        "test": [
                          0.1108681706,
                          0.9780777678
                        ]
                      },
                      {
                        "learn": [
                          0.1115317411
                        ],
                        "iteration": 352,
                        "passed_time": 4.474974366,
                        "remaining_time": 8.202006841,
                        "test": [
                          0.1108238515,
                          0.9780837099
                        ]
                      },
                      {
                        "learn": [
                          0.1115023398
                        ],
                        "iteration": 353,
                        "passed_time": 4.483757609,
                        "remaining_time": 8.182224337,
                        "test": [
                          0.1107944417,
                          0.9780837099
                        ]
                      },
                      {
                        "learn": [
                          0.1113830964
                        ],
                        "iteration": 354,
                        "passed_time": 4.493223366,
                        "remaining_time": 8.163743861,
                        "test": [
                          0.1107005344,
                          0.9777477658
                        ]
                      },
                      {
                        "learn": [
                          0.1113632953
                        ],
                        "iteration": 355,
                        "passed_time": 4.501771974,
                        "remaining_time": 8.14365492,
                        "test": [
                          0.110672429,
                          0.9777477658
                        ]
                      },
                      {
                        "learn": [
                          0.1112953651
                        ],
                        "iteration": 356,
                        "passed_time": 4.510720861,
                        "remaining_time": 8.124351578,
                        "test": [
                          0.1105865954,
                          0.977716416
                        ]
                      },
                      {
                        "learn": [
                          0.1112699389
                        ],
                        "iteration": 357,
                        "passed_time": 4.519512854,
                        "remaining_time": 8.104824727,
                        "test": [
                          0.1105566423,
                          0.977716416
                        ]
                      },
                      {
                        "learn": [
                          0.1112299754
                        ],
                        "iteration": 358,
                        "passed_time": 4.528611574,
                        "remaining_time": 8.085905345,
                        "test": [
                          0.1105011226,
                          0.9776965682
                        ]
                      },
                      {
                        "learn": [
                          0.1111981953
                        ],
                        "iteration": 359,
                        "passed_time": 4.536985719,
                        "remaining_time": 8.065752389,
                        "test": [
                          0.1104835884,
                          0.9776965682
                        ]
                      },
                      {
                        "learn": [
                          0.111078252
                        ],
                        "iteration": 360,
                        "passed_time": 4.546873414,
                        "remaining_time": 8.0483438,
                        "test": [
                          0.1104419358,
                          0.9778215174
                        ]
                      },
                      {
                        "learn": [
                          0.1110237138
                        ],
                        "iteration": 361,
                        "passed_time": 4.55580556,
                        "remaining_time": 8.029292672,
                        "test": [
                          0.1103932498,
                          0.9778538878
                        ]
                      },
                      {
                        "learn": [
                          0.110975316
                        ],
                        "iteration": 362,
                        "passed_time": 4.565071913,
                        "remaining_time": 8.010883769,
                        "test": [
                          0.1103391155,
                          0.977895326
                        ]
                      },
                      {
                        "learn": [
                          0.1108973205
                        ],
                        "iteration": 363,
                        "passed_time": 4.576195102,
                        "remaining_time": 7.995769464,
                        "test": [
                          0.110283536,
                          0.977895326
                        ]
                      },
                      {
                        "learn": [
                          0.1107667311
                        ],
                        "iteration": 364,
                        "passed_time": 4.585646798,
                        "remaining_time": 7.977769087,
                        "test": [
                          0.1101637837,
                          0.9781325175
                        ]
                      },
                      {
                        "learn": [
                          0.1107360094
                        ],
                        "iteration": 365,
                        "passed_time": 4.596422271,
                        "remaining_time": 7.962108524,
                        "test": [
                          0.1101217382,
                          0.9781325175
                        ]
                      },
                      {
                        "learn": [
                          0.1107050153
                        ],
                        "iteration": 366,
                        "passed_time": 4.606513369,
                        "remaining_time": 7.945294177,
                        "test": [
                          0.110076885,
                          0.9781325175
                        ]
                      },
                      {
                        "learn": [
                          0.1106741352
                        ],
                        "iteration": 367,
                        "passed_time": 4.619312642,
                        "remaining_time": 7.933167363,
                        "test": [
                          0.1100443677,
                          0.9781325175
                        ]
                      },
                      {
                        "learn": [
                          0.1104896516
                        ],
                        "iteration": 368,
                        "passed_time": 4.633744027,
                        "remaining_time": 7.923827861,
                        "test": [
                          0.1099375622,
                          0.9782669308
                        ]
                      },
                      {
                        "learn": [
                          0.1103218695
                        ],
                        "iteration": 369,
                        "passed_time": 4.643420568,
                        "remaining_time": 7.906364751,
                        "test": [
                          0.1098029921,
                          0.9782556877
                        ]
                      },
                      {
                        "learn": [
                          0.1102354535
                        ],
                        "iteration": 370,
                        "passed_time": 4.652556178,
                        "remaining_time": 7.888026512,
                        "test": [
                          0.1097722328,
                          0.9782556877
                        ]
                      },
                      {
                        "learn": [
                          0.1101350137
                        ],
                        "iteration": 371,
                        "passed_time": 4.662256449,
                        "remaining_time": 7.870690995,
                        "test": [
                          0.1096608171,
                          0.9783045341
                        ]
                      },
                      {
                        "learn": [
                          0.1100897753
                        ],
                        "iteration": 372,
                        "passed_time": 4.671355679,
                        "remaining_time": 7.852386087,
                        "test": [
                          0.109623863,
                          0.9782903696
                        ]
                      },
                      {
                        "learn": [
                          0.1099236771
                        ],
                        "iteration": 373,
                        "passed_time": 4.680628621,
                        "remaining_time": 7.834421168,
                        "test": [
                          0.1094655579,
                          0.9781027243
                        ]
                      },
                      {
                        "learn": [
                          0.1098869021
                        ],
                        "iteration": 374,
                        "passed_time": 4.689333703,
                        "remaining_time": 7.815556172,
                        "test": [
                          0.1094251398,
                          0.9781027243
                        ]
                      },
                      {
                        "learn": [
                          0.1098576784
                        ],
                        "iteration": 375,
                        "passed_time": 4.699193368,
                        "remaining_time": 7.798661333,
                        "test": [
                          0.1093840946,
                          0.9781027243
                        ]
                      },
                      {
                        "learn": [
                          0.109823874
                        ],
                        "iteration": 376,
                        "passed_time": 4.707863168,
                        "remaining_time": 7.779837543,
                        "test": [
                          0.109333812,
                          0.9782752174
                        ]
                      },
                      {
                        "learn": [
                          0.1097963365
                        ],
                        "iteration": 377,
                        "passed_time": 4.716257694,
                        "remaining_time": 7.760614512,
                        "test": [
                          0.1092932033,
                          0.9781982147
                        ]
                      },
                      {
                        "learn": [
                          0.1097754093
                        ],
                        "iteration": 378,
                        "passed_time": 4.724952285,
                        "remaining_time": 7.741940288,
                        "test": [
                          0.1092638143,
                          0.9782752174
                        ]
                      },
                      {
                        "learn": [
                          0.1097513443
                        ],
                        "iteration": 379,
                        "passed_time": 4.736448412,
                        "remaining_time": 7.727889514,
                        "test": [
                          0.1092475407,
                          0.9783118682
                        ]
                      },
                      {
                        "learn": [
                          0.1096411449
                        ],
                        "iteration": 380,
                        "passed_time": 4.747066792,
                        "remaining_time": 7.7124261,
                        "test": [
                          0.1091306546,
                          0.9784162808
                        ]
                      },
                      {
                        "learn": [
                          0.1096142278
                        ],
                        "iteration": 381,
                        "passed_time": 4.755992648,
                        "remaining_time": 7.694249885,
                        "test": [
                          0.1090936452,
                          0.9784040091
                        ]
                      },
                      {
                        "learn": [
                          0.109490833
                        ],
                        "iteration": 382,
                        "passed_time": 4.766002985,
                        "remaining_time": 7.677869038,
                        "test": [
                          0.1089450197,
                          0.9785617142
                        ]
                      },
                      {
                        "learn": [
                          0.1094390311
                        ],
                        "iteration": 383,
                        "passed_time": 4.775135755,
                        "remaining_time": 7.660113607,
                        "test": [
                          0.1088668111,
                          0.9784473714
                        ]
                      },
                      {
                        "learn": [
                          0.1093426118
                        ],
                        "iteration": 384,
                        "passed_time": 4.784385347,
                        "remaining_time": 7.642589581,
                        "test": [
                          0.1088073507,
                          0.9787196705
                        ]
                      },
                      {
                        "learn": [
                          0.1092098107
                        ],
                        "iteration": 385,
                        "passed_time": 4.794045178,
                        "remaining_time": 7.625760982,
                        "test": [
                          0.1086053653,
                          0.9789568621
                        ]
                      },
                      {
                        "learn": [
                          0.1091767072
                        ],
                        "iteration": 386,
                        "passed_time": 4.803735369,
                        "remaining_time": 7.609017522,
                        "test": [
                          0.1085903763,
                          0.9789568621
                        ]
                      },
                      {
                        "learn": [
                          0.1091570008
                        ],
                        "iteration": 387,
                        "passed_time": 4.812886229,
                        "remaining_time": 7.591459722,
                        "test": [
                          0.1085626609,
                          0.9789568621
                        ]
                      },
                      {
                        "learn": [
                          0.1090951745
                        ],
                        "iteration": 388,
                        "passed_time": 4.82205995,
                        "remaining_time": 7.573981052,
                        "test": [
                          0.1085076434,
                          0.9788312762
                        ]
                      },
                      {
                        "learn": [
                          0.1090358566
                        ],
                        "iteration": 389,
                        "passed_time": 4.831184609,
                        "remaining_time": 7.556468235,
                        "test": [
                          0.1084471286,
                          0.9788312762
                        ]
                      },
                      {
                        "learn": [
                          0.1089622432
                        ],
                        "iteration": 390,
                        "passed_time": 4.840575504,
                        "remaining_time": 7.539412998,
                        "test": [
                          0.1083810023,
                          0.9790824481
                        ]
                      },
                      {
                        "learn": [
                          0.1088746487
                        ],
                        "iteration": 391,
                        "passed_time": 4.8494899,
                        "remaining_time": 7.521657804,
                        "test": [
                          0.1083300029,
                          0.9797526056
                        ]
                      },
                      {
                        "learn": [
                          0.1087668417
                        ],
                        "iteration": 392,
                        "passed_time": 4.858904886,
                        "remaining_time": 7.504720778,
                        "test": [
                          0.1082494595,
                          0.9805024535
                        ]
                      },
                      {
                        "learn": [
                          0.108645058
                        ],
                        "iteration": 393,
                        "passed_time": 4.868847612,
                        "remaining_time": 7.488633637,
                        "test": [
                          0.1081270108,
                          0.9805024535
                        ]
                      },
                      {
                        "learn": [
                          0.1085225261
                        ],
                        "iteration": 394,
                        "passed_time": 4.87837166,
                        "remaining_time": 7.47193634,
                        "test": [
                          0.1080665071,
                          0.9805024535
                        ]
                      },
                      {
                        "learn": [
                          0.1084921927
                        ],
                        "iteration": 395,
                        "passed_time": 4.88799737,
                        "remaining_time": 7.455430332,
                        "test": [
                          0.1080335699,
                          0.9805024535
                        ]
                      },
                      {
                        "learn": [
                          0.1084470562
                        ],
                        "iteration": 396,
                        "passed_time": 4.898603109,
                        "remaining_time": 7.440447543,
                        "test": [
                          0.1079895488,
                          0.9805024535
                        ]
                      },
                      {
                        "learn": [
                          0.1084158651
                        ],
                        "iteration": 397,
                        "passed_time": 4.907206289,
                        "remaining_time": 7.422457753,
                        "test": [
                          0.1079658889,
                          0.9805024535
                        ]
                      },
                      {
                        "learn": [
                          0.10834496
                        ],
                        "iteration": 398,
                        "passed_time": 4.916729336,
                        "remaining_time": 7.405900579,
                        "test": [
                          0.1079097889,
                          0.9803985436
                        ]
                      },
                      {
                        "learn": [
                          0.1083288222
                        ],
                        "iteration": 399,
                        "passed_time": 4.925773615,
                        "remaining_time": 7.388660422,
                        "test": [
                          0.107897198,
                          0.9803985436
                        ]
                      },
                      {
                        "learn": [
                          0.1083064519
                        ],
                        "iteration": 400,
                        "passed_time": 4.93569661,
                        "remaining_time": 7.37277374,
                        "test": [
                          0.1078751888,
                          0.9803985436
                        ]
                      },
                      {
                        "learn": [
                          0.1081647681
                        ],
                        "iteration": 401,
                        "passed_time": 4.946953582,
                        "remaining_time": 7.3589011,
                        "test": [
                          0.1077663643,
                          0.9806357352
                        ]
                      },
                      {
                        "learn": [
                          0.1080751572
                        ],
                        "iteration": 402,
                        "passed_time": 4.955857418,
                        "remaining_time": 7.34155553,
                        "test": [
                          0.1076941208,
                          0.9806242159
                        ]
                      },
                      {
                        "learn": [
                          0.1079597714
                        ],
                        "iteration": 403,
                        "passed_time": 4.965753623,
                        "remaining_time": 7.32571574,
                        "test": [
                          0.1075622092,
                          0.9806129728
                        ]
                      },
                      {
                        "learn": [
                          0.1079405971
                        ],
                        "iteration": 404,
                        "passed_time": 4.974912413,
                        "remaining_time": 7.308821941,
                        "test": [
                          0.1075529001,
                          0.9806129728
                        ]
                      },
                      {
                        "learn": [
                          0.1079000615
                        ],
                        "iteration": 405,
                        "passed_time": 4.984527513,
                        "remaining_time": 7.292633849,
                        "test": [
                          0.1074899742,
                          0.9806345631
                        ]
                      },
                      {
                        "learn": [
                          0.1078303503
                        ],
                        "iteration": 406,
                        "passed_time": 4.993884177,
                        "remaining_time": 7.276101516,
                        "test": [
                          0.1074221701,
                          0.9807601711
                        ]
                      },
                      {
                        "learn": [
                          0.1077864168
                        ],
                        "iteration": 407,
                        "passed_time": 5.002916956,
                        "remaining_time": 7.259134406,
                        "test": [
                          0.1073898775,
                          0.9807601711
                        ]
                      },
                      {
                        "learn": [
                          0.1077656558
                        ],
                        "iteration": 408,
                        "passed_time": 5.011823431,
                        "remaining_time": 7.242023589,
                        "test": [
                          0.1073712023,
                          0.9807601711
                        ]
                      },
                      {
                        "learn": [
                          0.1077088972
                        ],
                        "iteration": 409,
                        "passed_time": 5.020952321,
                        "remaining_time": 7.225272852,
                        "test": [
                          0.1073620644,
                          0.9803711297
                        ]
                      },
                      {
                        "learn": [
                          0.1076339199
                        ],
                        "iteration": 410,
                        "passed_time": 5.053350289,
                        "remaining_time": 7.241905889,
                        "test": [
                          0.1072695859,
                          0.9804505205
                        ]
                      },
                      {
                        "learn": [
                          0.1075712378
                        ],
                        "iteration": 411,
                        "passed_time": 5.062455329,
                        "remaining_time": 7.225057606,
                        "test": [
                          0.1072191454,
                          0.9804505205
                        ]
                      },
                      {
                        "learn": [
                          0.1074397174
                        ],
                        "iteration": 412,
                        "passed_time": 5.072247162,
                        "remaining_time": 7.209222964,
                        "test": [
                          0.1070845918,
                          0.9803466106
                        ]
                      },
                      {
                        "learn": [
                          0.1074197919
                        ],
                        "iteration": 413,
                        "passed_time": 5.081076716,
                        "remaining_time": 7.192055448,
                        "test": [
                          0.1070670508,
                          0.9803051725
                        ]
                      },
                      {
                        "learn": [
                          0.1072948514
                        ],
                        "iteration": 414,
                        "passed_time": 5.090115514,
                        "remaining_time": 7.175223074,
                        "test": [
                          0.1069401088,
                          0.9803051725
                        ]
                      },
                      {
                        "learn": [
                          0.1072670942
                        ],
                        "iteration": 415,
                        "passed_time": 5.103168321,
                        "remaining_time": 7.16406322,
                        "test": [
                          0.1069202766,
                          0.9803369195
                        ]
                      },
                      {
                        "learn": [
                          0.1072302259
                        ],
                        "iteration": 416,
                        "passed_time": 5.112067557,
                        "remaining_time": 7.147087255,
                        "test": [
                          0.1068820629,
                          0.9803369195
                        ]
                      },
                      {
                        "learn": [
                          0.1071551316
                        ],
                        "iteration": 417,
                        "passed_time": 5.121768348,
                        "remaining_time": 7.131265977,
                        "test": [
                          0.106819239,
                          0.9806889426
                        ]
                      },
                      {
                        "learn": [
                          0.1070115867
                        ],
                        "iteration": 418,
                        "passed_time": 5.131717154,
                        "remaining_time": 7.11581782,
                        "test": [
                          0.106758353,
                          0.9807708932
                        ]
                      },
                      {
                        "learn": [
                          0.1068535797
                        ],
                        "iteration": 419,
                        "passed_time": 5.142278462,
                        "remaining_time": 7.101241686,
                        "test": [
                          0.1066766259,
                          0.9806442429
                        ]
                      },
                      {
                        "learn": [
                          0.1068268011
                        ],
                        "iteration": 420,
                        "passed_time": 5.151865012,
                        "remaining_time": 7.085344042,
                        "test": [
                          0.1066458288,
                          0.9806442429
                        ]
                      },
                      {
                        "learn": [
                          0.1067651461
                        ],
                        "iteration": 421,
                        "passed_time": 5.161381499,
                        "remaining_time": 7.069380347,
                        "test": [
                          0.1065586519,
                          0.9806539339
                        ]
                      },
                      {
                        "learn": [
                          0.1067275743
                        ],
                        "iteration": 422,
                        "passed_time": 5.170633492,
                        "remaining_time": 7.053086347,
                        "test": [
                          0.1065327848,
                          0.9806539339
                        ]
                      },
                      {
                        "learn": [
                          0.1066774329
                        ],
                        "iteration": 423,
                        "passed_time": 5.179998386,
                        "remaining_time": 7.03697894,
                        "test": [
                          0.106475814,
                          0.9806539339
                        ]
                      },
                      {
                        "learn": [
                          0.1066566029
                        ],
                        "iteration": 424,
                        "passed_time": 5.188722818,
                        "remaining_time": 7.020036754,
                        "test": [
                          0.1064447445,
                          0.9806354782
                        ]
                      },
                      {
                        "learn": [
                          0.1066036133
                        ],
                        "iteration": 425,
                        "passed_time": 5.198912469,
                        "remaining_time": 7.005107411,
                        "test": [
                          0.1064187781,
                          0.9806354782
                        ]
                      },
                      {
                        "learn": [
                          0.1065628769
                        ],
                        "iteration": 426,
                        "passed_time": 5.208740913,
                        "remaining_time": 6.989715557,
                        "test": [
                          0.1063717672,
                          0.9805560874
                        ]
                      },
                      {
                        "learn": [
                          0.1064823516
                        ],
                        "iteration": 427,
                        "passed_time": 5.218296651,
                        "remaining_time": 6.973985244,
                        "test": [
                          0.1063528023,
                          0.9806354782
                        ]
                      },
                      {
                        "learn": [
                          0.1064406217
                        ],
                        "iteration": 428,
                        "passed_time": 5.227175556,
                        "remaining_time": 6.95738285,
                        "test": [
                          0.1063071775,
                          0.9808367881
                        ]
                      },
                      {
                        "learn": [
                          0.1063823338
                        ],
                        "iteration": 429,
                        "passed_time": 5.236621152,
                        "remaining_time": 6.941567574,
                        "test": [
                          0.1062654387,
                          0.9807573973
                        ]
                      },
                      {
                        "learn": [
                          0.1063531422
                        ],
                        "iteration": 430,
                        "passed_time": 5.246854524,
                        "remaining_time": 6.926821865,
                        "test": [
                          0.1062279633,
                          0.9808367881
                        ]
                      },
                      {
                        "learn": [
                          0.1063200019
                        ],
                        "iteration": 431,
                        "passed_time": 5.255856841,
                        "remaining_time": 6.91047844,
                        "test": [
                          0.1062030691,
                          0.9806913548
                        ]
                      },
                      {
                        "learn": [
                          0.1062494444
                        ],
                        "iteration": 432,
                        "passed_time": 5.265053033,
                        "remaining_time": 6.894422793,
                        "test": [
                          0.1061481881,
                          0.9804701971
                        ]
                      },
                      {
                        "learn": [
                          0.1062010579
                        ],
                        "iteration": 433,
                        "passed_time": 5.273934638,
                        "remaining_time": 6.877988491,
                        "test": [
                          0.1060794781,
                          0.9806751739
                        ]
                      },
                      {
                        "learn": [
                          0.1061649323
                        ],
                        "iteration": 434,
                        "passed_time": 5.282922865,
                        "remaining_time": 6.8617274,
                        "test": [
                          0.1060511551,
                          0.9806751739
                        ]
                      },
                      {
                        "learn": [
                          0.1060820688
                        ],
                        "iteration": 435,
                        "passed_time": 5.29182044,
                        "remaining_time": 6.845382405,
                        "test": [
                          0.1059168462,
                          0.9806751739
                        ]
                      },
                      {
                        "learn": [
                          0.1059720029
                        ],
                        "iteration": 436,
                        "passed_time": 5.300837019,
                        "remaining_time": 6.829224809,
                        "test": [
                          0.1058646502,
                          0.9806950217
                        ]
                      },
                      {
                        "learn": [
                          0.1058751512
                        ],
                        "iteration": 437,
                        "passed_time": 5.310200053,
                        "remaining_time": 6.81354436,
                        "test": [
                          0.1057656276,
                          0.9810436063
                        ]
                      },
                      {
                        "learn": [
                          0.1057927461
                        ],
                        "iteration": 438,
                        "passed_time": 5.319479446,
                        "remaining_time": 6.797785807,
                        "test": [
                          0.1057314514,
                          0.9810237585
                        ]
                      },
                      {
                        "learn": [
                          0.1057624903
                        ],
                        "iteration": 439,
                        "passed_time": 5.328181638,
                        "remaining_time": 6.781322084,
                        "test": [
                          0.1057048714,
                          0.9810237585
                        ]
                      },
                      {
                        "learn": [
                          0.1056168128
                        ],
                        "iteration": 440,
                        "passed_time": 5.337986031,
                        "remaining_time": 6.766290683,
                        "test": [
                          0.1055622793,
                          0.9810237585
                        ]
                      },
                      {
                        "learn": [
                          0.1055620585
                        ],
                        "iteration": 441,
                        "passed_time": 5.353112879,
                        "remaining_time": 6.758002232,
                        "test": [
                          0.1055045846,
                          0.9810153292
                        ]
                      },
                      {
                        "learn": [
                          0.1054924227
                        ],
                        "iteration": 442,
                        "passed_time": 5.376842647,
                        "remaining_time": 6.760499671,
                        "test": [
                          0.1054567706,
                          0.9810077246
                        ]
                      },
                      {
                        "learn": [
                          0.1054647775
                        ],
                        "iteration": 443,
                        "passed_time": 5.39986676,
                        "remaining_time": 6.761995313,
                        "test": [
                          0.1054458473,
                          0.9810077246
                        ]
                      },
                      {
                        "learn": [
                          0.1053829296
                        ],
                        "iteration": 444,
                        "passed_time": 5.425857203,
                        "remaining_time": 6.767080331,
                        "test": [
                          0.1053758443,
                          0.9809823169
                        ]
                      },
                      {
                        "learn": [
                          0.1053457555
                        ],
                        "iteration": 445,
                        "passed_time": 5.446779015,
                        "remaining_time": 6.765729987,
                        "test": [
                          0.105336554,
                          0.9809823169
                        ]
                      },
                      {
                        "learn": [
                          0.1052687179
                        ],
                        "iteration": 446,
                        "passed_time": 5.46986386,
                        "remaining_time": 6.766968042,
                        "test": [
                          0.1052657741,
                          0.9809823169
                        ]
                      },
                      {
                        "learn": [
                          0.1051253623
                        ],
                        "iteration": 447,
                        "passed_time": 5.496919414,
                        "remaining_time": 6.772989992,
                        "test": [
                          0.1052032224,
                          0.9808245162
                        ]
                      },
                      {
                        "learn": [
                          0.1050965357
                        ],
                        "iteration": 448,
                        "passed_time": 5.519760334,
                        "remaining_time": 6.773692526,
                        "test": [
                          0.1051811816,
                          0.9806790828
                        ]
                      },
                      {
                        "learn": [
                          0.1050428851
                        ],
                        "iteration": 449,
                        "passed_time": 5.542177686,
                        "remaining_time": 6.773772727,
                        "test": [
                          0.1051466894,
                          0.9808245162
                        ]
                      },
                      {
                        "learn": [
                          0.104963746
                        ],
                        "iteration": 450,
                        "passed_time": 5.565388324,
                        "remaining_time": 6.774718824,
                        "test": [
                          0.1050981123,
                          0.9808248515
                        ]
                      },
                      {
                        "learn": [
                          0.1049318621
                        ],
                        "iteration": 451,
                        "passed_time": 5.592510028,
                        "remaining_time": 6.780299769,
                        "test": [
                          0.105058839,
                          0.9808248515
                        ]
                      },
                      {
                        "learn": [
                          0.1048642122
                        ],
                        "iteration": 452,
                        "passed_time": 5.615306678,
                        "remaining_time": 6.780513803,
                        "test": [
                          0.1050093166,
                          0.9808634344
                        ]
                      },
                      {
                        "learn": [
                          0.104787389
                        ],
                        "iteration": 453,
                        "passed_time": 5.644438872,
                        "remaining_time": 6.788245868,
                        "test": [
                          0.1049591445,
                          0.9808896251
                        ]
                      },
                      {
                        "learn": [
                          0.1047295267
                        ],
                        "iteration": 454,
                        "passed_time": 5.669381754,
                        "remaining_time": 6.790797925,
                        "test": [
                          0.1048935547,
                          0.9808896251
                        ]
                      },
                      {
                        "learn": [
                          0.1047059974
                        ],
                        "iteration": 455,
                        "passed_time": 5.708803581,
                        "remaining_time": 6.810502518,
                        "test": [
                          0.1048799859,
                          0.9808896251
                        ]
                      },
                      {
                        "learn": [
                          0.1046658094
                        ],
                        "iteration": 456,
                        "passed_time": 5.732417476,
                        "remaining_time": 6.811165623,
                        "test": [
                          0.104846582,
                          0.980879956
                        ]
                      },
                      {
                        "learn": [
                          0.1046021793
                        ],
                        "iteration": 457,
                        "passed_time": 5.754595594,
                        "remaining_time": 6.810023607,
                        "test": [
                          0.1048042421,
                          0.9808691625
                        ]
                      },
                      {
                        "learn": [
                          0.1045672156
                        ],
                        "iteration": 458,
                        "passed_time": 5.796566171,
                        "remaining_time": 6.832118298,
                        "test": [
                          0.1047836114,
                          0.9808896251
                        ]
                      },
                      {
                        "learn": [
                          0.1044380894
                        ],
                        "iteration": 459,
                        "passed_time": 5.817698818,
                        "remaining_time": 6.829472525,
                        "test": [
                          0.1047015854,
                          0.9808896251
                        ]
                      },
                      {
                        "learn": [
                          0.1042419797
                        ],
                        "iteration": 460,
                        "passed_time": 5.847330552,
                        "remaining_time": 6.83668366,
                        "test": [
                          0.1045856813,
                          0.9808102342
                        ]
                      },
                      {
                        "learn": [
                          0.1042148579
                        ],
                        "iteration": 461,
                        "passed_time": 5.869101111,
                        "remaining_time": 6.834580947,
                        "test": [
                          0.1045508436,
                          0.9808102342
                        ]
                      },
                      {
                        "learn": [
                          0.1041868325
                        ],
                        "iteration": 462,
                        "passed_time": 5.880640259,
                        "remaining_time": 6.820526607,
                        "test": [
                          0.1045044644,
                          0.9808102342
                        ]
                      },
                      {
                        "learn": [
                          0.1041706086
                        ],
                        "iteration": 463,
                        "passed_time": 5.894964611,
                        "remaining_time": 6.809700499,
                        "test": [
                          0.1044963447,
                          0.9806648009
                        ]
                      },
                      {
                        "learn": [
                          0.1041054716
                        ],
                        "iteration": 464,
                        "passed_time": 5.906974758,
                        "remaining_time": 6.796196765,
                        "test": [
                          0.1044374165,
                          0.9806648009
                        ]
                      },
                      {
                        "learn": [
                          0.1040559211
                        ],
                        "iteration": 465,
                        "passed_time": 5.919526645,
                        "remaining_time": 6.783320233,
                        "test": [
                          0.1044012275,
                          0.9812323101
                        ]
                      },
                      {
                        "learn": [
                          0.1040408211
                        ],
                        "iteration": 466,
                        "passed_time": 5.928758797,
                        "remaining_time": 6.766656186,
                        "test": [
                          0.1043940113,
                          0.9810868768
                        ]
                      },
                      {
                        "learn": [
                          0.1039745194
                        ],
                        "iteration": 467,
                        "passed_time": 5.937419768,
                        "remaining_time": 6.749374608,
                        "test": [
                          0.1043539888,
                          0.9810868768
                        ]
                      },
                      {
                        "learn": [
                          0.1039223357
                        ],
                        "iteration": 468,
                        "passed_time": 5.946273102,
                        "remaining_time": 6.732347585,
                        "test": [
                          0.1042972328,
                          0.9810868768
                        ]
                      },
                      {
                        "learn": [
                          0.1038474987
                        ],
                        "iteration": 469,
                        "passed_time": 5.954989065,
                        "remaining_time": 6.715200434,
                        "test": [
                          0.1041917464,
                          0.9810868768
                        ]
                      },
                      {
                        "learn": [
                          0.1038183087
                        ],
                        "iteration": 470,
                        "passed_time": 5.963363279,
                        "remaining_time": 6.697705254,
                        "test": [
                          0.10417627,
                          0.9810868768
                        ]
                      },
                      {
                        "learn": [
                          0.1037372545
                        ],
                        "iteration": 471,
                        "passed_time": 5.972915218,
                        "remaining_time": 6.681566176,
                        "test": [
                          0.1041097895,
                          0.9811209171
                        ]
                      },
                      {
                        "learn": [
                          0.1036777837
                        ],
                        "iteration": 472,
                        "passed_time": 5.982084458,
                        "remaining_time": 6.665028561,
                        "test": [
                          0.1040802426,
                          0.9811209171
                        ]
                      },
                      {
                        "learn": [
                          0.1036252059
                        ],
                        "iteration": 473,
                        "passed_time": 5.991422652,
                        "remaining_time": 6.648709526,
                        "test": [
                          0.1040514167,
                          0.9811209171
                        ]
                      },
                      {
                        "learn": [
                          0.1035943137
                        ],
                        "iteration": 474,
                        "passed_time": 6.000292007,
                        "remaining_time": 6.631901692,
                        "test": [
                          0.1040225827,
                          0.9811209171
                        ]
                      },
                      {
                        "learn": [
                          0.1035567516
                        ],
                        "iteration": 475,
                        "passed_time": 6.009661442,
                        "remaining_time": 6.615677722,
                        "test": [
                          0.1039913188,
                          0.9811209171
                        ]
                      },
                      {
                        "learn": [
                          0.1034900148
                        ],
                        "iteration": 476,
                        "passed_time": 6.018641699,
                        "remaining_time": 6.599055783,
                        "test": [
                          0.1039329378,
                          0.981200308
                        ]
                      },
                      {
                        "learn": [
                          0.1034202682
                        ],
                        "iteration": 477,
                        "passed_time": 6.02731111,
                        "remaining_time": 6.582126358,
                        "test": [
                          0.1038190164,
                          0.981200308
                        ]
                      },
                      {
                        "learn": [
                          0.1033774577
                        ],
                        "iteration": 478,
                        "passed_time": 6.056164179,
                        "remaining_time": 6.587184837,
                        "test": [
                          0.1037811314,
                          0.9811063567
                        ]
                      },
                      {
                        "learn": [
                          0.1033293123
                        ],
                        "iteration": 479,
                        "passed_time": 6.071198225,
                        "remaining_time": 6.577131411,
                        "test": [
                          0.1037112003,
                          0.9811063567
                        ]
                      },
                      {
                        "learn": [
                          0.1032973321
                        ],
                        "iteration": 480,
                        "passed_time": 6.080136261,
                        "remaining_time": 6.560479667,
                        "test": [
                          0.103690459,
                          0.9811160258
                        ]
                      },
                      {
                        "learn": [
                          0.103197888
                        ],
                        "iteration": 481,
                        "passed_time": 6.08969045,
                        "remaining_time": 6.544522102,
                        "test": [
                          0.1035795169,
                          0.9812738265
                        ]
                      },
                      {
                        "learn": [
                          0.1031609461
                        ],
                        "iteration": 482,
                        "passed_time": 6.098897651,
                        "remaining_time": 6.528219639,
                        "test": [
                          0.1035642583,
                          0.9808517506
                        ]
                      },
                      {
                        "learn": [
                          0.1030686644
                        ],
                        "iteration": 483,
                        "passed_time": 6.10797622,
                        "remaining_time": 6.511809359,
                        "test": [
                          0.1035167958,
                          0.9810093063
                        ]
                      },
                      {
                        "learn": [
                          0.1030270625
                        ],
                        "iteration": 484,
                        "passed_time": 6.117346115,
                        "remaining_time": 6.495738658,
                        "test": [
                          0.1034742933,
                          0.9810093063
                        ]
                      },
                      {
                        "learn": [
                          0.1030065828
                        ],
                        "iteration": 485,
                        "passed_time": 6.12570827,
                        "remaining_time": 6.478629734,
                        "test": [
                          0.1034496287,
                          0.9810093063
                        ]
                      },
                      {
                        "learn": [
                          0.102960706
                        ],
                        "iteration": 486,
                        "passed_time": 6.134524313,
                        "remaining_time": 6.462034852,
                        "test": [
                          0.1033988354,
                          0.9808638729
                        ]
                      },
                      {
                        "learn": [
                          0.1028765404
                        ],
                        "iteration": 487,
                        "passed_time": 6.143160264,
                        "remaining_time": 6.4452829,
                        "test": [
                          0.1033248228,
                          0.9808638729
                        ]
                      },
                      {
                        "learn": [
                          0.1027905442
                        ],
                        "iteration": 488,
                        "passed_time": 6.157476616,
                        "remaining_time": 6.434500104,
                        "test": [
                          0.1032962738,
                          0.9808687643
                        ]
                      },
                      {
                        "learn": [
                          0.1027027822
                        ],
                        "iteration": 489,
                        "passed_time": 6.166860051,
                        "remaining_time": 6.418568625,
                        "test": [
                          0.1032271038,
                          0.9808638729
                        ]
                      },
                      {
                        "learn": [
                          0.1026672219
                        ],
                        "iteration": 490,
                        "passed_time": 6.175601184,
                        "remaining_time": 6.401997969,
                        "test": [
                          0.1031924692,
                          0.9808638729
                        ]
                      },
                      {
                        "learn": [
                          0.1026523094
                        ],
                        "iteration": 491,
                        "passed_time": 6.183972519,
                        "remaining_time": 6.385077316,
                        "test": [
                          0.1031715929,
                          0.9808638729
                        ]
                      },
                      {
                        "learn": [
                          0.1025716696
                        ],
                        "iteration": 492,
                        "passed_time": 6.193554877,
                        "remaining_time": 6.36943676,
                        "test": [
                          0.1031250156,
                          0.9815324784
                        ]
                      },
                      {
                        "learn": [
                          0.1025147829
                        ],
                        "iteration": 493,
                        "passed_time": 6.202590825,
                        "remaining_time": 6.353261048,
                        "test": [
                          0.1030956977,
                          0.9808672903
                        ]
                      },
                      {
                        "learn": [
                          0.1024376116
                        ],
                        "iteration": 494,
                        "passed_time": 6.211603323,
                        "remaining_time": 6.337090259,
                        "test": [
                          0.1030256195,
                          0.981476961
                        ]
                      },
                      {
                        "learn": [
                          0.1023807301
                        ],
                        "iteration": 495,
                        "passed_time": 6.220537409,
                        "remaining_time": 6.320868658,
                        "test": [
                          0.1029675963,
                          0.981476961
                        ]
                      },
                      {
                        "learn": [
                          0.1022889656
                        ],
                        "iteration": 496,
                        "passed_time": 6.229415284,
                        "remaining_time": 6.304619493,
                        "test": [
                          0.1029111412,
                          0.9814818523
                        ]
                      },
                      {
                        "learn": [
                          0.1022414178
                        ],
                        "iteration": 497,
                        "passed_time": 6.238450732,
                        "remaining_time": 6.28855877,
                        "test": [
                          0.102851627,
                          0.9814818523
                        ]
                      },
                      {
                        "learn": [
                          0.1021142995
                        ],
                        "iteration": 498,
                        "passed_time": 6.247251866,
                        "remaining_time": 6.272290951,
                        "test": [
                          0.1026807144,
                          0.9821504579
                        ]
                      },
                      {
                        "learn": [
                          0.1020480046
                        ],
                        "iteration": 499,
                        "passed_time": 6.25610519,
                        "remaining_time": 6.25610519,
                        "test": [
                          0.1026226799,
                          0.9821504579
                        ]
                      },
                      {
                        "learn": [
                          0.1020053914
                        ],
                        "iteration": 500,
                        "passed_time": 6.264818882,
                        "remaining_time": 6.239809625,
                        "test": [
                          0.1025718608,
                          0.9822958912
                        ]
                      },
                      {
                        "learn": [
                          0.1019226803
                        ],
                        "iteration": 501,
                        "passed_time": 6.27335784,
                        "remaining_time": 6.223370925,
                        "test": [
                          0.1025142178,
                          0.9826990965
                        ]
                      },
                      {
                        "learn": [
                          0.1018263097
                        ],
                        "iteration": 502,
                        "passed_time": 6.282624713,
                        "remaining_time": 6.207682867,
                        "test": [
                          0.1024648439,
                          0.9827112188
                        ]
                      },
                      {
                        "learn": [
                          0.1018024585
                        ],
                        "iteration": 503,
                        "passed_time": 6.291520268,
                        "remaining_time": 6.191654867,
                        "test": [
                          0.1024496486,
                          0.9826990965
                        ]
                      },
                      {
                        "learn": [
                          0.1016861994
                        ],
                        "iteration": 504,
                        "passed_time": 6.300589187,
                        "remaining_time": 6.175825045,
                        "test": [
                          0.1023284442,
                          0.9822907402
                        ]
                      },
                      {
                        "learn": [
                          0.1015872947
                        ],
                        "iteration": 505,
                        "passed_time": 6.310159295,
                        "remaining_time": 6.160511249,
                        "test": [
                          0.1022809625,
                          0.98225877
                        ]
                      },
                      {
                        "learn": [
                          0.1015480833
                        ],
                        "iteration": 506,
                        "passed_time": 6.319216644,
                        "remaining_time": 6.14472151,
                        "test": [
                          0.1022459632,
                          0.9822786178
                        ]
                      },
                      {
                        "learn": [
                          0.1015285561
                        ],
                        "iteration": 507,
                        "passed_time": 6.327981677,
                        "remaining_time": 6.128675167,
                        "test": [
                          0.102226933,
                          0.9822907402
                        ]
                      },
                      {
                        "learn": [
                          0.1014653328
                        ],
                        "iteration": 508,
                        "passed_time": 6.336581926,
                        "remaining_time": 6.112498479,
                        "test": [
                          0.1021773257,
                          0.982370131
                        ]
                      },
                      {
                        "learn": [
                          0.1013375691
                        ],
                        "iteration": 509,
                        "passed_time": 6.345755167,
                        "remaining_time": 6.096902023,
                        "test": [
                          0.1020731316,
                          0.9823502832
                        ]
                      },
                      {
                        "learn": [
                          0.1012884952
                        ],
                        "iteration": 510,
                        "passed_time": 6.354743744,
                        "remaining_time": 6.081153994,
                        "test": [
                          0.1020379875,
                          0.9823502832
                        ]
                      },
                      {
                        "learn": [
                          0.1011663698
                        ],
                        "iteration": 511,
                        "passed_time": 6.363560988,
                        "remaining_time": 6.065269067,
                        "test": [
                          0.1018676716,
                          0.9823970672
                        ]
                      },
                      {
                        "learn": [
                          0.1010719243
                        ],
                        "iteration": 512,
                        "passed_time": 6.372225189,
                        "remaining_time": 6.049266407,
                        "test": [
                          0.1017709764,
                          0.9824067582
                        ]
                      },
                      {
                        "learn": [
                          0.1010013912
                        ],
                        "iteration": 513,
                        "passed_time": 6.380957921,
                        "remaining_time": 6.0333571,
                        "test": [
                          0.1017053923,
                          0.9824394026
                        ]
                      },
                      {
                        "learn": [
                          0.1009536226
                        ],
                        "iteration": 514,
                        "passed_time": 6.391346666,
                        "remaining_time": 6.01903521,
                        "test": [
                          0.1016523754,
                          0.9824394026
                        ]
                      },
                      {
                        "learn": [
                          0.1008574563
                        ],
                        "iteration": 515,
                        "passed_time": 6.401248031,
                        "remaining_time": 6.004271409,
                        "test": [
                          0.101599011,
                          0.9825596145
                        ]
                      },
                      {
                        "learn": [
                          0.1008307647
                        ],
                        "iteration": 516,
                        "passed_time": 6.410366751,
                        "remaining_time": 5.988795244,
                        "test": [
                          0.1015719502,
                          0.9825596145
                        ]
                      },
                      {
                        "learn": [
                          0.1007474065
                        ],
                        "iteration": 517,
                        "passed_time": 6.419832908,
                        "remaining_time": 5.973666914,
                        "test": [
                          0.1015233722,
                          0.9828029943
                        ]
                      },
                      {
                        "learn": [
                          0.1006474245
                        ],
                        "iteration": 518,
                        "passed_time": 6.4290607,
                        "remaining_time": 5.958339493,
                        "test": [
                          0.1014156051,
                          0.9828619291
                        ]
                      },
                      {
                        "learn": [
                          0.1005444012
                        ],
                        "iteration": 519,
                        "passed_time": 6.438567007,
                        "remaining_time": 5.943292622,
                        "test": [
                          0.1013216477,
                          0.9828029943
                        ]
                      },
                      {
                        "learn": [
                          0.1004946652
                        ],
                        "iteration": 520,
                        "passed_time": 6.447681047,
                        "remaining_time": 5.927906375,
                        "test": [
                          0.1013008752,
                          0.9828029943
                        ]
                      },
                      {
                        "learn": [
                          0.1004732114
                        ],
                        "iteration": 521,
                        "passed_time": 6.456004281,
                        "remaining_time": 5.911820012,
                        "test": [
                          0.1012848594,
                          0.9828029943
                        ]
                      },
                      {
                        "learn": [
                          0.1003920194
                        ],
                        "iteration": 522,
                        "passed_time": 6.465335255,
                        "remaining_time": 5.896682441,
                        "test": [
                          0.1011682173,
                          0.9832183219
                        ]
                      },
                      {
                        "learn": [
                          0.1003543219
                        ],
                        "iteration": 523,
                        "passed_time": 6.476381112,
                        "remaining_time": 5.883124827,
                        "test": [
                          0.1011475197,
                          0.9832772567
                        ]
                      },
                      {
                        "learn": [
                          0.100297998
                        ],
                        "iteration": 524,
                        "passed_time": 6.486574963,
                        "remaining_time": 5.868805919,
                        "test": [
                          0.1010772463,
                          0.9832772567
                        ]
                      },
                      {
                        "learn": [
                          0.1002268126
                        ],
                        "iteration": 525,
                        "passed_time": 6.495717754,
                        "remaining_time": 5.853555542,
                        "test": [
                          0.1010083567,
                          0.9832772567
                        ]
                      },
                      {
                        "learn": [
                          0.1001043604
                        ],
                        "iteration": 526,
                        "passed_time": 6.504989847,
                        "remaining_time": 5.838444397,
                        "test": [
                          0.1008796939,
                          0.9828780966
                        ]
                      },
                      {
                        "learn": [
                          0.1000876717
                        ],
                        "iteration": 527,
                        "passed_time": 6.516034954,
                        "remaining_time": 5.824940338,
                        "test": [
                          0.1008542273,
                          0.9828780966
                        ]
                      },
                      {
                        "learn": [
                          0.0999976223
                        ],
                        "iteration": 528,
                        "passed_time": 6.525495731,
                        "remaining_time": 5.810034951,
                        "test": [
                          0.1007758794,
                          0.9828780966
                        ]
                      },
                      {
                        "learn": [
                          0.09998370532
                        ],
                        "iteration": 529,
                        "passed_time": 6.534222183,
                        "remaining_time": 5.794498917,
                        "test": [
                          0.1007709594,
                          0.9828780966
                        ]
                      },
                      {
                        "learn": [
                          0.09995755945
                        ],
                        "iteration": 530,
                        "passed_time": 6.54318847,
                        "remaining_time": 5.779200362,
                        "test": [
                          0.1007614305,
                          0.9827326632
                        ]
                      },
                      {
                        "learn": [
                          0.09987983779
                        ],
                        "iteration": 531,
                        "passed_time": 6.551863701,
                        "remaining_time": 5.763669571,
                        "test": [
                          0.1006626967,
                          0.9827331128
                        ]
                      },
                      {
                        "learn": [
                          0.09975747579
                        ],
                        "iteration": 532,
                        "passed_time": 6.561384558,
                        "remaining_time": 5.74890542,
                        "test": [
                          0.1006115757,
                          0.9834246342
                        ]
                      },
                      {
                        "learn": [
                          0.09969350947
                        ],
                        "iteration": 533,
                        "passed_time": 6.569950927,
                        "remaining_time": 5.733327962,
                        "test": [
                          0.1005711028,
                          0.983483569
                        ]
                      },
                      {
                        "learn": [
                          0.09966632311
                        ],
                        "iteration": 534,
                        "passed_time": 6.577968775,
                        "remaining_time": 5.717299963,
                        "test": [
                          0.1005579141,
                          0.983483569
                        ]
                      },
                      {
                        "learn": [
                          0.09964151774
                        ],
                        "iteration": 535,
                        "passed_time": 6.586484173,
                        "remaining_time": 5.701732567,
                        "test": [
                          0.1005413464,
                          0.9833579831
                        ]
                      },
                      {
                        "learn": [
                          0.09962814885
                        ],
                        "iteration": 536,
                        "passed_time": 6.595198224,
                        "remaining_time": 5.686362715,
                        "test": [
                          0.1005362632,
                          0.9833579831
                        ]
                      },
                      {
                        "learn": [
                          0.09956931059
                        ],
                        "iteration": 537,
                        "passed_time": 6.605902265,
                        "remaining_time": 5.672726481,
                        "test": [
                          0.1005112276,
                          0.9834414475
                        ]
                      },
                      {
                        "learn": [
                          0.0994929538
                        ],
                        "iteration": 538,
                        "passed_time": 6.615451843,
                        "remaining_time": 5.658113729,
                        "test": [
                          0.1004677313,
                          0.9834926302
                        ]
                      },
                      {
                        "learn": [
                          0.09945712851
                        ],
                        "iteration": 539,
                        "passed_time": 6.624104294,
                        "remaining_time": 5.64275551,
                        "test": [
                          0.1004259691,
                          0.9833471968
                        ]
                      },
                      {
                        "learn": [
                          0.09939142181
                        ],
                        "iteration": 540,
                        "passed_time": 6.633725764,
                        "remaining_time": 5.628244225,
                        "test": [
                          0.1003855694,
                          0.9832745145
                        ]
                      },
                      {
                        "learn": [
                          0.09933375405
                        ],
                        "iteration": 541,
                        "passed_time": 6.649718499,
                        "remaining_time": 5.61913482,
                        "test": [
                          0.10034678,
                          0.9832745145
                        ]
                      },
                      {
                        "learn": [
                          0.09921906981
                        ],
                        "iteration": 542,
                        "passed_time": 6.660380659,
                        "remaining_time": 5.60551374,
                        "test": [
                          0.1002351973,
                          0.9834851854
                        ]
                      },
                      {
                        "learn": [
                          0.09918075628
                        ],
                        "iteration": 543,
                        "passed_time": 6.668842906,
                        "remaining_time": 5.590059494,
                        "test": [
                          0.1001898904,
                          0.9834851854
                        ]
                      },
                      {
                        "learn": [
                          0.09909470161
                        ],
                        "iteration": 544,
                        "passed_time": 6.678138749,
                        "remaining_time": 5.575326846,
                        "test": [
                          0.100125585,
                          0.9835621881
                        ]
                      },
                      {
                        "learn": [
                          0.09901977517
                        ],
                        "iteration": 545,
                        "passed_time": 6.688998023,
                        "remaining_time": 5.561914107,
                        "test": [
                          0.1000718803,
                          0.9835621881
                        ]
                      },
                      {
                        "learn": [
                          0.09897536391
                        ],
                        "iteration": 546,
                        "passed_time": 6.69795656,
                        "remaining_time": 5.546936602,
                        "test": [
                          0.1000316513,
                          0.9835621881
                        ]
                      },
                      {
                        "learn": [
                          0.09896480909
                        ],
                        "iteration": 547,
                        "passed_time": 6.706535339,
                        "remaining_time": 5.531667834,
                        "test": [
                          0.1000267762,
                          0.9834851854
                        ]
                      },
                      {
                        "learn": [
                          0.09891853839
                        ],
                        "iteration": 548,
                        "passed_time": 6.715673739,
                        "remaining_time": 5.516883162,
                        "test": [
                          0.1000070479,
                          0.9834851854
                        ]
                      },
                      {
                        "learn": [
                          0.09888077274
                        ],
                        "iteration": 549,
                        "passed_time": 6.724493463,
                        "remaining_time": 5.501858288,
                        "test": [
                          0.09996699766,
                          0.9834851854
                        ]
                      },
                      {
                        "learn": [
                          0.09875136683
                        ],
                        "iteration": 550,
                        "passed_time": 6.734313676,
                        "remaining_time": 5.487671217,
                        "test": [
                          0.09984948585,
                          0.9834827972
                        ]
                      },
                      {
                        "learn": [
                          0.09870014864
                        ],
                        "iteration": 551,
                        "passed_time": 6.743072389,
                        "remaining_time": 5.472638461,
                        "test": [
                          0.09980595866,
                          0.9834827972
                        ]
                      },
                      {
                        "learn": [
                          0.09859342335
                        ],
                        "iteration": 552,
                        "passed_time": 6.751864502,
                        "remaining_time": 5.457655393,
                        "test": [
                          0.09974186408,
                          0.9834238624
                        ]
                      },
                      {
                        "learn": [
                          0.09856218353
                        ],
                        "iteration": 553,
                        "passed_time": 6.761365139,
                        "remaining_time": 5.443265076,
                        "test": [
                          0.09970966514,
                          0.9834238624
                        ]
                      },
                      {
                        "learn": [
                          0.0985000299
                        ],
                        "iteration": 554,
                        "passed_time": 6.770457529,
                        "remaining_time": 5.428565045,
                        "test": [
                          0.09964846325,
                          0.983368345
                        ]
                      },
                      {
                        "learn": [
                          0.09846719969
                        ],
                        "iteration": 555,
                        "passed_time": 6.77967992,
                        "remaining_time": 5.413989001,
                        "test": [
                          0.09963383642,
                          0.9832427591
                        ]
                      },
                      {
                        "learn": [
                          0.09830882242
                        ],
                        "iteration": 556,
                        "passed_time": 6.79182125,
                        "remaining_time": 5.401753705,
                        "test": [
                          0.0994640637,
                          0.9835528658
                        ]
                      },
                      {
                        "learn": [
                          0.09823058769
                        ],
                        "iteration": 557,
                        "passed_time": 6.80094369,
                        "remaining_time": 5.387127439,
                        "test": [
                          0.09939588851,
                          0.9834818087
                        ]
                      },
                      {
                        "learn": [
                          0.09816486816
                        ],
                        "iteration": 558,
                        "passed_time": 6.810240523,
                        "remaining_time": 5.372658445,
                        "test": [
                          0.09936199637,
                          0.9834818087
                        ]
                      },
                      {
                        "learn": [
                          0.09814299319
                        ],
                        "iteration": 559,
                        "passed_time": 6.819440374,
                        "remaining_time": 5.358131723,
                        "test": [
                          0.09933593049,
                          0.9833562227
                        ]
                      },
                      {
                        "learn": [
                          0.09813254505
                        ],
                        "iteration": 560,
                        "passed_time": 6.828136686,
                        "remaining_time": 5.343229955,
                        "test": [
                          0.09932381068,
                          0.9833562227
                        ]
                      },
                      {
                        "learn": [
                          0.09806112227
                        ],
                        "iteration": 561,
                        "passed_time": 6.837620072,
                        "remaining_time": 5.328963686,
                        "test": [
                          0.09925400991,
                          0.9834151575
                        ]
                      },
                      {
                        "learn": [
                          0.09803712365
                        ],
                        "iteration": 562,
                        "passed_time": 6.845973107,
                        "remaining_time": 5.31383703,
                        "test": [
                          0.09922855786,
                          0.9834151575
                        ]
                      },
                      {
                        "learn": [
                          0.0979459256
                        ],
                        "iteration": 563,
                        "passed_time": 6.854594157,
                        "remaining_time": 5.298941582,
                        "test": [
                          0.09909093694,
                          0.9834151575
                        ]
                      },
                      {
                        "learn": [
                          0.09792191892
                        ],
                        "iteration": 564,
                        "passed_time": 6.863301889,
                        "remaining_time": 5.284135082,
                        "test": [
                          0.09907286286,
                          0.9834151575
                        ]
                      },
                      {
                        "learn": [
                          0.09789097436
                        ],
                        "iteration": 565,
                        "passed_time": 6.872370568,
                        "remaining_time": 5.269626902,
                        "test": [
                          0.09907116726,
                          0.9834151575
                        ]
                      },
                      {
                        "learn": [
                          0.09780381119
                        ],
                        "iteration": 566,
                        "passed_time": 6.881779713,
                        "remaining_time": 5.255397912,
                        "test": [
                          0.09898855241,
                          0.9836523491
                        ]
                      },
                      {
                        "learn": [
                          0.09771962174
                        ],
                        "iteration": 567,
                        "passed_time": 6.891313231,
                        "remaining_time": 5.241280486,
                        "test": [
                          0.09886604581,
                          0.9838099048
                        ]
                      },
                      {
                        "learn": [
                          0.09770674591
                        ],
                        "iteration": 568,
                        "passed_time": 6.901047483,
                        "remaining_time": 5.227331222,
                        "test": [
                          0.09885613506,
                          0.9838099048
                        ]
                      },
                      {
                        "learn": [
                          0.0976928429
                        ],
                        "iteration": 569,
                        "passed_time": 6.909371357,
                        "remaining_time": 5.212332778,
                        "test": [
                          0.09884088163,
                          0.9838099048
                        ]
                      },
                      {
                        "learn": [
                          0.09759469446
                        ],
                        "iteration": 570,
                        "passed_time": 6.918310764,
                        "remaining_time": 5.197820171,
                        "test": [
                          0.09879643955,
                          0.9838099048
                        ]
                      },
                      {
                        "learn": [
                          0.09745662714
                        ],
                        "iteration": 571,
                        "passed_time": 6.927898513,
                        "remaining_time": 5.183812174,
                        "test": [
                          0.09873858621,
                          0.9837837546
                        ]
                      },
                      {
                        "learn": [
                          0.09744991987
                        ],
                        "iteration": 572,
                        "passed_time": 6.9358818,
                        "remaining_time": 5.168623959,
                        "test": [
                          0.09873123389,
                          0.9837837546
                        ]
                      },
                      {
                        "learn": [
                          0.09736643151
                        ],
                        "iteration": 573,
                        "passed_time": 6.944977359,
                        "remaining_time": 5.154286333,
                        "test": [
                          0.09865053221,
                          0.9837837546
                        ]
                      },
                      {
                        "learn": [
                          0.09733778513
                        ],
                        "iteration": 574,
                        "passed_time": 6.954052128,
                        "remaining_time": 5.139951573,
                        "test": [
                          0.09862200185,
                          0.9836442633
                        ]
                      },
                      {
                        "learn": [
                          0.09731851563
                        ],
                        "iteration": 575,
                        "passed_time": 6.962476664,
                        "remaining_time": 5.125156433,
                        "test": [
                          0.0985937395,
                          0.9836442633
                        ]
                      },
                      {
                        "learn": [
                          0.0973035989
                        ],
                        "iteration": 576,
                        "passed_time": 6.970756897,
                        "remaining_time": 5.110277587,
                        "test": [
                          0.09858154301,
                          0.9836442633
                        ]
                      },
                      {
                        "learn": [
                          0.09727845247
                        ],
                        "iteration": 577,
                        "passed_time": 6.97954211,
                        "remaining_time": 5.09579026,
                        "test": [
                          0.09855997116,
                          0.9836442633
                        ]
                      },
                      {
                        "learn": [
                          0.0972331925
                        ],
                        "iteration": 578,
                        "passed_time": 6.989388074,
                        "remaining_time": 5.082093919,
                        "test": [
                          0.09852136553,
                          0.9836442633
                        ]
                      },
                      {
                        "learn": [
                          0.09721255996
                        ],
                        "iteration": 579,
                        "passed_time": 6.997694168,
                        "remaining_time": 5.067295777,
                        "test": [
                          0.09849982676,
                          0.9836442633
                        ]
                      },
                      {
                        "learn": [
                          0.09716907843
                        ],
                        "iteration": 580,
                        "passed_time": 7.006510242,
                        "remaining_time": 5.052887765,
                        "test": [
                          0.09847352159,
                          0.9836442633
                        ]
                      },
                      {
                        "learn": [
                          0.09706990943
                        ],
                        "iteration": 581,
                        "passed_time": 7.015458808,
                        "remaining_time": 5.038594127,
                        "test": [
                          0.09840283732,
                          0.9836442633
                        ]
                      },
                      {
                        "learn": [
                          0.09699987045
                        ],
                        "iteration": 582,
                        "passed_time": 7.025124388,
                        "remaining_time": 5.024831681,
                        "test": [
                          0.09836810089,
                          0.9837896966
                        ]
                      },
                      {
                        "learn": [
                          0.0969532206
                        ],
                        "iteration": 583,
                        "passed_time": 7.0343352,
                        "remaining_time": 5.01075932,
                        "test": [
                          0.09835607017,
                          0.9837896966
                        ]
                      },
                      {
                        "learn": [
                          0.09692763816
                        ],
                        "iteration": 584,
                        "passed_time": 7.058045327,
                        "remaining_time": 5.00698942,
                        "test": [
                          0.09834317904,
                          0.9837896966
                        ]
                      },
                      {
                        "learn": [
                          0.09691362531
                        ],
                        "iteration": 585,
                        "passed_time": 7.072948201,
                        "remaining_time": 4.996929275,
                        "test": [
                          0.09832606352,
                          0.9837896966
                        ]
                      },
                      {
                        "learn": [
                          0.09689074853
                        ],
                        "iteration": 586,
                        "passed_time": 7.083916507,
                        "remaining_time": 4.984084356,
                        "test": [
                          0.09831222309,
                          0.9835525051
                        ]
                      },
                      {
                        "learn": [
                          0.09687034565
                        ],
                        "iteration": 587,
                        "passed_time": 7.097222349,
                        "remaining_time": 4.972883687,
                        "test": [
                          0.09829761574,
                          0.9835525051
                        ]
                      },
                      {
                        "learn": [
                          0.09682077776
                        ],
                        "iteration": 588,
                        "passed_time": 7.107556533,
                        "remaining_time": 4.959602267,
                        "test": [
                          0.09826462525,
                          0.9835525051
                        ]
                      },
                      {
                        "learn": [
                          0.09679627405
                        ],
                        "iteration": 589,
                        "passed_time": 7.116385687,
                        "remaining_time": 4.945284969,
                        "test": [
                          0.09824385661,
                          0.9835525051
                        ]
                      },
                      {
                        "learn": [
                          0.09676567663
                        ],
                        "iteration": 590,
                        "passed_time": 7.124988927,
                        "remaining_time": 4.9308299,
                        "test": [
                          0.09822789529,
                          0.9835525051
                        ]
                      },
                      {
                        "learn": [
                          0.0966942913
                        ],
                        "iteration": 591,
                        "passed_time": 7.133754129,
                        "remaining_time": 4.916506224,
                        "test": [
                          0.09814374611,
                          0.9835525051
                        ]
                      },
                      {
                        "learn": [
                          0.09667307485
                        ],
                        "iteration": 592,
                        "passed_time": 7.142339828,
                        "remaining_time": 4.902078095,
                        "test": [
                          0.09814061006,
                          0.9835525051
                        ]
                      },
                      {
                        "learn": [
                          0.09659504898
                        ],
                        "iteration": 593,
                        "passed_time": 7.151432628,
                        "remaining_time": 4.88801624,
                        "test": [
                          0.09808311909,
                          0.983541189
                        ]
                      },
                      {
                        "learn": [
                          0.0965727878
                        ],
                        "iteration": 594,
                        "passed_time": 7.160055987,
                        "remaining_time": 4.873651555,
                        "test": [
                          0.09807084781,
                          0.983541189
                        ]
                      },
                      {
                        "learn": [
                          0.09654697452
                        ],
                        "iteration": 595,
                        "passed_time": 7.168403012,
                        "remaining_time": 4.85911882,
                        "test": [
                          0.09804093796,
                          0.983541189
                        ]
                      },
                      {
                        "learn": [
                          0.09646805784
                        ],
                        "iteration": 596,
                        "passed_time": 7.177264837,
                        "remaining_time": 4.84495432,
                        "test": [
                          0.09800237703,
                          0.9834730413
                        ]
                      },
                      {
                        "learn": [
                          0.09642445166
                        ],
                        "iteration": 597,
                        "passed_time": 7.186375836,
                        "remaining_time": 4.83097506,
                        "test": [
                          0.09797921303,
                          0.9834501255
                        ]
                      },
                      {
                        "learn": [
                          0.0964000703
                        ],
                        "iteration": 598,
                        "passed_time": 7.194838213,
                        "remaining_time": 4.816577835,
                        "test": [
                          0.0979788987,
                          0.9834501255
                        ]
                      },
                      {
                        "learn": [
                          0.09636044631
                        ],
                        "iteration": 599,
                        "passed_time": 7.203666897,
                        "remaining_time": 4.802444598,
                        "test": [
                          0.0979415983,
                          0.9834634161
                        ]
                      },
                      {
                        "learn": [
                          0.09631646099
                        ],
                        "iteration": 600,
                        "passed_time": 7.214639833,
                        "remaining_time": 4.789752568,
                        "test": [
                          0.09790999947,
                          0.9834634161
                        ]
                      },
                      {
                        "learn": [
                          0.09629308113
                        ],
                        "iteration": 601,
                        "passed_time": 7.224137901,
                        "remaining_time": 4.77609117,
                        "test": [
                          0.09789855695,
                          0.9834634161
                        ]
                      },
                      {
                        "learn": [
                          0.09617194973
                        ],
                        "iteration": 602,
                        "passed_time": 7.233364743,
                        "remaining_time": 4.762265013,
                        "test": [
                          0.09778412,
                          0.9834634161
                        ]
                      },
                      {
                        "learn": [
                          0.09615593132
                        ],
                        "iteration": 603,
                        "passed_time": 7.242123625,
                        "remaining_time": 4.748147277,
                        "test": [
                          0.09777991325,
                          0.9834634161
                        ]
                      },
                      {
                        "learn": [
                          0.09608895134
                        ],
                        "iteration": 604,
                        "passed_time": 7.251300596,
                        "remaining_time": 4.734320224,
                        "test": [
                          0.09770138726,
                          0.9834634161
                        ]
                      },
                      {
                        "learn": [
                          0.09602245314
                        ],
                        "iteration": 605,
                        "passed_time": 7.259882855,
                        "remaining_time": 4.720121856,
                        "test": [
                          0.09766108361,
                          0.9834742096
                        ]
                      },
                      {
                        "learn": [
                          0.09599178421
                        ],
                        "iteration": 606,
                        "passed_time": 7.268642198,
                        "remaining_time": 4.706056645,
                        "test": [
                          0.09763727009,
                          0.9834742096
                        ]
                      },
                      {
                        "learn": [
                          0.09593679796
                        ],
                        "iteration": 607,
                        "passed_time": 7.278029983,
                        "remaining_time": 4.692414068,
                        "test": [
                          0.09759670476,
                          0.9834742096
                        ]
                      },
                      {
                        "learn": [
                          0.09588828165
                        ],
                        "iteration": 608,
                        "passed_time": 7.287384467,
                        "remaining_time": 4.678764083,
                        "test": [
                          0.09757005374,
                          0.9834936556
                        ]
                      },
                      {
                        "learn": [
                          0.09583172624
                        ],
                        "iteration": 609,
                        "passed_time": 7.296726111,
                        "remaining_time": 4.665119972,
                        "test": [
                          0.09752223422,
                          0.9834936556
                        ]
                      },
                      {
                        "learn": [
                          0.09581952413
                        ],
                        "iteration": 610,
                        "passed_time": 7.305126986,
                        "remaining_time": 4.650890995,
                        "test": [
                          0.09750822847,
                          0.9834936556
                        ]
                      },
                      {
                        "learn": [
                          0.09579963061
                        ],
                        "iteration": 611,
                        "passed_time": 7.31341541,
                        "remaining_time": 4.63660977,
                        "test": [
                          0.09747803772,
                          0.9834936556
                        ]
                      },
                      {
                        "learn": [
                          0.09577042865
                        ],
                        "iteration": 612,
                        "passed_time": 7.32257313,
                        "remaining_time": 4.622896903,
                        "test": [
                          0.09746448722,
                          0.9834936556
                        ]
                      },
                      {
                        "learn": [
                          0.09574180269
                        ],
                        "iteration": 613,
                        "passed_time": 7.331611458,
                        "remaining_time": 4.609123816,
                        "test": [
                          0.09743892662,
                          0.9834742096
                        ]
                      },
                      {
                        "learn": [
                          0.09571942977
                        ],
                        "iteration": 614,
                        "passed_time": 7.340267559,
                        "remaining_time": 4.595126846,
                        "test": [
                          0.09741217761,
                          0.9834742096
                        ]
                      },
                      {
                        "learn": [
                          0.09564467521
                        ],
                        "iteration": 615,
                        "passed_time": 7.349584253,
                        "remaining_time": 4.581559015,
                        "test": [
                          0.09733181223,
                          0.9834742096
                        ]
                      },
                      {
                        "learn": [
                          0.0955786495
                        ],
                        "iteration": 616,
                        "passed_time": 7.361564449,
                        "remaining_time": 4.569658321,
                        "test": [
                          0.09727237729,
                          0.9835057779
                        ]
                      },
                      {
                        "learn": [
                          0.09543463897
                        ],
                        "iteration": 617,
                        "passed_time": 7.370944564,
                        "remaining_time": 4.5561502,
                        "test": [
                          0.09723054765,
                          0.9832833419
                        ]
                      },
                      {
                        "learn": [
                          0.09538257531
                        ],
                        "iteration": 618,
                        "passed_time": 7.379782368,
                        "remaining_time": 4.542321619,
                        "test": [
                          0.09720742054,
                          0.9832833419
                        ]
                      },
                      {
                        "learn": [
                          0.09537586988
                        ],
                        "iteration": 619,
                        "passed_time": 7.388078272,
                        "remaining_time": 4.528177005,
                        "test": [
                          0.0972001238,
                          0.9832638959
                        ]
                      },
                      {
                        "learn": [
                          0.09536031202
                        ],
                        "iteration": 620,
                        "passed_time": 7.397943416,
                        "remaining_time": 4.515008945,
                        "test": [
                          0.09718908442,
                          0.9832638959
                        ]
                      },
                      {
                        "learn": [
                          0.09525145236
                        ],
                        "iteration": 621,
                        "passed_time": 7.407721599,
                        "remaining_time": 4.501798657,
                        "test": [
                          0.09713597581,
                          0.9835010874
                        ]
                      },
                      {
                        "learn": [
                          0.09523087202
                        ],
                        "iteration": 622,
                        "passed_time": 7.416375869,
                        "remaining_time": 4.487919266,
                        "test": [
                          0.09711829392,
                          0.9835010874
                        ]
                      },
                      {
                        "learn": [
                          0.09520827315
                        ],
                        "iteration": 623,
                        "passed_time": 7.424841586,
                        "remaining_time": 4.473943007,
                        "test": [
                          0.09710659475,
                          0.9835010874
                        ]
                      },
                      {
                        "learn": [
                          0.09513739728
                        ],
                        "iteration": 624,
                        "passed_time": 7.433870184,
                        "remaining_time": 4.46032211,
                        "test": [
                          0.09707761798,
                          0.9835171213
                        ]
                      },
                      {
                        "learn": [
                          0.09506403383
                        ],
                        "iteration": 625,
                        "passed_time": 7.443382941,
                        "remaining_time": 4.447005144,
                        "test": [
                          0.0969978897,
                          0.9835171213
                        ]
                      },
                      {
                        "learn": [
                          0.09504340173
                        ],
                        "iteration": 626,
                        "passed_time": 7.452719106,
                        "remaining_time": 4.433595257,
                        "test": [
                          0.096968241,
                          0.9835171213
                        ]
                      },
                      {
                        "learn": [
                          0.09492920067
                        ],
                        "iteration": 627,
                        "passed_time": 7.461919947,
                        "remaining_time": 4.420118185,
                        "test": [
                          0.09688441153,
                          0.9835171213
                        ]
                      },
                      {
                        "learn": [
                          0.09488416047
                        ],
                        "iteration": 628,
                        "passed_time": 7.470837283,
                        "remaining_time": 4.406487491,
                        "test": [
                          0.09686247976,
                          0.9835171213
                        ]
                      },
                      {
                        "learn": [
                          0.09480380861
                        ],
                        "iteration": 629,
                        "passed_time": 7.479604385,
                        "remaining_time": 4.392783528,
                        "test": [
                          0.09674254492,
                          0.9834616039
                        ]
                      },
                      {
                        "learn": [
                          0.09478048833
                        ],
                        "iteration": 630,
                        "passed_time": 7.489330287,
                        "remaining_time": 4.379655905,
                        "test": [
                          0.09670799254,
                          0.9834503608
                        ]
                      },
                      {
                        "learn": [
                          0.09471518932
                        ],
                        "iteration": 631,
                        "passed_time": 7.498762813,
                        "remaining_time": 4.36636822,
                        "test": [
                          0.09665606473,
                          0.9834503608
                        ]
                      },
                      {
                        "learn": [
                          0.09469276905
                        ],
                        "iteration": 632,
                        "passed_time": 7.507760121,
                        "remaining_time": 4.352840386,
                        "test": [
                          0.09662349594,
                          0.9834503608
                        ]
                      },
                      {
                        "learn": [
                          0.09461535147
                        ],
                        "iteration": 633,
                        "passed_time": 7.517155116,
                        "remaining_time": 4.339556423,
                        "test": [
                          0.09651473131,
                          0.9834503608
                        ]
                      },
                      {
                        "learn": [
                          0.0945433735
                        ],
                        "iteration": 634,
                        "passed_time": 7.526662903,
                        "remaining_time": 4.326349543,
                        "test": [
                          0.09647029122,
                          0.9834503608
                        ]
                      },
                      {
                        "learn": [
                          0.09452703087
                        ],
                        "iteration": 635,
                        "passed_time": 7.535666921,
                        "remaining_time": 4.312865974,
                        "test": [
                          0.09646154235,
                          0.9834503608
                        ]
                      },
                      {
                        "learn": [
                          0.09446872178
                        ],
                        "iteration": 636,
                        "passed_time": 7.544898513,
                        "remaining_time": 4.299526154,
                        "test": [
                          0.09641624838,
                          0.9836152402
                        ]
                      },
                      {
                        "learn": [
                          0.09443049031
                        ],
                        "iteration": 637,
                        "passed_time": 7.553744797,
                        "remaining_time": 4.28598059,
                        "test": [
                          0.09639488172,
                          0.9836152402
                        ]
                      },
                      {
                        "learn": [
                          0.09440465237
                        ],
                        "iteration": 638,
                        "passed_time": 7.56302737,
                        "remaining_time": 4.272696214,
                        "test": [
                          0.09638719341,
                          0.9834698068
                        ]
                      },
                      {
                        "learn": [
                          0.09430943926
                        ],
                        "iteration": 639,
                        "passed_time": 7.572220931,
                        "remaining_time": 4.259374274,
                        "test": [
                          0.09633242161,
                          0.9834698068
                        ]
                      },
                      {
                        "learn": [
                          0.09422025721
                        ],
                        "iteration": 640,
                        "passed_time": 7.58177855,
                        "remaining_time": 4.24626911,
                        "test": [
                          0.09624396072,
                          0.9834698068
                        ]
                      },
                      {
                        "learn": [
                          0.0941960159
                        ],
                        "iteration": 641,
                        "passed_time": 7.590987041,
                        "remaining_time": 4.232980313,
                        "test": [
                          0.0962144854,
                          0.9834698068
                        ]
                      },
                      {
                        "learn": [
                          0.09417810161
                        ],
                        "iteration": 642,
                        "passed_time": 7.599876367,
                        "remaining_time": 4.219527003,
                        "test": [
                          0.09620134635,
                          0.9834698068
                        ]
                      },
                      {
                        "learn": [
                          0.09413448699
                        ],
                        "iteration": 643,
                        "passed_time": 7.609010896,
                        "remaining_time": 4.206223415,
                        "test": [
                          0.09613472187,
                          0.9834698068
                        ]
                      },
                      {
                        "learn": [
                          0.09405118567
                        ],
                        "iteration": 644,
                        "passed_time": 7.618670136,
                        "remaining_time": 4.193221548,
                        "test": [
                          0.09608360323,
                          0.9834576845
                        ]
                      },
                      {
                        "learn": [
                          0.09402765108
                        ],
                        "iteration": 645,
                        "passed_time": 7.627827437,
                        "remaining_time": 4.179954973,
                        "test": [
                          0.09608020579,
                          0.9834576845
                        ]
                      },
                      {
                        "learn": [
                          0.09391679215
                        ],
                        "iteration": 646,
                        "passed_time": 7.637406286,
                        "remaining_time": 4.166931096,
                        "test": [
                          0.09601928352,
                          0.9834624842
                        ]
                      },
                      {
                        "learn": [
                          0.0938280911
                        ],
                        "iteration": 647,
                        "passed_time": 7.655427281,
                        "remaining_time": 4.158503708,
                        "test": [
                          0.09598431417,
                          0.9834527932
                        ]
                      },
                      {
                        "learn": [
                          0.09377261385
                        ],
                        "iteration": 648,
                        "passed_time": 7.666946928,
                        "remaining_time": 4.146530619,
                        "test": [
                          0.09593890419,
                          0.9834527932
                        ]
                      },
                      {
                        "learn": [
                          0.09374148421
                        ],
                        "iteration": 649,
                        "passed_time": 7.677397514,
                        "remaining_time": 4.133983277,
                        "test": [
                          0.09588867252,
                          0.9834527932
                        ]
                      },
                      {
                        "learn": [
                          0.09370127794
                        ],
                        "iteration": 650,
                        "passed_time": 7.686710037,
                        "remaining_time": 4.120832263,
                        "test": [
                          0.0958656438,
                          0.9834527932
                        ]
                      },
                      {
                        "learn": [
                          0.09366563664
                        ],
                        "iteration": 651,
                        "passed_time": 7.695906539,
                        "remaining_time": 4.107631097,
                        "test": [
                          0.09584457504,
                          0.9834527932
                        ]
                      },
                      {
                        "learn": [
                          0.09355546392
                        ],
                        "iteration": 652,
                        "passed_time": 7.705037078,
                        "remaining_time": 4.094407146,
                        "test": [
                          0.09579126869,
                          0.9834431241
                        ]
                      },
                      {
                        "learn": [
                          0.09349873421
                        ],
                        "iteration": 653,
                        "passed_time": 7.713957354,
                        "remaining_time": 4.081084472,
                        "test": [
                          0.09572488267,
                          0.9834278361
                        ]
                      },
                      {
                        "learn": [
                          0.09343349088
                        ],
                        "iteration": 654,
                        "passed_time": 7.723526353,
                        "remaining_time": 4.068116934,
                        "test": [
                          0.09565490804,
                          0.9834278361
                        ]
                      },
                      {
                        "learn": [
                          0.09339375402
                        ],
                        "iteration": 655,
                        "passed_time": 7.732791476,
                        "remaining_time": 4.055000408,
                        "test": [
                          0.09563828963,
                          0.9834278361
                        ]
                      },
                      {
                        "learn": [
                          0.09337943203
                        ],
                        "iteration": 656,
                        "passed_time": 7.742609289,
                        "remaining_time": 4.04218415,
                        "test": [
                          0.09563418149,
                          0.9834278361
                        ]
                      },
                      {
                        "learn": [
                          0.09326220512
                        ],
                        "iteration": 657,
                        "passed_time": 7.752482174,
                        "remaining_time": 4.029405628,
                        "test": [
                          0.09558609149,
                          0.983411377
                        ]
                      },
                      {
                        "learn": [
                          0.09316403695
                        ],
                        "iteration": 658,
                        "passed_time": 7.762197085,
                        "remaining_time": 4.016554182,
                        "test": [
                          0.0955343318,
                          0.9833699389
                        ]
                      },
                      {
                        "learn": [
                          0.09312975057
                        ],
                        "iteration": 659,
                        "passed_time": 7.77057449,
                        "remaining_time": 4.003023222,
                        "test": [
                          0.09550128025,
                          0.983396089
                        ]
                      },
                      {
                        "learn": [
                          0.09306233592
                        ],
                        "iteration": 660,
                        "passed_time": 7.780326332,
                        "remaining_time": 3.990212748,
                        "test": [
                          0.09547229288,
                          0.9833166982
                        ]
                      },
                      {
                        "learn": [
                          0.09298624165
                        ],
                        "iteration": 661,
                        "passed_time": 7.789535444,
                        "remaining_time": 3.977134411,
                        "test": [
                          0.09540557237,
                          0.9833581363
                        ]
                      },
                      {
                        "learn": [
                          0.09296043194
                        ],
                        "iteration": 662,
                        "passed_time": 7.798526491,
                        "remaining_time": 3.963956904,
                        "test": [
                          0.09538650151,
                          0.9833581363
                        ]
                      },
                      {
                        "learn": [
                          0.09294757423
                        ],
                        "iteration": 663,
                        "passed_time": 7.806963867,
                        "remaining_time": 3.950511837,
                        "test": [
                          0.09537508234,
                          0.9833581363
                        ]
                      },
                      {
                        "learn": [
                          0.09291157612
                        ],
                        "iteration": 664,
                        "passed_time": 7.815821592,
                        "remaining_time": 3.937293584,
                        "test": [
                          0.09533917706,
                          0.9833581363
                        ]
                      },
                      {
                        "learn": [
                          0.0928100577
                        ],
                        "iteration": 665,
                        "passed_time": 7.825467313,
                        "remaining_time": 3.924483607,
                        "test": [
                          0.09528158695,
                          0.983290548
                        ]
                      },
                      {
                        "learn": [
                          0.09277388616
                        ],
                        "iteration": 666,
                        "passed_time": 7.83395457,
                        "remaining_time": 3.911104755,
                        "test": [
                          0.09524077248,
                          0.983290548
                        ]
                      },
                      {
                        "learn": [
                          0.09268741178
                        ],
                        "iteration": 667,
                        "passed_time": 7.847768302,
                        "remaining_time": 3.900387839,
                        "test": [
                          0.09515810735,
                          0.983290548
                        ]
                      },
                      {
                        "learn": [
                          0.09265925919
                        ],
                        "iteration": 668,
                        "passed_time": 7.856942363,
                        "remaining_time": 3.887366102,
                        "test": [
                          0.09515653122,
                          0.983290548
                        ]
                      },
                      {
                        "learn": [
                          0.09263760383
                        ],
                        "iteration": 669,
                        "passed_time": 7.865680865,
                        "remaining_time": 3.874141322,
                        "test": [
                          0.09513579066,
                          0.983290548
                        ]
                      },
                      {
                        "learn": [
                          0.09256750513
                        ],
                        "iteration": 670,
                        "passed_time": 7.874892407,
                        "remaining_time": 3.861161851,
                        "test": [
                          0.09503531128,
                          0.983290548
                        ]
                      },
                      {
                        "learn": [
                          0.09253580505
                        ],
                        "iteration": 671,
                        "passed_time": 7.885357373,
                        "remaining_time": 3.848805384,
                        "test": [
                          0.09500276834,
                          0.983290548
                        ]
                      },
                      {
                        "learn": [
                          0.09250586292
                        ],
                        "iteration": 672,
                        "passed_time": 7.89434903,
                        "remaining_time": 3.835738682,
                        "test": [
                          0.09497877489,
                          0.9833319862
                        ]
                      },
                      {
                        "learn": [
                          0.09239868869
                        ],
                        "iteration": 673,
                        "passed_time": 7.904099472,
                        "remaining_time": 3.82305108,
                        "test": [
                          0.09491529698,
                          0.983290548
                        ]
                      },
                      {
                        "learn": [
                          0.0923234973
                        ],
                        "iteration": 674,
                        "passed_time": 7.913532658,
                        "remaining_time": 3.810219428,
                        "test": [
                          0.09482012841,
                          0.9832797545
                        ]
                      },
                      {
                        "learn": [
                          0.09230350212
                        ],
                        "iteration": 675,
                        "passed_time": 7.923718649,
                        "remaining_time": 3.797758642,
                        "test": [
                          0.09479696305,
                          0.9832797545
                        ]
                      },
                      {
                        "learn": [
                          0.09227039797
                        ],
                        "iteration": 676,
                        "passed_time": 7.933034192,
                        "remaining_time": 3.784889282,
                        "test": [
                          0.09477897343,
                          0.9833115016
                        ]
                      },
                      {
                        "learn": [
                          0.09219967704
                        ],
                        "iteration": 677,
                        "passed_time": 7.941731954,
                        "remaining_time": 3.771737005,
                        "test": [
                          0.09468017879,
                          0.9833115016
                        ]
                      },
                      {
                        "learn": [
                          0.09218076578
                        ],
                        "iteration": 678,
                        "passed_time": 7.950878784,
                        "remaining_time": 3.758810147,
                        "test": [
                          0.09466961756,
                          0.9833376517
                        ]
                      },
                      {
                        "learn": [
                          0.09216139385
                        ],
                        "iteration": 679,
                        "passed_time": 7.959173568,
                        "remaining_time": 3.745493444,
                        "test": [
                          0.09466078156,
                          0.9833376517
                        ]
                      },
                      {
                        "learn": [
                          0.0920750568
                        ],
                        "iteration": 680,
                        "passed_time": 7.967684306,
                        "remaining_time": 3.732292649,
                        "test": [
                          0.09459295249,
                          0.9833376517
                        ]
                      },
                      {
                        "learn": [
                          0.0920489586
                        ],
                        "iteration": 681,
                        "passed_time": 7.976824126,
                        "remaining_time": 3.719398933,
                        "test": [
                          0.09459180056,
                          0.9833376517
                        ]
                      },
                      {
                        "learn": [
                          0.0920157644
                        ],
                        "iteration": 682,
                        "passed_time": 7.985792333,
                        "remaining_time": 3.706436559,
                        "test": [
                          0.09455855207,
                          0.9833376517
                        ]
                      },
                      {
                        "learn": [
                          0.09193047503
                        ],
                        "iteration": 683,
                        "passed_time": 7.994736019,
                        "remaining_time": 3.693474535,
                        "test": [
                          0.09450880495,
                          0.9832962136
                        ]
                      },
                      {
                        "learn": [
                          0.09189566552
                        ],
                        "iteration": 684,
                        "passed_time": 8.003498212,
                        "remaining_time": 3.680440784,
                        "test": [
                          0.09445075323,
                          0.983598146
                        ]
                      },
                      {
                        "learn": [
                          0.09187354079
                        ],
                        "iteration": 685,
                        "passed_time": 8.012155393,
                        "remaining_time": 3.667371419,
                        "test": [
                          0.0944327868,
                          0.983598146
                        ]
                      },
                      {
                        "learn": [
                          0.09182275446
                        ],
                        "iteration": 686,
                        "passed_time": 8.021039378,
                        "remaining_time": 3.654418232,
                        "test": [
                          0.09439486902,
                          0.983598146
                        ]
                      },
                      {
                        "learn": [
                          0.09175831579
                        ],
                        "iteration": 687,
                        "passed_time": 8.029812131,
                        "remaining_time": 3.641426431,
                        "test": [
                          0.09430666083,
                          0.9835719958
                        ]
                      },
                      {
                        "learn": [
                          0.09173707445
                        ],
                        "iteration": 688,
                        "passed_time": 8.039481332,
                        "remaining_time": 3.628851515,
                        "test": [
                          0.09429523095,
                          0.9835719958
                        ]
                      },
                      {
                        "learn": [
                          0.0916312711
                        ],
                        "iteration": 689,
                        "passed_time": 8.048632242,
                        "remaining_time": 3.616052167,
                        "test": [
                          0.09418695038,
                          0.9836032739
                        ]
                      },
                      {
                        "learn": [
                          0.09158536406
                        ],
                        "iteration": 690,
                        "passed_time": 8.074313238,
                        "remaining_time": 3.610655269,
                        "test": [
                          0.09414524624,
                          0.9836032739
                        ]
                      },
                      {
                        "learn": [
                          0.09156801329
                        ],
                        "iteration": 691,
                        "passed_time": 8.10178781,
                        "remaining_time": 3.605998043,
                        "test": [
                          0.09413569764,
                          0.9836294241
                        ]
                      },
                      {
                        "learn": [
                          0.09147929628
                        ],
                        "iteration": 692,
                        "passed_time": 8.153896447,
                        "remaining_time": 3.612187892,
                        "test": [
                          0.09409951191,
                          0.9836032739
                        ]
                      },
                      {
                        "learn": [
                          0.09140107583
                        ],
                        "iteration": 693,
                        "passed_time": 8.193617581,
                        "remaining_time": 3.612747809,
                        "test": [
                          0.09403975414,
                          0.9836032739
                        ]
                      },
                      {
                        "learn": [
                          0.09138358693
                        ],
                        "iteration": 694,
                        "passed_time": 8.222309956,
                        "remaining_time": 3.608351851,
                        "test": [
                          0.09402525612,
                          0.9836032739
                        ]
                      },
                      {
                        "learn": [
                          0.09131891327
                        ],
                        "iteration": 695,
                        "passed_time": 8.245902111,
                        "remaining_time": 3.601658393,
                        "test": [
                          0.09398667776,
                          0.9836032739
                        ]
                      },
                      {
                        "learn": [
                          0.09130312439
                        ],
                        "iteration": 696,
                        "passed_time": 8.263919876,
                        "remaining_time": 3.592493146,
                        "test": [
                          0.0939760958,
                          0.9836032739
                        ]
                      },
                      {
                        "learn": [
                          0.09123570456
                        ],
                        "iteration": 697,
                        "passed_time": 8.292534161,
                        "remaining_time": 3.587887273,
                        "test": [
                          0.09392308384,
                          0.9836181809
                        ]
                      },
                      {
                        "learn": [
                          0.09121970807
                        ],
                        "iteration": 698,
                        "passed_time": 8.310885043,
                        "remaining_time": 3.57879313,
                        "test": [
                          0.09390919123,
                          0.9836181809
                        ]
                      },
                      {
                        "learn": [
                          0.09119597231
                        ],
                        "iteration": 699,
                        "passed_time": 8.325823487,
                        "remaining_time": 3.568210066,
                        "test": [
                          0.09389957236,
                          0.9836181809
                        ]
                      },
                      {
                        "learn": [
                          0.09115551958
                        ],
                        "iteration": 700,
                        "passed_time": 8.365323516,
                        "remaining_time": 3.568090915,
                        "test": [
                          0.09387412514,
                          0.9836181809
                        ]
                      },
                      {
                        "learn": [
                          0.09114429111
                        ],
                        "iteration": 701,
                        "passed_time": 8.395066832,
                        "remaining_time": 3.563717829,
                        "test": [
                          0.09385822183,
                          0.9836181809
                        ]
                      },
                      {
                        "learn": [
                          0.09101717614
                        ],
                        "iteration": 702,
                        "passed_time": 8.434267415,
                        "remaining_time": 3.563268026,
                        "test": [
                          0.09369924048,
                          0.9836181809
                        ]
                      },
                      {
                        "learn": [
                          0.0909485511
                        ],
                        "iteration": 703,
                        "passed_time": 8.46597108,
                        "remaining_time": 3.559556022,
                        "test": [
                          0.09365482628,
                          0.98362785
                        ]
                      },
                      {
                        "learn": [
                          0.09088865348
                        ],
                        "iteration": 704,
                        "passed_time": 8.494453701,
                        "remaining_time": 3.554416797,
                        "test": [
                          0.09363838914,
                          0.98362785
                        ]
                      },
                      {
                        "learn": [
                          0.09080102204
                        ],
                        "iteration": 705,
                        "passed_time": 8.529103924,
                        "remaining_time": 3.551779821,
                        "test": [
                          0.0936006601,
                          0.9839122176
                        ]
                      },
                      {
                        "learn": [
                          0.09071493805
                        ],
                        "iteration": 706,
                        "passed_time": 8.557607586,
                        "remaining_time": 3.546504983,
                        "test": [
                          0.09352259991,
                          0.984160076
                        ]
                      },
                      {
                        "learn": [
                          0.09065376822
                        ],
                        "iteration": 707,
                        "passed_time": 8.580023228,
                        "remaining_time": 3.538653648,
                        "test": [
                          0.09347176344,
                          0.9834914705
                        ]
                      },
                      {
                        "learn": [
                          0.09060250309
                        ],
                        "iteration": 708,
                        "passed_time": 8.601192915,
                        "remaining_time": 3.530249842,
                        "test": [
                          0.09340055028,
                          0.9834914705
                        ]
                      },
                      {
                        "learn": [
                          0.09054971239
                        ],
                        "iteration": 709,
                        "passed_time": 8.63288101,
                        "remaining_time": 3.526106328,
                        "test": [
                          0.09337025324,
                          0.9834914705
                        ]
                      },
                      {
                        "learn": [
                          0.09052502398
                        ],
                        "iteration": 710,
                        "passed_time": 8.653085198,
                        "remaining_time": 3.517217471,
                        "test": [
                          0.09336934024,
                          0.9834914705
                        ]
                      },
                      {
                        "learn": [
                          0.09049937947
                        ],
                        "iteration": 711,
                        "passed_time": 8.682400656,
                        "remaining_time": 3.511982288,
                        "test": [
                          0.09334329063,
                          0.9834754366
                        ]
                      },
                      {
                        "learn": [
                          0.09047298999
                        ],
                        "iteration": 712,
                        "passed_time": 8.709229165,
                        "remaining_time": 3.5056785,
                        "test": [
                          0.09333923974,
                          0.9834862302
                        ]
                      },
                      {
                        "learn": [
                          0.09041680801
                        ],
                        "iteration": 713,
                        "passed_time": 8.73790139,
                        "remaining_time": 3.500055739,
                        "test": [
                          0.09330520218,
                          0.9841708696
                        ]
                      },
                      {
                        "learn": [
                          0.09034441908
                        ],
                        "iteration": 714,
                        "passed_time": 8.774310878,
                        "remaining_time": 3.497452588,
                        "test": [
                          0.09325508881,
                          0.9841708696
                        ]
                      },
                      {
                        "learn": [
                          0.09032440844
                        ],
                        "iteration": 715,
                        "passed_time": 8.813224175,
                        "remaining_time": 3.495748137,
                        "test": [
                          0.09324646203,
                          0.9841708696
                        ]
                      },
                      {
                        "learn": [
                          0.09026804081
                        ],
                        "iteration": 716,
                        "passed_time": 8.854862146,
                        "remaining_time": 3.495015324,
                        "test": [
                          0.09322189626,
                          0.9841708696
                        ]
                      },
                      {
                        "learn": [
                          0.0902526635
                        ],
                        "iteration": 717,
                        "passed_time": 8.887132552,
                        "remaining_time": 3.490489387,
                        "test": [
                          0.09320859181,
                          0.9841708696
                        ]
                      },
                      {
                        "learn": [
                          0.09022844836
                        ],
                        "iteration": 718,
                        "passed_time": 8.925427247,
                        "remaining_time": 3.48824069,
                        "test": [
                          0.0931857523,
                          0.9841708696
                        ]
                      },
                      {
                        "learn": [
                          0.09021761618
                        ],
                        "iteration": 719,
                        "passed_time": 8.971688309,
                        "remaining_time": 3.488989898,
                        "test": [
                          0.09317313684,
                          0.9841708696
                        ]
                      },
                      {
                        "learn": [
                          0.09019884492
                        ],
                        "iteration": 720,
                        "passed_time": 9.014461992,
                        "remaining_time": 3.488259217,
                        "test": [
                          0.09316356659,
                          0.9841708696
                        ]
                      },
                      {
                        "learn": [
                          0.09015689671
                        ],
                        "iteration": 721,
                        "passed_time": 9.060236634,
                        "remaining_time": 3.488567568,
                        "test": [
                          0.09313728789,
                          0.9841708696
                        ]
                      },
                      {
                        "learn": [
                          0.09012245077
                        ],
                        "iteration": 722,
                        "passed_time": 9.155050163,
                        "remaining_time": 3.507536508,
                        "test": [
                          0.09310694454,
                          0.9839658928
                        ]
                      },
                      {
                        "learn": [
                          0.0900961416
                        ],
                        "iteration": 723,
                        "passed_time": 9.20715026,
                        "remaining_time": 3.50990811,
                        "test": [
                          0.09308987061,
                          0.9839658928
                        ]
                      },
                      {
                        "learn": [
                          0.08998757084
                        ],
                        "iteration": 724,
                        "passed_time": 9.264238756,
                        "remaining_time": 3.514021597,
                        "test": [
                          0.09298969629,
                          0.9839498589
                        ]
                      },
                      {
                        "learn": [
                          0.08994262378
                        ],
                        "iteration": 725,
                        "passed_time": 9.324172357,
                        "remaining_time": 3.519040256,
                        "test": [
                          0.09297023513,
                          0.9839498589
                        ]
                      },
                      {
                        "learn": [
                          0.08991626432
                        ],
                        "iteration": 726,
                        "passed_time": 9.371169183,
                        "remaining_time": 3.519022266,
                        "test": [
                          0.09295626038,
                          0.9839498589
                        ]
                      },
                      {
                        "learn": [
                          0.08980292163
                        ],
                        "iteration": 727,
                        "passed_time": 9.402807437,
                        "remaining_time": 3.513136845,
                        "test": [
                          0.0928786227,
                          0.9839498589
                        ]
                      },
                      {
                        "learn": [
                          0.08976315322
                        ],
                        "iteration": 728,
                        "passed_time": 9.423293241,
                        "remaining_time": 3.503034936,
                        "test": [
                          0.09283862499,
                          0.9839498589
                        ]
                      },
                      {
                        "learn": [
                          0.08973404691
                        ],
                        "iteration": 729,
                        "passed_time": 9.458608237,
                        "remaining_time": 3.498389348,
                        "test": [
                          0.092824343,
                          0.9839498589
                        ]
                      },
                      {
                        "learn": [
                          0.08968760088
                        ],
                        "iteration": 730,
                        "passed_time": 9.488661849,
                        "remaining_time": 3.491723717,
                        "test": [
                          0.09278870908,
                          0.9839020327
                        ]
                      },
                      {
                        "learn": [
                          0.08965700645
                        ],
                        "iteration": 731,
                        "passed_time": 9.517892876,
                        "remaining_time": 3.48469302,
                        "test": [
                          0.09277647169,
                          0.9839020327
                        ]
                      },
                      {
                        "learn": [
                          0.08957966793
                        ],
                        "iteration": 732,
                        "passed_time": 9.539150035,
                        "remaining_time": 3.474697216,
                        "test": [
                          0.09270596122,
                          0.9839020327
                        ]
                      },
                      {
                        "learn": [
                          0.0895732334
                        ],
                        "iteration": 733,
                        "passed_time": 9.564585416,
                        "remaining_time": 3.466184906,
                        "test": [
                          0.09269783309,
                          0.9839020327
                        ]
                      },
                      {
                        "learn": [
                          0.08955763377
                        ],
                        "iteration": 734,
                        "passed_time": 9.590460787,
                        "remaining_time": 3.457785182,
                        "test": [
                          0.09268160261,
                          0.9839020327
                        ]
                      },
                      {
                        "learn": [
                          0.08954006764
                        ],
                        "iteration": 735,
                        "passed_time": 9.60688887,
                        "remaining_time": 3.445949269,
                        "test": [
                          0.0926723052,
                          0.9839020327
                        ]
                      },
                      {
                        "learn": [
                          0.08951063807
                        ],
                        "iteration": 736,
                        "passed_time": 9.619773495,
                        "remaining_time": 3.432836403,
                        "test": [
                          0.09263699348,
                          0.9839020327
                        ]
                      },
                      {
                        "learn": [
                          0.08948321964
                        ],
                        "iteration": 737,
                        "passed_time": 9.628874324,
                        "remaining_time": 3.418380858,
                        "test": [
                          0.09260274976,
                          0.9838887421
                        ]
                      },
                      {
                        "learn": [
                          0.08942334289
                        ],
                        "iteration": 738,
                        "passed_time": 9.638515894,
                        "remaining_time": 3.404130783,
                        "test": [
                          0.0925659258,
                          0.983877499
                        ]
                      },
                      {
                        "learn": [
                          0.08936080151
                        ],
                        "iteration": 739,
                        "passed_time": 9.647622254,
                        "remaining_time": 3.389705116,
                        "test": [
                          0.09254721415,
                          0.9838887421
                        ]
                      },
                      {
                        "learn": [
                          0.08932250158
                        ],
                        "iteration": 740,
                        "passed_time": 9.656394467,
                        "remaining_time": 3.375177013,
                        "test": [
                          0.09252415763,
                          0.9839020327
                        ]
                      },
                      {
                        "learn": [
                          0.08923234908
                        ],
                        "iteration": 741,
                        "passed_time": 9.665860403,
                        "remaining_time": 3.360905639,
                        "test": [
                          0.09245857544,
                          0.9838887421
                        ]
                      },
                      {
                        "learn": [
                          0.08920929194
                        ],
                        "iteration": 742,
                        "passed_time": 9.682479581,
                        "remaining_time": 3.34912147,
                        "test": [
                          0.09243573021,
                          0.9838887421
                        ]
                      },
                      {
                        "learn": [
                          0.0891271696
                        ],
                        "iteration": 743,
                        "passed_time": 9.695264093,
                        "remaining_time": 3.336004849,
                        "test": [
                          0.092354932,
                          0.9838887421
                        ]
                      },
                      {
                        "learn": [
                          0.08911707069
                        ],
                        "iteration": 744,
                        "passed_time": 9.703627468,
                        "remaining_time": 3.321375845,
                        "test": [
                          0.09234306093,
                          0.9838887421
                        ]
                      },
                      {
                        "learn": [
                          0.08909305744
                        ],
                        "iteration": 745,
                        "passed_time": 9.713484882,
                        "remaining_time": 3.307272332,
                        "test": [
                          0.09232841004,
                          0.9838887421
                        ]
                      },
                      {
                        "learn": [
                          0.0890689445
                        ],
                        "iteration": 746,
                        "passed_time": 9.723468059,
                        "remaining_time": 3.293222783,
                        "test": [
                          0.09232754522,
                          0.9838887421
                        ]
                      },
                      {
                        "learn": [
                          0.08903263025
                        ],
                        "iteration": 747,
                        "passed_time": 9.734580708,
                        "remaining_time": 3.279564624,
                        "test": [
                          0.09228854412,
                          0.9838887421
                        ]
                      },
                      {
                        "learn": [
                          0.0889695254
                        ],
                        "iteration": 748,
                        "passed_time": 9.7615928,
                        "remaining_time": 3.271241379,
                        "test": [
                          0.0922167541,
                          0.9838887421
                        ]
                      },
                      {
                        "learn": [
                          0.08891806267
                        ],
                        "iteration": 749,
                        "passed_time": 9.785310798,
                        "remaining_time": 3.261770266,
                        "test": [
                          0.09215641463,
                          0.9838887421
                        ]
                      },
                      {
                        "learn": [
                          0.08886415813
                        ],
                        "iteration": 750,
                        "passed_time": 9.820367469,
                        "remaining_time": 3.256020639,
                        "test": [
                          0.0920910914,
                          0.9839020327
                        ]
                      },
                      {
                        "learn": [
                          0.08880025369
                        ],
                        "iteration": 751,
                        "passed_time": 9.855278837,
                        "remaining_time": 3.250145148,
                        "test": [
                          0.09202555896,
                          0.9838625492
                        ]
                      },
                      {
                        "learn": [
                          0.08877046585
                        ],
                        "iteration": 752,
                        "passed_time": 9.886592754,
                        "remaining_time": 3.243012497,
                        "test": [
                          0.0919986831,
                          0.9838674405
                        ]
                      },
                      {
                        "learn": [
                          0.08873802089
                        ],
                        "iteration": 753,
                        "passed_time": 9.908567298,
                        "remaining_time": 3.232768641,
                        "test": [
                          0.09198909613,
                          0.9838674405
                        ]
                      },
                      {
                        "learn": [
                          0.08869965962
                        ],
                        "iteration": 754,
                        "passed_time": 9.935794544,
                        "remaining_time": 3.22419823,
                        "test": [
                          0.09196638377,
                          0.9838674405
                        ]
                      },
                      {
                        "learn": [
                          0.08863860591
                        ],
                        "iteration": 755,
                        "passed_time": 9.963300497,
                        "remaining_time": 3.215668414,
                        "test": [
                          0.09191868386,
                          0.9838674405
                        ]
                      },
                      {
                        "learn": [
                          0.08861662127
                        ],
                        "iteration": 756,
                        "passed_time": 9.995565093,
                        "remaining_time": 3.208616007,
                        "test": [
                          0.09190609111,
                          0.9838674405
                        ]
                      },
                      {
                        "learn": [
                          0.08854288694
                        ],
                        "iteration": 757,
                        "passed_time": 10.01890804,
                        "remaining_time": 3.198648742,
                        "test": [
                          0.09184390307,
                          0.9838746715
                        ]
                      },
                      {
                        "learn": [
                          0.08851811103
                        ],
                        "iteration": 758,
                        "passed_time": 10.0468733,
                        "remaining_time": 3.190113921,
                        "test": [
                          0.09184104027,
                          0.9838746715
                        ]
                      },
                      {
                        "learn": [
                          0.08850148707
                        ],
                        "iteration": 759,
                        "passed_time": 10.07010939,
                        "remaining_time": 3.180034545,
                        "test": [
                          0.09182839871,
                          0.9838746715
                        ]
                      },
                      {
                        "learn": [
                          0.08847598461
                        ],
                        "iteration": 760,
                        "passed_time": 10.09299269,
                        "remaining_time": 3.169809795,
                        "test": [
                          0.0918166108,
                          0.9838746715
                        ]
                      },
                      {
                        "learn": [
                          0.08842319038
                        ],
                        "iteration": 761,
                        "passed_time": 10.12139557,
                        "remaining_time": 3.161275783,
                        "test": [
                          0.09176327798,
                          0.9838625492
                        ]
                      },
                      {
                        "learn": [
                          0.0884142076
                        ],
                        "iteration": 762,
                        "passed_time": 10.14338365,
                        "remaining_time": 3.150697148,
                        "test": [
                          0.0917494091,
                          0.9838625492
                        ]
                      },
                      {
                        "learn": [
                          0.08829331801
                        ],
                        "iteration": 763,
                        "passed_time": 10.17125715,
                        "remaining_time": 3.141906658,
                        "test": [
                          0.09166059314,
                          0.9842310646
                        ]
                      },
                      {
                        "learn": [
                          0.0881927301
                        ],
                        "iteration": 764,
                        "passed_time": 10.24005777,
                        "remaining_time": 3.145638662,
                        "test": [
                          0.0915974136,
                          0.9841653051
                        ]
                      },
                      {
                        "learn": [
                          0.08816229648
                        ],
                        "iteration": 765,
                        "passed_time": 10.28400732,
                        "remaining_time": 3.141589703,
                        "test": [
                          0.09155990405,
                          0.9841653051
                        ]
                      },
                      {
                        "learn": [
                          0.08814187574
                        ],
                        "iteration": 766,
                        "passed_time": 10.30605268,
                        "remaining_time": 3.130782627,
                        "test": [
                          0.09153191224,
                          0.9841653051
                        ]
                      },
                      {
                        "learn": [
                          0.08803697311
                        ],
                        "iteration": 767,
                        "passed_time": 10.36005253,
                        "remaining_time": 3.129599201,
                        "test": [
                          0.09140903275,
                          0.9842423077
                        ]
                      },
                      {
                        "learn": [
                          0.08800885967
                        ],
                        "iteration": 768,
                        "passed_time": 10.39313531,
                        "remaining_time": 3.121995132,
                        "test": [
                          0.09136819943,
                          0.9842423077
                        ]
                      },
                      {
                        "learn": [
                          0.08798938246
                        ],
                        "iteration": 769,
                        "passed_time": 10.4236506,
                        "remaining_time": 3.113557972,
                        "test": [
                          0.09133997186,
                          0.9842423077
                        ]
                      },
                      {
                        "learn": [
                          0.08797060118
                        ],
                        "iteration": 770,
                        "passed_time": 10.44604975,
                        "remaining_time": 3.10265291,
                        "test": [
                          0.09133438488,
                          0.9842423077
                        ]
                      },
                      {
                        "learn": [
                          0.08792725535
                        ],
                        "iteration": 771,
                        "passed_time": 10.47302553,
                        "remaining_time": 3.093069717,
                        "test": [
                          0.09128076913,
                          0.9842423077
                        ]
                      },
                      {
                        "learn": [
                          0.08791104164
                        ],
                        "iteration": 772,
                        "passed_time": 10.49216048,
                        "remaining_time": 3.081138977,
                        "test": [
                          0.09126427801,
                          0.9842423077
                        ]
                      },
                      {
                        "learn": [
                          0.08783024816
                        ],
                        "iteration": 773,
                        "passed_time": 10.54292269,
                        "remaining_time": 3.078424455,
                        "test": [
                          0.09119140379,
                          0.9842423077
                        ]
                      },
                      {
                        "learn": [
                          0.0878165893
                        ],
                        "iteration": 774,
                        "passed_time": 10.58512679,
                        "remaining_time": 3.073101327,
                        "test": [
                          0.09117744266,
                          0.9842423077
                        ]
                      },
                      {
                        "learn": [
                          0.08774224927
                        ],
                        "iteration": 775,
                        "passed_time": 10.6094985,
                        "remaining_time": 3.062535651,
                        "test": [
                          0.09111970449,
                          0.9842683609
                        ]
                      },
                      {
                        "learn": [
                          0.08772456283
                        ],
                        "iteration": 776,
                        "passed_time": 10.64939716,
                        "remaining_time": 3.056390691,
                        "test": [
                          0.09110908783,
                          0.9842683609
                        ]
                      },
                      {
                        "learn": [
                          0.08765512262
                        ],
                        "iteration": 777,
                        "passed_time": 10.67202098,
                        "remaining_time": 3.045229636,
                        "test": [
                          0.09104353646,
                          0.9842683609
                        ]
                      },
                      {
                        "learn": [
                          0.08758865186
                        ],
                        "iteration": 778,
                        "passed_time": 10.71632757,
                        "remaining_time": 3.040190492,
                        "test": [
                          0.09099199693,
                          0.9842683609
                        ]
                      },
                      {
                        "learn": [
                          0.08754983938
                        ],
                        "iteration": 779,
                        "passed_time": 10.74278195,
                        "remaining_time": 3.030015422,
                        "test": [
                          0.09095548518,
                          0.9842683609
                        ]
                      },
                      {
                        "learn": [
                          0.08748110959
                        ],
                        "iteration": 780,
                        "passed_time": 10.76592379,
                        "remaining_time": 3.018869795,
                        "test": [
                          0.09091435435,
                          0.9842683609
                        ]
                      },
                      {
                        "learn": [
                          0.08744594723
                        ],
                        "iteration": 781,
                        "passed_time": 10.78813372,
                        "remaining_time": 3.007433696,
                        "test": [
                          0.09089363442,
                          0.9842683609
                        ]
                      },
                      {
                        "learn": [
                          0.08741986938
                        ],
                        "iteration": 782,
                        "passed_time": 10.80526597,
                        "remaining_time": 2.994562856,
                        "test": [
                          0.09085186601,
                          0.9842683609
                        ]
                      },
                      {
                        "learn": [
                          0.08737321202
                        ],
                        "iteration": 783,
                        "passed_time": 10.82104952,
                        "remaining_time": 2.981309563,
                        "test": [
                          0.09078951117,
                          0.9842683609
                        ]
                      },
                      {
                        "learn": [
                          0.08732523408
                        ],
                        "iteration": 784,
                        "passed_time": 10.83230208,
                        "remaining_time": 2.966808849,
                        "test": [
                          0.09075489184,
                          0.9842683609
                        ]
                      },
                      {
                        "learn": [
                          0.08728021384
                        ],
                        "iteration": 785,
                        "passed_time": 10.84483961,
                        "remaining_time": 2.952666256,
                        "test": [
                          0.09072378367,
                          0.9842683609
                        ]
                      },
                      {
                        "learn": [
                          0.08726109881
                        ],
                        "iteration": 786,
                        "passed_time": 10.85575683,
                        "remaining_time": 2.938089205,
                        "test": [
                          0.09070416285,
                          0.9841913582
                        ]
                      },
                      {
                        "learn": [
                          0.087241831
                        ],
                        "iteration": 787,
                        "passed_time": 10.86853649,
                        "remaining_time": 2.924022508,
                        "test": [
                          0.09068752737,
                          0.9841913582
                        ]
                      },
                      {
                        "learn": [
                          0.08721678518
                        ],
                        "iteration": 788,
                        "passed_time": 10.88073149,
                        "remaining_time": 2.909802718,
                        "test": [
                          0.09065588684,
                          0.9837653707
                        ]
                      },
                      {
                        "learn": [
                          0.08713245623
                        ],
                        "iteration": 789,
                        "passed_time": 10.90617371,
                        "remaining_time": 2.899109468,
                        "test": [
                          0.09054754436,
                          0.9837300435
                        ]
                      },
                      {
                        "learn": [
                          0.08711951532
                        ],
                        "iteration": 790,
                        "passed_time": 10.92962481,
                        "remaining_time": 2.887852825,
                        "test": [
                          0.09053638677,
                          0.9837300435
                        ]
                      },
                      {
                        "learn": [
                          0.08705975161
                        ],
                        "iteration": 791,
                        "passed_time": 10.95062232,
                        "remaining_time": 2.875921013,
                        "test": [
                          0.09048547355,
                          0.9837300435
                        ]
                      },
                      {
                        "learn": [
                          0.08702109354
                        ],
                        "iteration": 792,
                        "passed_time": 10.97182356,
                        "remaining_time": 2.864019516,
                        "test": [
                          0.09046454032,
                          0.9837039903
                        ]
                      },
                      {
                        "learn": [
                          0.08689809482
                        ],
                        "iteration": 793,
                        "passed_time": 10.98429471,
                        "remaining_time": 2.849829611,
                        "test": [
                          0.09039271536,
                          0.9844572687
                        ]
                      },
                      {
                        "learn": [
                          0.08683707824
                        ],
                        "iteration": 794,
                        "passed_time": 11.00997724,
                        "remaining_time": 2.839050735,
                        "test": [
                          0.09034892731,
                          0.9838301013
                        ]
                      },
                      {
                        "learn": [
                          0.08676685514
                        ],
                        "iteration": 795,
                        "passed_time": 11.02125271,
                        "remaining_time": 2.824542152,
                        "test": [
                          0.09025728595,
                          0.9838193078
                        ]
                      },
                      {
                        "learn": [
                          0.08672357333
                        ],
                        "iteration": 796,
                        "passed_time": 11.03492123,
                        "remaining_time": 2.810651204,
                        "test": [
                          0.09023803963,
                          0.9838193078
                        ]
                      },
                      {
                        "learn": [
                          0.08666616664
                        ],
                        "iteration": 797,
                        "passed_time": 11.04820892,
                        "remaining_time": 2.796664414,
                        "test": [
                          0.09021310063,
                          0.9844879133
                        ]
                      },
                      {
                        "learn": [
                          0.08665592406
                        ],
                        "iteration": 798,
                        "passed_time": 11.05934826,
                        "remaining_time": 2.782138925,
                        "test": [
                          0.09020118858,
                          0.9844879133
                        ]
                      },
                      {
                        "learn": [
                          0.08659470038
                        ],
                        "iteration": 799,
                        "passed_time": 11.0707769,
                        "remaining_time": 2.767694224,
                        "test": [
                          0.09019107696,
                          0.9838193078
                        ]
                      },
                      {
                        "learn": [
                          0.0865411451
                        ],
                        "iteration": 800,
                        "passed_time": 11.08355004,
                        "remaining_time": 2.753591083,
                        "test": [
                          0.09014527182,
                          0.983805377
                        ]
                      },
                      {
                        "learn": [
                          0.08650623924
                        ],
                        "iteration": 801,
                        "passed_time": 11.09507268,
                        "remaining_time": 2.739182531,
                        "test": [
                          0.09012572539,
                          0.9838161705
                        ]
                      },
                      {
                        "learn": [
                          0.0864904525
                        ],
                        "iteration": 802,
                        "passed_time": 11.10542925,
                        "remaining_time": 2.724495096,
                        "test": [
                          0.09008919819,
                          0.9838161705
                        ]
                      },
                      {
                        "learn": [
                          0.08646854171
                        ],
                        "iteration": 803,
                        "passed_time": 11.11695047,
                        "remaining_time": 2.710102353,
                        "test": [
                          0.09008701644,
                          0.9838161705
                        ]
                      },
                      {
                        "learn": [
                          0.08644543492
                        ],
                        "iteration": 804,
                        "passed_time": 11.13631305,
                        "remaining_time": 2.697616204,
                        "test": [
                          0.09007722566,
                          0.9838161705
                        ]
                      },
                      {
                        "learn": [
                          0.08638375642
                        ],
                        "iteration": 805,
                        "passed_time": 11.15106147,
                        "remaining_time": 2.684002388,
                        "test": [
                          0.09006465011,
                          0.9838161705
                        ]
                      },
                      {
                        "learn": [
                          0.0863693293
                        ],
                        "iteration": 806,
                        "passed_time": 11.16262807,
                        "remaining_time": 2.669624804,
                        "test": [
                          0.09005262589,
                          0.9838161705
                        ]
                      },
                      {
                        "learn": [
                          0.08627619246
                        ],
                        "iteration": 807,
                        "passed_time": 11.176677,
                        "remaining_time": 2.655844041,
                        "test": [
                          0.08998476866,
                          0.9838137823
                        ]
                      },
                      {
                        "learn": [
                          0.08626860849
                        ],
                        "iteration": 808,
                        "passed_time": 11.19067198,
                        "remaining_time": 2.642049874,
                        "test": [
                          0.08997353949,
                          0.9838137823
                        ]
                      },
                      {
                        "learn": [
                          0.08613184844
                        ],
                        "iteration": 809,
                        "passed_time": 11.21362919,
                        "remaining_time": 2.630357465,
                        "test": [
                          0.089866509,
                          0.9845529337
                        ]
                      },
                      {
                        "learn": [
                          0.08609767812
                        ],
                        "iteration": 810,
                        "passed_time": 11.22553592,
                        "remaining_time": 2.616062008,
                        "test": [
                          0.08984084209,
                          0.9844944131
                        ]
                      },
                      {
                        "learn": [
                          0.08606190397
                        ],
                        "iteration": 811,
                        "passed_time": 11.23573044,
                        "remaining_time": 2.601376013,
                        "test": [
                          0.08981812679,
                          0.9844944131
                        ]
                      },
                      {
                        "learn": [
                          0.08603983587
                        ],
                        "iteration": 812,
                        "passed_time": 11.24608676,
                        "remaining_time": 2.586738284,
                        "test": [
                          0.0898109503,
                          0.984431299
                        ]
                      },
                      {
                        "learn": [
                          0.08600095748
                        ],
                        "iteration": 813,
                        "passed_time": 11.25749605,
                        "remaining_time": 2.572351677,
                        "test": [
                          0.08977684854,
                          0.9843216894
                        ]
                      },
                      {
                        "learn": [
                          0.08598896633
                        ],
                        "iteration": 814,
                        "passed_time": 11.26828155,
                        "remaining_time": 2.557830781,
                        "test": [
                          0.08977265784,
                          0.9843216894
                        ]
                      },
                      {
                        "learn": [
                          0.08594946222
                        ],
                        "iteration": 815,
                        "passed_time": 11.30158889,
                        "remaining_time": 2.548397494,
                        "test": [
                          0.08973823632,
                          0.9844010803
                        ]
                      },
                      {
                        "learn": [
                          0.0859357281
                        ],
                        "iteration": 816,
                        "passed_time": 11.32575603,
                        "remaining_time": 2.536858451,
                        "test": [
                          0.08973385952,
                          0.9844010803
                        ]
                      },
                      {
                        "learn": [
                          0.08591333616
                        ],
                        "iteration": 817,
                        "passed_time": 11.34555555,
                        "remaining_time": 2.524316761,
                        "test": [
                          0.08972568313,
                          0.9844010803
                        ]
                      },
                      {
                        "learn": [
                          0.08589253358
                        ],
                        "iteration": 818,
                        "passed_time": 11.35499775,
                        "remaining_time": 2.509468367,
                        "test": [
                          0.08971264879,
                          0.9844010803
                        ]
                      },
                      {
                        "learn": [
                          0.08575046253
                        ],
                        "iteration": 819,
                        "passed_time": 11.36803181,
                        "remaining_time": 2.495421616,
                        "test": [
                          0.0896099346,
                          0.984388958
                        ]
                      },
                      {
                        "learn": [
                          0.08567736245
                        ],
                        "iteration": 820,
                        "passed_time": 11.3771738,
                        "remaining_time": 2.480528757,
                        "test": [
                          0.08954976987,
                          0.9843095671
                        ]
                      },
                      {
                        "learn": [
                          0.08562274838
                        ],
                        "iteration": 821,
                        "passed_time": 11.38619474,
                        "remaining_time": 2.465623677,
                        "test": [
                          0.08950123059,
                          0.9843356203
                        ]
                      },
                      {
                        "learn": [
                          0.0855936288
                        ],
                        "iteration": 822,
                        "passed_time": 11.39446426,
                        "remaining_time": 2.450571293,
                        "test": [
                          0.08949299323,
                          0.9843356203
                        ]
                      },
                      {
                        "learn": [
                          0.08554697349
                        ],
                        "iteration": 823,
                        "passed_time": 11.40333964,
                        "remaining_time": 2.435664778,
                        "test": [
                          0.08945435517,
                          0.9843356203
                        ]
                      },
                      {
                        "learn": [
                          0.08542162447
                        ],
                        "iteration": 824,
                        "passed_time": 11.41264997,
                        "remaining_time": 2.420865144,
                        "test": [
                          0.08926307482,
                          0.9843259512
                        ]
                      },
                      {
                        "learn": [
                          0.08539250705
                        ],
                        "iteration": 825,
                        "passed_time": 11.42141986,
                        "remaining_time": 2.405964958,
                        "test": [
                          0.08923979433,
                          0.9843162821
                        ]
                      },
                      {
                        "learn": [
                          0.08536381203
                        ],
                        "iteration": 826,
                        "passed_time": 11.43013378,
                        "remaining_time": 2.391067889,
                        "test": [
                          0.08921832733,
                          0.9843162821
                        ]
                      },
                      {
                        "learn": [
                          0.08528769068
                        ],
                        "iteration": 827,
                        "passed_time": 11.43962263,
                        "remaining_time": 2.37634673,
                        "test": [
                          0.08920219786,
                          0.9843162821
                        ]
                      },
                      {
                        "learn": [
                          0.08524540097
                        ],
                        "iteration": 828,
                        "passed_time": 11.4481352,
                        "remaining_time": 2.361436814,
                        "test": [
                          0.08918406438,
                          0.9845212589
                        ]
                      },
                      {
                        "learn": [
                          0.08521381804
                        ],
                        "iteration": 829,
                        "passed_time": 11.4574267,
                        "remaining_time": 2.346701854,
                        "test": [
                          0.08915676971,
                          0.9844952058
                        ]
                      },
                      {
                        "learn": [
                          0.08518987742
                        ],
                        "iteration": 830,
                        "passed_time": 11.46671578,
                        "remaining_time": 2.331979503,
                        "test": [
                          0.08914774279,
                          0.9843497724
                        ]
                      },
                      {
                        "learn": [
                          0.08515171232
                        ],
                        "iteration": 831,
                        "passed_time": 11.47557063,
                        "remaining_time": 2.317182531,
                        "test": [
                          0.08908915144,
                          0.9844952058
                        ]
                      },
                      {
                        "learn": [
                          0.08510452361
                        ],
                        "iteration": 832,
                        "passed_time": 11.48865826,
                        "remaining_time": 2.303248414,
                        "test": [
                          0.0890530115,
                          0.9843758256
                        ]
                      },
                      {
                        "learn": [
                          0.08503694988
                        ],
                        "iteration": 833,
                        "passed_time": 11.49807586,
                        "remaining_time": 2.288585843,
                        "test": [
                          0.08899326539,
                          0.9843758256
                        ]
                      },
                      {
                        "learn": [
                          0.08502064215
                        ],
                        "iteration": 834,
                        "passed_time": 11.50693654,
                        "remaining_time": 2.273825783,
                        "test": [
                          0.08897238944,
                          0.984413082
                        ]
                      },
                      {
                        "learn": [
                          0.08498975779
                        ],
                        "iteration": 835,
                        "passed_time": 11.51565924,
                        "remaining_time": 2.259052769,
                        "test": [
                          0.08895296791,
                          0.984413082
                        ]
                      },
                      {
                        "learn": [
                          0.08492586625
                        ],
                        "iteration": 836,
                        "passed_time": 11.5254773,
                        "remaining_time": 2.244507527,
                        "test": [
                          0.08891545971,
                          0.984413082
                        ]
                      },
                      {
                        "learn": [
                          0.0848934985
                        ],
                        "iteration": 837,
                        "passed_time": 11.53530135,
                        "remaining_time": 2.229974725,
                        "test": [
                          0.08889862143,
                          0.984413082
                        ]
                      },
                      {
                        "learn": [
                          0.08486320047
                        ],
                        "iteration": 838,
                        "passed_time": 11.54479061,
                        "remaining_time": 2.215388902,
                        "test": [
                          0.08886168676,
                          0.984413082
                        ]
                      },
                      {
                        "learn": [
                          0.08483071014
                        ],
                        "iteration": 839,
                        "passed_time": 11.55409533,
                        "remaining_time": 2.200780062,
                        "test": [
                          0.08883366261,
                          0.984413082
                        ]
                      },
                      {
                        "learn": [
                          0.08480358737
                        ],
                        "iteration": 840,
                        "passed_time": 11.56432195,
                        "remaining_time": 2.186358133,
                        "test": [
                          0.0888232404,
                          0.984413082
                        ]
                      },
                      {
                        "learn": [
                          0.08467462486
                        ],
                        "iteration": 841,
                        "passed_time": 11.57425458,
                        "remaining_time": 2.171891002,
                        "test": [
                          0.08872026995,
                          0.984413082
                        ]
                      },
                      {
                        "learn": [
                          0.0846514939
                        ],
                        "iteration": 842,
                        "passed_time": 11.58335971,
                        "remaining_time": 2.157280516,
                        "test": [
                          0.08870646212,
                          0.984413082
                        ]
                      },
                      {
                        "learn": [
                          0.08454031932
                        ],
                        "iteration": 843,
                        "passed_time": 11.59302825,
                        "remaining_time": 2.142787212,
                        "test": [
                          0.08862430239,
                          0.9844252043
                        ]
                      },
                      {
                        "learn": [
                          0.08448940576
                        ],
                        "iteration": 844,
                        "passed_time": 11.60240116,
                        "remaining_time": 2.1282511,
                        "test": [
                          0.08862906889,
                          0.9844348734
                        ]
                      },
                      {
                        "learn": [
                          0.08434555903
                        ],
                        "iteration": 845,
                        "passed_time": 11.61296144,
                        "remaining_time": 2.113943335,
                        "test": [
                          0.088464113,
                          0.984977893
                        ]
                      },
                      {
                        "learn": [
                          0.08433331526
                        ],
                        "iteration": 846,
                        "passed_time": 11.62230677,
                        "remaining_time": 2.099424954,
                        "test": [
                          0.08844624347,
                          0.984977893
                        ]
                      },
                      {
                        "learn": [
                          0.08428225614
                        ],
                        "iteration": 847,
                        "passed_time": 11.63196484,
                        "remaining_time": 2.08497483,
                        "test": [
                          0.08837980786,
                          0.984272031
                        ]
                      },
                      {
                        "learn": [
                          0.08426204426
                        ],
                        "iteration": 848,
                        "passed_time": 11.64090091,
                        "remaining_time": 2.070407582,
                        "test": [
                          0.08836259575,
                          0.984272031
                        ]
                      },
                      {
                        "learn": [
                          0.08424684956
                        ],
                        "iteration": 849,
                        "passed_time": 11.65029566,
                        "remaining_time": 2.055934528,
                        "test": [
                          0.08834346975,
                          0.984272031
                        ]
                      },
                      {
                        "learn": [
                          0.08422716242
                        ],
                        "iteration": 850,
                        "passed_time": 11.66456895,
                        "remaining_time": 2.042327584,
                        "test": [
                          0.08832781022,
                          0.984272031
                        ]
                      },
                      {
                        "learn": [
                          0.08417878515
                        ],
                        "iteration": 851,
                        "passed_time": 11.67403373,
                        "remaining_time": 2.027883793,
                        "test": [
                          0.0882816678,
                          0.984272031
                        ]
                      },
                      {
                        "learn": [
                          0.0841319277
                        ],
                        "iteration": 852,
                        "passed_time": 11.68339147,
                        "remaining_time": 2.013433232,
                        "test": [
                          0.08826918218,
                          0.984272031
                        ]
                      },
                      {
                        "learn": [
                          0.08408892889
                        ],
                        "iteration": 853,
                        "passed_time": 11.69247889,
                        "remaining_time": 1.998948382,
                        "test": [
                          0.08822522186,
                          0.9842971651
                        ]
                      },
                      {
                        "learn": [
                          0.0840574706
                        ],
                        "iteration": 854,
                        "passed_time": 11.70140589,
                        "remaining_time": 1.984448952,
                        "test": [
                          0.08821833671,
                          0.9842971651
                        ]
                      },
                      {
                        "learn": [
                          0.08402650602
                        ],
                        "iteration": 855,
                        "passed_time": 11.7195215,
                        "remaining_time": 1.971508289,
                        "test": [
                          0.08819393542,
                          0.9842971651
                        ]
                      },
                      {
                        "learn": [
                          0.08394783852
                        ],
                        "iteration": 856,
                        "passed_time": 11.72889637,
                        "remaining_time": 1.957097061,
                        "test": [
                          0.0881388517,
                          0.9844313554
                        ]
                      },
                      {
                        "learn": [
                          0.08392567035
                        ],
                        "iteration": 857,
                        "passed_time": 11.73842256,
                        "remaining_time": 1.942722615,
                        "test": [
                          0.08812436407,
                          0.984403768
                        ]
                      },
                      {
                        "learn": [
                          0.08390256587
                        ],
                        "iteration": 858,
                        "passed_time": 11.74805536,
                        "remaining_time": 1.928376956,
                        "test": [
                          0.08809765406,
                          0.984403768
                        ]
                      },
                      {
                        "learn": [
                          0.08384938164
                        ],
                        "iteration": 859,
                        "passed_time": 11.75723579,
                        "remaining_time": 1.913968617,
                        "test": [
                          0.08806075612,
                          0.9844150111
                        ]
                      },
                      {
                        "learn": [
                          0.08379319104
                        ],
                        "iteration": 860,
                        "passed_time": 11.76657325,
                        "remaining_time": 1.899597773,
                        "test": [
                          0.08803861364,
                          0.9844042176
                        ]
                      },
                      {
                        "learn": [
                          0.08369286545
                        ],
                        "iteration": 861,
                        "passed_time": 11.77746636,
                        "remaining_time": 1.885487654,
                        "test": [
                          0.08798651507,
                          0.9843929745
                        ]
                      },
                      {
                        "learn": [
                          0.08363126921
                        ],
                        "iteration": 862,
                        "passed_time": 11.78657923,
                        "remaining_time": 1.87110238,
                        "test": [
                          0.08796612893,
                          0.98506158
                        ]
                      },
                      {
                        "learn": [
                          0.08360437646
                        ],
                        "iteration": 863,
                        "passed_time": 11.7956864,
                        "remaining_time": 1.856728414,
                        "test": [
                          0.08793439936,
                          0.9850529757
                        ]
                      },
                      {
                        "learn": [
                          0.08356618002
                        ],
                        "iteration": 864,
                        "passed_time": 11.80802515,
                        "remaining_time": 1.842870977,
                        "test": [
                          0.08790861778,
                          0.9850529757
                        ]
                      },
                      {
                        "learn": [
                          0.08355068946
                        ],
                        "iteration": 865,
                        "passed_time": 11.81782188,
                        "remaining_time": 1.82862371,
                        "test": [
                          0.0878868939,
                          0.9850433066
                        ]
                      },
                      {
                        "learn": [
                          0.08349299747
                        ],
                        "iteration": 866,
                        "passed_time": 11.82636549,
                        "remaining_time": 1.814194476,
                        "test": [
                          0.08784603977,
                          0.98518874
                        ]
                      },
                      {
                        "learn": [
                          0.08347911372
                        ],
                        "iteration": 867,
                        "passed_time": 11.8350402,
                        "remaining_time": 1.799798741,
                        "test": [
                          0.08783310563,
                          0.98518874
                        ]
                      },
                      {
                        "learn": [
                          0.08345296265
                        ],
                        "iteration": 868,
                        "passed_time": 11.84574781,
                        "remaining_time": 1.785722628,
                        "test": [
                          0.08782591163,
                          0.9851400617
                        ]
                      },
                      {
                        "learn": [
                          0.0833980882
                        ],
                        "iteration": 869,
                        "passed_time": 11.85560808,
                        "remaining_time": 1.771527644,
                        "test": [
                          0.08777788489,
                          0.9851400617
                        ]
                      },
                      {
                        "learn": [
                          0.08330927708
                        ],
                        "iteration": 870,
                        "passed_time": 11.86524545,
                        "remaining_time": 1.757309602,
                        "test": [
                          0.08767591835,
                          0.9849266557
                        ]
                      },
                      {
                        "learn": [
                          0.08327535244
                        ],
                        "iteration": 871,
                        "passed_time": 11.87408408,
                        "remaining_time": 1.74298482,
                        "test": [
                          0.08766979295,
                          0.9848606132
                        ]
                      },
                      {
                        "learn": [
                          0.08317886224
                        ],
                        "iteration": 872,
                        "passed_time": 11.88312719,
                        "remaining_time": 1.728702352,
                        "test": [
                          0.08760426709,
                          0.9848992374
                        ]
                      },
                      {
                        "learn": [
                          0.08315902887
                        ],
                        "iteration": 873,
                        "passed_time": 11.89149277,
                        "remaining_time": 1.714334197,
                        "test": [
                          0.08758531423,
                          0.9849064776
                        ]
                      },
                      {
                        "learn": [
                          0.08311824542
                        ],
                        "iteration": 874,
                        "passed_time": 11.8998437,
                        "remaining_time": 1.699977672,
                        "test": [
                          0.08754743871,
                          0.9850307837
                        ]
                      },
                      {
                        "learn": [
                          0.08311174522
                        ],
                        "iteration": 875,
                        "passed_time": 11.90819477,
                        "remaining_time": 1.685634876,
                        "test": [
                          0.08753783245,
                          0.9850307837
                        ]
                      },
                      {
                        "learn": [
                          0.08307025194
                        ],
                        "iteration": 876,
                        "passed_time": 11.91718355,
                        "remaining_time": 1.671395185,
                        "test": [
                          0.0875073787,
                          0.9850307837
                        ]
                      },
                      {
                        "learn": [
                          0.08291949974
                        ],
                        "iteration": 877,
                        "passed_time": 11.92625967,
                        "remaining_time": 1.65717959,
                        "test": [
                          0.08744245204,
                          0.9848808731
                        ]
                      },
                      {
                        "learn": [
                          0.08285204183
                        ],
                        "iteration": 878,
                        "passed_time": 11.93597301,
                        "remaining_time": 1.643063407,
                        "test": [
                          0.08741984847,
                          0.9848612007
                        ]
                      },
                      {
                        "learn": [
                          0.08284009847
                        ],
                        "iteration": 879,
                        "passed_time": 11.9484252,
                        "remaining_time": 1.629330709,
                        "test": [
                          0.08740889633,
                          0.9848612007
                        ]
                      },
                      {
                        "learn": [
                          0.08278625305
                        ],
                        "iteration": 880,
                        "passed_time": 11.95758487,
                        "remaining_time": 1.615156186,
                        "test": [
                          0.08740227774,
                          0.9841925952
                        ]
                      },
                      {
                        "learn": [
                          0.08276594134
                        ],
                        "iteration": 881,
                        "passed_time": 11.96646908,
                        "remaining_time": 1.600956181,
                        "test": [
                          0.08738106671,
                          0.9841925952
                        ]
                      },
                      {
                        "learn": [
                          0.08272804338
                        ],
                        "iteration": 882,
                        "passed_time": 11.97610016,
                        "remaining_time": 1.586867179,
                        "test": [
                          0.0873573371,
                          0.9841917431
                        ]
                      },
                      {
                        "learn": [
                          0.08270814522
                        ],
                        "iteration": 883,
                        "passed_time": 11.98561659,
                        "remaining_time": 1.572773218,
                        "test": [
                          0.08734788592,
                          0.9841917431
                        ]
                      },
                      {
                        "learn": [
                          0.08268923677
                        ],
                        "iteration": 884,
                        "passed_time": 11.99471343,
                        "remaining_time": 1.558635079,
                        "test": [
                          0.08732784859,
                          0.9841917431
                        ]
                      },
                      {
                        "learn": [
                          0.0826079726
                        ],
                        "iteration": 885,
                        "passed_time": 12.00467116,
                        "remaining_time": 1.544619088,
                        "test": [
                          0.08721312425,
                          0.9842241135
                        ]
                      },
                      {
                        "learn": [
                          0.0825241964
                        ],
                        "iteration": 886,
                        "passed_time": 12.01410277,
                        "remaining_time": 1.530545224,
                        "test": [
                          0.08719396938,
                          0.9842241135
                        ]
                      },
                      {
                        "learn": [
                          0.08251396592
                        ],
                        "iteration": 887,
                        "passed_time": 12.02500674,
                        "remaining_time": 1.516667517,
                        "test": [
                          0.08718127372,
                          0.9842241135
                        ]
                      },
                      {
                        "learn": [
                          0.08245532028
                        ],
                        "iteration": 888,
                        "passed_time": 12.03404458,
                        "remaining_time": 1.502563496,
                        "test": [
                          0.08712558761,
                          0.9842241135
                        ]
                      },
                      {
                        "learn": [
                          0.08240830042
                        ],
                        "iteration": 889,
                        "passed_time": 12.04292377,
                        "remaining_time": 1.488451253,
                        "test": [
                          0.08711233953,
                          0.9842241135
                        ]
                      },
                      {
                        "learn": [
                          0.08239787002
                        ],
                        "iteration": 890,
                        "passed_time": 12.05166464,
                        "remaining_time": 1.474333833,
                        "test": [
                          0.0870973118,
                          0.9842241135
                        ]
                      },
                      {
                        "learn": [
                          0.08239167635
                        ],
                        "iteration": 891,
                        "passed_time": 12.06283006,
                        "remaining_time": 1.460522025,
                        "test": [
                          0.08708815409,
                          0.9842241135
                        ]
                      },
                      {
                        "learn": [
                          0.08233725485
                        ],
                        "iteration": 892,
                        "passed_time": 12.07277728,
                        "remaining_time": 1.446570178,
                        "test": [
                          0.08708279912,
                          0.9842024406
                        ]
                      },
                      {
                        "learn": [
                          0.08232460191
                        ],
                        "iteration": 893,
                        "passed_time": 12.08136732,
                        "remaining_time": 1.432466371,
                        "test": [
                          0.08706745693,
                          0.9842024406
                        ]
                      },
                      {
                        "learn": [
                          0.08229538478
                        ],
                        "iteration": 894,
                        "passed_time": 12.09044835,
                        "remaining_time": 1.418432488,
                        "test": [
                          0.08704089698,
                          0.9842024406
                        ]
                      },
                      {
                        "learn": [
                          0.08225689762
                        ],
                        "iteration": 895,
                        "passed_time": 12.09985557,
                        "remaining_time": 1.404447521,
                        "test": [
                          0.08701130151,
                          0.984165593
                        ]
                      },
                      {
                        "learn": [
                          0.08223450131
                        ],
                        "iteration": 896,
                        "passed_time": 12.10904119,
                        "remaining_time": 1.390447316,
                        "test": [
                          0.08699828319,
                          0.984165593
                        ]
                      },
                      {
                        "learn": [
                          0.08220649222
                        ],
                        "iteration": 897,
                        "passed_time": 12.11865534,
                        "remaining_time": 1.376506508,
                        "test": [
                          0.08696907891,
                          0.9841979634
                        ]
                      },
                      {
                        "learn": [
                          0.08213973721
                        ],
                        "iteration": 898,
                        "passed_time": 12.12951925,
                        "remaining_time": 1.362715733,
                        "test": [
                          0.08691314767,
                          0.9841979634
                        ]
                      },
                      {
                        "learn": [
                          0.08212561383
                        ],
                        "iteration": 899,
                        "passed_time": 12.13885298,
                        "remaining_time": 1.348761443,
                        "test": [
                          0.08689117212,
                          0.9841979634
                        ]
                      },
                      {
                        "learn": [
                          0.08210016313
                        ],
                        "iteration": 900,
                        "passed_time": 12.14769379,
                        "remaining_time": 1.334763246,
                        "test": [
                          0.0868609489,
                          0.9841979634
                        ]
                      },
                      {
                        "learn": [
                          0.0820495508
                        ],
                        "iteration": 901,
                        "passed_time": 12.15690396,
                        "remaining_time": 1.320816616,
                        "test": [
                          0.08682348078,
                          0.9841979634
                        ]
                      },
                      {
                        "learn": [
                          0.08200774486
                        ],
                        "iteration": 902,
                        "passed_time": 12.16588038,
                        "remaining_time": 1.306855367,
                        "test": [
                          0.08679748255,
                          0.9841979634
                        ]
                      },
                      {
                        "learn": [
                          0.08198854083
                        ],
                        "iteration": 903,
                        "passed_time": 12.17500677,
                        "remaining_time": 1.292921073,
                        "test": [
                          0.08678398182,
                          0.9841209607
                        ]
                      },
                      {
                        "learn": [
                          0.08192550021
                        ],
                        "iteration": 904,
                        "passed_time": 12.18494629,
                        "remaining_time": 1.27908276,
                        "test": [
                          0.08672932986,
                          0.984113528
                        ]
                      },
                      {
                        "learn": [
                          0.08188697399
                        ],
                        "iteration": 905,
                        "passed_time": 12.19573148,
                        "remaining_time": 1.265340794,
                        "test": [
                          0.08670549251,
                          0.984113528
                        ]
                      },
                      {
                        "learn": [
                          0.08185141219
                        ],
                        "iteration": 906,
                        "passed_time": 12.20480386,
                        "remaining_time": 1.251429724,
                        "test": [
                          0.0866836437,
                          0.984113528
                        ]
                      },
                      {
                        "learn": [
                          0.08182180855
                        ],
                        "iteration": 907,
                        "passed_time": 12.2141546,
                        "remaining_time": 1.237557514,
                        "test": [
                          0.08666398359,
                          0.984113528
                        ]
                      },
                      {
                        "learn": [
                          0.08179579904
                        ],
                        "iteration": 908,
                        "passed_time": 12.22388793,
                        "remaining_time": 1.223733555,
                        "test": [
                          0.08665092618,
                          0.984113528
                        ]
                      },
                      {
                        "learn": [
                          0.08170861581
                        ],
                        "iteration": 909,
                        "passed_time": 12.2354201,
                        "remaining_time": 1.210096493,
                        "test": [
                          0.0865632119,
                          0.984165593
                        ]
                      },
                      {
                        "learn": [
                          0.08163276304
                        ],
                        "iteration": 910,
                        "passed_time": 12.24494489,
                        "remaining_time": 1.196267943,
                        "test": [
                          0.08653067219,
                          0.9841901267
                        ]
                      },
                      {
                        "learn": [
                          0.08161432461
                        ],
                        "iteration": 911,
                        "passed_time": 12.2535524,
                        "remaining_time": 1.18236032,
                        "test": [
                          0.086512921,
                          0.984238805
                        ]
                      },
                      {
                        "learn": [
                          0.08155446972
                        ],
                        "iteration": 912,
                        "passed_time": 12.26273751,
                        "remaining_time": 1.168519346,
                        "test": [
                          0.08649838159,
                          0.984238805
                        ]
                      },
                      {
                        "learn": [
                          0.08150436368
                        ],
                        "iteration": 913,
                        "passed_time": 12.27206021,
                        "remaining_time": 1.154701508,
                        "test": [
                          0.08645956184,
                          0.9843643909
                        ]
                      },
                      {
                        "learn": [
                          0.08149305954
                        ],
                        "iteration": 914,
                        "passed_time": 12.28027979,
                        "remaining_time": 1.140791019,
                        "test": [
                          0.08645561241,
                          0.9843643909
                        ]
                      },
                      {
                        "learn": [
                          0.08144097176
                        ],
                        "iteration": 915,
                        "passed_time": 12.28968309,
                        "remaining_time": 1.127001506,
                        "test": [
                          0.08641344914,
                          0.984238805
                        ]
                      },
                      {
                        "learn": [
                          0.08137618308
                        ],
                        "iteration": 916,
                        "passed_time": 12.29870833,
                        "remaining_time": 1.113187341,
                        "test": [
                          0.0863341724,
                          0.9841714934
                        ]
                      },
                      {
                        "learn": [
                          0.08132800533
                        ],
                        "iteration": 917,
                        "passed_time": 12.33426572,
                        "remaining_time": 1.101753582,
                        "test": [
                          0.08630967872,
                          0.9841976435
                        ]
                      },
                      {
                        "learn": [
                          0.08121416204
                        ],
                        "iteration": 918,
                        "passed_time": 12.34908968,
                        "remaining_time": 1.088439895,
                        "test": [
                          0.08624905559,
                          0.9841714934
                        ]
                      },
                      {
                        "learn": [
                          0.08119594232
                        ],
                        "iteration": 919,
                        "passed_time": 12.36319152,
                        "remaining_time": 1.075060132,
                        "test": [
                          0.08623739646,
                          0.9841714934
                        ]
                      },
                      {
                        "learn": [
                          0.08113446501
                        ],
                        "iteration": 920,
                        "passed_time": 12.37353433,
                        "remaining_time": 1.061356365,
                        "test": [
                          0.08618787321,
                          0.983529038
                        ]
                      },
                      {
                        "learn": [
                          0.08105645994
                        ],
                        "iteration": 921,
                        "passed_time": 12.38333412,
                        "remaining_time": 1.04761395,
                        "test": [
                          0.0861287869,
                          0.984074604
                        ]
                      },
                      {
                        "learn": [
                          0.08104688826
                        ],
                        "iteration": 922,
                        "passed_time": 12.39218405,
                        "remaining_time": 1.033800836,
                        "test": [
                          0.08611822777,
                          0.9841177679
                        ]
                      },
                      {
                        "learn": [
                          0.08092936937
                        ],
                        "iteration": 923,
                        "passed_time": 12.40112221,
                        "remaining_time": 1.020005723,
                        "test": [
                          0.08597825992,
                          0.9841971588
                        ]
                      },
                      {
                        "learn": [
                          0.08090126924
                        ],
                        "iteration": 924,
                        "passed_time": 12.40978125,
                        "remaining_time": 1.00619848,
                        "test": [
                          0.08595759022,
                          0.9841971588
                        ]
                      },
                      {
                        "learn": [
                          0.0808711645
                        ],
                        "iteration": 925,
                        "passed_time": 12.41842936,
                        "remaining_time": 0.9924014827,
                        "test": [
                          0.08592053126,
                          0.9842045915
                        ]
                      },
                      {
                        "learn": [
                          0.08080195923
                        ],
                        "iteration": 926,
                        "passed_time": 12.42740824,
                        "remaining_time": 0.9786416415,
                        "test": [
                          0.08588398595,
                          0.9842045915
                        ]
                      },
                      {
                        "learn": [
                          0.0807591991
                        ],
                        "iteration": 927,
                        "passed_time": 12.43648781,
                        "remaining_time": 0.9648999164,
                        "test": [
                          0.08583937107,
                          0.9843227447
                        ]
                      },
                      {
                        "learn": [
                          0.08073302214
                        ],
                        "iteration": 928,
                        "passed_time": 12.44538063,
                        "remaining_time": 0.9511539553,
                        "test": [
                          0.08581914428,
                          0.9843301775
                        ]
                      },
                      {
                        "learn": [
                          0.08071646893
                        ],
                        "iteration": 929,
                        "passed_time": 12.45385439,
                        "remaining_time": 0.9373868898,
                        "test": [
                          0.08580310284,
                          0.9843168869
                        ]
                      },
                      {
                        "learn": [
                          0.08069198919
                        ],
                        "iteration": 930,
                        "passed_time": 12.46249208,
                        "remaining_time": 0.9236433445,
                        "test": [
                          0.08577448499,
                          0.9843094541
                        ]
                      },
                      {
                        "learn": [
                          0.0806800562
                        ],
                        "iteration": 931,
                        "passed_time": 12.4713776,
                        "remaining_time": 0.9099288377,
                        "test": [
                          0.08577230031,
                          0.9843094541
                        ]
                      },
                      {
                        "learn": [
                          0.0805609641
                        ],
                        "iteration": 932,
                        "passed_time": 12.48097021,
                        "remaining_time": 0.8962754597,
                        "test": [
                          0.08568353161,
                          0.9842642242
                        ]
                      },
                      {
                        "learn": [
                          0.08051389069
                        ],
                        "iteration": 933,
                        "passed_time": 12.49207448,
                        "remaining_time": 0.8827375968,
                        "test": [
                          0.08561856302,
                          0.9842642242
                        ]
                      },
                      {
                        "learn": [
                          0.08048469432
                        ],
                        "iteration": 934,
                        "passed_time": 12.50146991,
                        "remaining_time": 0.8690861436,
                        "test": [
                          0.08559651343,
                          0.9842903743
                        ]
                      },
                      {
                        "learn": [
                          0.08043636104
                        ],
                        "iteration": 935,
                        "passed_time": 12.5107248,
                        "remaining_time": 0.8554341746,
                        "test": [
                          0.0855837107,
                          0.9842903743
                        ]
                      },
                      {
                        "learn": [
                          0.08039933908
                        ],
                        "iteration": 936,
                        "passed_time": 12.51965679,
                        "remaining_time": 0.8417698802,
                        "test": [
                          0.08553732646,
                          0.9842770837
                        ]
                      },
                      {
                        "learn": [
                          0.08038112466
                        ],
                        "iteration": 937,
                        "passed_time": 12.52831508,
                        "remaining_time": 0.8280975853,
                        "test": [
                          0.08551972521,
                          0.9842770837
                        ]
                      },
                      {
                        "learn": [
                          0.08035302939
                        ],
                        "iteration": 938,
                        "passed_time": 12.53759534,
                        "remaining_time": 0.8144763749,
                        "test": [
                          0.08548792716,
                          0.9849328297
                        ]
                      },
                      {
                        "learn": [
                          0.08033374981
                        ],
                        "iteration": 939,
                        "passed_time": 12.54642205,
                        "remaining_time": 0.8008354499,
                        "test": [
                          0.08546558147,
                          0.9849328297
                        ]
                      },
                      {
                        "learn": [
                          0.08029057585
                        ],
                        "iteration": 940,
                        "passed_time": 12.55550402,
                        "remaining_time": 0.787220762,
                        "test": [
                          0.08543401024,
                          0.9848841514
                        ]
                      },
                      {
                        "learn": [
                          0.08028520961
                        ],
                        "iteration": 941,
                        "passed_time": 12.56394766,
                        "remaining_time": 0.7735763954,
                        "test": [
                          0.0854260519,
                          0.9848841514
                        ]
                      },
                      {
                        "learn": [
                          0.08023414706
                        ],
                        "iteration": 942,
                        "passed_time": 12.57498509,
                        "remaining_time": 0.7600998412,
                        "test": [
                          0.08540350092,
                          0.9848600673
                        ]
                      },
                      {
                        "learn": [
                          0.08019971933
                        ],
                        "iteration": 943,
                        "passed_time": 12.58493996,
                        "remaining_time": 0.7465642348,
                        "test": [
                          0.08536167349,
                          0.9848675
                        ]
                      },
                      {
                        "learn": [
                          0.08016745141
                        ],
                        "iteration": 944,
                        "passed_time": 12.59454339,
                        "remaining_time": 0.7330157527,
                        "test": [
                          0.08536239624,
                          0.9848675
                        ]
                      },
                      {
                        "learn": [
                          0.080143201
                        ],
                        "iteration": 945,
                        "passed_time": 12.60303755,
                        "remaining_time": 0.7194122917,
                        "test": [
                          0.08535712145,
                          0.9848675
                        ]
                      },
                      {
                        "learn": [
                          0.08012641289
                        ],
                        "iteration": 946,
                        "passed_time": 12.61672476,
                        "remaining_time": 0.7061102561,
                        "test": [
                          0.08534560366,
                          0.9848675
                        ]
                      },
                      {
                        "learn": [
                          0.08012133033
                        ],
                        "iteration": 947,
                        "passed_time": 12.62556778,
                        "remaining_time": 0.6925416925,
                        "test": [
                          0.08533804569,
                          0.9848675
                        ]
                      },
                      {
                        "learn": [
                          0.07998970969
                        ],
                        "iteration": 948,
                        "passed_time": 12.63547114,
                        "remaining_time": 0.679040072,
                        "test": [
                          0.08527140189,
                          0.984845824
                        ]
                      },
                      {
                        "learn": [
                          0.07996978775
                        ],
                        "iteration": 949,
                        "passed_time": 12.64434882,
                        "remaining_time": 0.6654920431,
                        "test": [
                          0.08525116856,
                          0.9848317732
                        ]
                      },
                      {
                        "learn": [
                          0.07989525275
                        ],
                        "iteration": 950,
                        "passed_time": 12.65590416,
                        "remaining_time": 0.652091802,
                        "test": [
                          0.08517803624,
                          0.9848302024
                        ]
                      },
                      {
                        "learn": [
                          0.07985885276
                        ],
                        "iteration": 951,
                        "passed_time": 12.66566536,
                        "remaining_time": 0.6386049761,
                        "test": [
                          0.0851556751,
                          0.9848642428
                        ]
                      },
                      {
                        "learn": [
                          0.07981444518
                        ],
                        "iteration": 952,
                        "passed_time": 12.6748871,
                        "remaining_time": 0.6250993638,
                        "test": [
                          0.08510259217,
                          0.9848642428
                        ]
                      },
                      {
                        "learn": [
                          0.0797871653
                        ],
                        "iteration": 953,
                        "passed_time": 12.68495183,
                        "remaining_time": 0.6116433796,
                        "test": [
                          0.0850889192,
                          0.9848775334
                        ]
                      },
                      {
                        "learn": [
                          0.07973951928
                        ],
                        "iteration": 954,
                        "passed_time": 12.69407083,
                        "remaining_time": 0.5981499343,
                        "test": [
                          0.08506452889,
                          0.9848302024
                        ]
                      },
                      {
                        "learn": [
                          0.07968665159
                        ],
                        "iteration": 955,
                        "passed_time": 12.70429636,
                        "remaining_time": 0.5847165689,
                        "test": [
                          0.08503855891,
                          0.9848563526
                        ]
                      },
                      {
                        "learn": [
                          0.07967093898
                        ],
                        "iteration": 956,
                        "passed_time": 12.71696952,
                        "remaining_time": 0.5713998844,
                        "test": [
                          0.08502664472,
                          0.9848563526
                        ]
                      },
                      {
                        "learn": [
                          0.07960452296
                        ],
                        "iteration": 957,
                        "passed_time": 12.72917796,
                        "remaining_time": 0.5580641695,
                        "test": [
                          0.08495529816,
                          0.9848563526
                        ]
                      },
                      {
                        "learn": [
                          0.07955313104
                        ],
                        "iteration": 958,
                        "passed_time": 12.74099419,
                        "remaining_time": 0.5447140375,
                        "test": [
                          0.08488538237,
                          0.9848563526
                        ]
                      },
                      {
                        "learn": [
                          0.07952189223
                        ],
                        "iteration": 959,
                        "passed_time": 12.75036208,
                        "remaining_time": 0.5312650866,
                        "test": [
                          0.0848603615,
                          0.9848563526
                        ]
                      },
                      {
                        "learn": [
                          0.07947438058
                        ],
                        "iteration": 960,
                        "passed_time": 12.76042793,
                        "remaining_time": 0.5178529544,
                        "test": [
                          0.0848026953,
                          0.9849158058
                        ]
                      },
                      {
                        "learn": [
                          0.07945343326
                        ],
                        "iteration": 961,
                        "passed_time": 12.7692934,
                        "remaining_time": 0.5044003631,
                        "test": [
                          0.08478821767,
                          0.9847902199
                        ]
                      },
                      {
                        "learn": [
                          0.07942869881
                        ],
                        "iteration": 962,
                        "passed_time": 12.77806856,
                        "remaining_time": 0.4909538285,
                        "test": [
                          0.0847611949,
                          0.9847902199
                        ]
                      },
                      {
                        "learn": [
                          0.07937438934
                        ],
                        "iteration": 963,
                        "passed_time": 12.7879968,
                        "remaining_time": 0.4775600465,
                        "test": [
                          0.08474637713,
                          0.9848817655
                        ]
                      },
                      {
                        "learn": [
                          0.07935412642
                        ],
                        "iteration": 964,
                        "passed_time": 12.79700348,
                        "remaining_time": 0.4641400225,
                        "test": [
                          0.08472788504,
                          0.9848817655
                        ]
                      },
                      {
                        "learn": [
                          0.07932779899
                        ],
                        "iteration": 965,
                        "passed_time": 12.80612382,
                        "remaining_time": 0.4507331364,
                        "test": [
                          0.0847099859,
                          0.9848817655
                        ]
                      },
                      {
                        "learn": [
                          0.0792989905
                        ],
                        "iteration": 966,
                        "passed_time": 12.81557939,
                        "remaining_time": 0.4373465564,
                        "test": [
                          0.08467183193,
                          0.9848817655
                        ]
                      },
                      {
                        "learn": [
                          0.07926869144
                        ],
                        "iteration": 967,
                        "passed_time": 12.82470385,
                        "remaining_time": 0.4239571522,
                        "test": [
                          0.08465117024,
                          0.9848817655
                        ]
                      },
                      {
                        "learn": [
                          0.07925601344
                        ],
                        "iteration": 968,
                        "passed_time": 12.83897453,
                        "remaining_time": 0.4107411871,
                        "test": [
                          0.08463229864,
                          0.9848817655
                        ]
                      },
                      {
                        "learn": [
                          0.07922781754
                        ],
                        "iteration": 969,
                        "passed_time": 12.84898975,
                        "remaining_time": 0.3973914356,
                        "test": [
                          0.08462367288,
                          0.9848817655
                        ]
                      },
                      {
                        "learn": [
                          0.07918357817
                        ],
                        "iteration": 970,
                        "passed_time": 12.85871966,
                        "remaining_time": 0.3840400312,
                        "test": [
                          0.08458829125,
                          0.9847561795
                        ]
                      },
                      {
                        "learn": [
                          0.07913260099
                        ],
                        "iteration": 971,
                        "passed_time": 12.86812967,
                        "remaining_time": 0.3706868629,
                        "test": [
                          0.08453680337,
                          0.9846970368
                        ]
                      },
                      {
                        "learn": [
                          0.0791215754
                        ],
                        "iteration": 972,
                        "passed_time": 12.87749391,
                        "remaining_time": 0.35734053,
                        "test": [
                          0.08452060324,
                          0.9846970368
                        ]
                      },
                      {
                        "learn": [
                          0.07909107897
                        ],
                        "iteration": 973,
                        "passed_time": 12.88722525,
                        "remaining_time": 0.3440121729,
                        "test": [
                          0.08450481079,
                          0.9846970368
                        ]
                      },
                      {
                        "learn": [
                          0.07907060608
                        ],
                        "iteration": 974,
                        "passed_time": 12.89701226,
                        "remaining_time": 0.330692622,
                        "test": [
                          0.08448531442,
                          0.9846708866
                        ]
                      },
                      {
                        "learn": [
                          0.07904118045
                        ],
                        "iteration": 975,
                        "passed_time": 12.9063953,
                        "remaining_time": 0.3173703763,
                        "test": [
                          0.08445515163,
                          0.9847477804
                        ]
                      },
                      {
                        "learn": [
                          0.07896760487
                        ],
                        "iteration": 976,
                        "passed_time": 12.91599865,
                        "remaining_time": 0.3040613808,
                        "test": [
                          0.08444511405,
                          0.984761071
                        ]
                      },
                      {
                        "learn": [
                          0.07893773479
                        ],
                        "iteration": 977,
                        "passed_time": 12.92531815,
                        "remaining_time": 0.2907535779,
                        "test": [
                          0.08443347185,
                          0.984761071
                        ]
                      },
                      {
                        "learn": [
                          0.07891099344
                        ],
                        "iteration": 978,
                        "passed_time": 12.93437277,
                        "remaining_time": 0.2774482411,
                        "test": [
                          0.08440863725,
                          0.984761071
                        ]
                      },
                      {
                        "learn": [
                          0.07884622038
                        ],
                        "iteration": 979,
                        "passed_time": 12.94393304,
                        "remaining_time": 0.2641618989,
                        "test": [
                          0.08440092074,
                          0.9840791749
                        ]
                      },
                      {
                        "learn": [
                          0.07882043334
                        ],
                        "iteration": 980,
                        "passed_time": 12.95608482,
                        "remaining_time": 0.2509333452,
                        "test": [
                          0.08438709459,
                          0.9840791749
                        ]
                      },
                      {
                        "learn": [
                          0.07880850555
                        ],
                        "iteration": 981,
                        "passed_time": 12.96567997,
                        "remaining_time": 0.2376601217,
                        "test": [
                          0.08437753918,
                          0.9840791749
                        ]
                      },
                      {
                        "learn": [
                          0.07878181246
                        ],
                        "iteration": 982,
                        "passed_time": 12.97449786,
                        "remaining_time": 0.2243809395,
                        "test": [
                          0.08434492175,
                          0.9840791749
                        ]
                      },
                      {
                        "learn": [
                          0.07873165221
                        ],
                        "iteration": 983,
                        "passed_time": 12.9839865,
                        "remaining_time": 0.2111217318,
                        "test": [
                          0.08431819661,
                          0.9840791749
                        ]
                      },
                      {
                        "learn": [
                          0.07870537098
                        ],
                        "iteration": 984,
                        "passed_time": 12.99275474,
                        "remaining_time": 0.1978592092,
                        "test": [
                          0.08429662731,
                          0.9840791749
                        ]
                      },
                      {
                        "learn": [
                          0.07867683541
                        ],
                        "iteration": 985,
                        "passed_time": 13.00246311,
                        "remaining_time": 0.1846191516,
                        "test": [
                          0.08428489994,
                          0.9840791749
                        ]
                      },
                      {
                        "learn": [
                          0.07861909421
                        ],
                        "iteration": 986,
                        "passed_time": 13.01293878,
                        "remaining_time": 0.1713963568,
                        "test": [
                          0.08425775908,
                          0.9840791749
                        ]
                      },
                      {
                        "learn": [
                          0.07859605174
                        ],
                        "iteration": 987,
                        "passed_time": 13.02351343,
                        "remaining_time": 0.1581803251,
                        "test": [
                          0.0842299291,
                          0.9840791749
                        ]
                      },
                      {
                        "learn": [
                          0.07856066755
                        ],
                        "iteration": 988,
                        "passed_time": 13.03288507,
                        "remaining_time": 0.1449562545,
                        "test": [
                          0.084208298,
                          0.9840791749
                        ]
                      },
                      {
                        "learn": [
                          0.07853586897
                        ],
                        "iteration": 989,
                        "passed_time": 13.0421086,
                        "remaining_time": 0.1317384707,
                        "test": [
                          0.08418892765,
                          0.9840791749
                        ]
                      },
                      {
                        "learn": [
                          0.07843817564
                        ],
                        "iteration": 990,
                        "passed_time": 13.05166571,
                        "remaining_time": 0.1185317774,
                        "test": [
                          0.08407317658,
                          0.9842047608
                        ]
                      },
                      {
                        "learn": [
                          0.07835806518
                        ],
                        "iteration": 991,
                        "passed_time": 13.06135207,
                        "remaining_time": 0.1053334844,
                        "test": [
                          0.08399469919,
                          0.9842047608
                        ]
                      },
                      {
                        "learn": [
                          0.0783408627
                        ],
                        "iteration": 992,
                        "passed_time": 13.07094788,
                        "remaining_time": 0.09214162654,
                        "test": [
                          0.08397205456,
                          0.9842047608
                        ]
                      },
                      {
                        "learn": [
                          0.07830628413
                        ],
                        "iteration": 993,
                        "passed_time": 13.08053869,
                        "remaining_time": 0.07895697397,
                        "test": [
                          0.08393867048,
                          0.9841723904
                        ]
                      },
                      {
                        "learn": [
                          0.07823269221
                        ],
                        "iteration": 994,
                        "passed_time": 13.09079914,
                        "remaining_time": 0.06578291025,
                        "test": [
                          0.08392667346,
                          0.9841723904
                        ]
                      },
                      {
                        "learn": [
                          0.07821023523
                        ],
                        "iteration": 995,
                        "passed_time": 13.10014098,
                        "remaining_time": 0.05261100797,
                        "test": [
                          0.08391022074,
                          0.9841723904
                        ]
                      },
                      {
                        "learn": [
                          0.07818709424
                        ],
                        "iteration": 996,
                        "passed_time": 13.11371477,
                        "remaining_time": 0.03945952288,
                        "test": [
                          0.08388480037,
                          0.9841723904
                        ]
                      },
                      {
                        "learn": [
                          0.0780820294
                        ],
                        "iteration": 997,
                        "passed_time": 13.12316464,
                        "remaining_time": 0.02629892713,
                        "test": [
                          0.08384347386,
                          0.984246199
                        ]
                      },
                      {
                        "learn": [
                          0.07805348351
                        ],
                        "iteration": 998,
                        "passed_time": 13.13197354,
                        "remaining_time": 0.01314511866,
                        "test": [
                          0.08382895041,
                          0.984246199
                        ]
                      },
                      {
                        "learn": [
                          0.07801151061
                        ],
                        "iteration": 999,
                        "passed_time": 13.14109928,
                        "remaining_time": 0,
                        "test": [
                          0.08379707948,
                          0.984246199
                        ]
                      }
                    ],
                    "meta": {
                      "test_sets": [
                        "test"
                      ],
                      "test_metrics": [
                        {
                          "best_value": "Min",
                          "name": "RMSE"
                        },
                        {
                          "best_value": "Max",
                          "name": "NDCG:type=Base"
                        }
                      ],
                      "learn_metrics": [
                        {
                          "best_value": "Min",
                          "name": "RMSE"
                        }
                      ],
                      "launch_mode": "Train",
                      "parameters": "",
                      "iteration_count": 1000,
                      "learn_sets": [
                        "learn"
                      ],
                      "name": "experiment"
                    }
                  }
                }
              }
            },
            "layout": "IPY_MODEL_065a142717fe40178e50ca8215ecd88f"
          }
        }
      }
    }
  },
  "cells": [
    {
      "cell_type": "code",
      "source": [
        "!pip install catboost"
      ],
      "metadata": {
        "colab": {
          "base_uri": "https://localhost:8080/"
        },
        "id": "LOlo5SHfqVyd",
        "outputId": "4c2bb080-b31f-4d56-dedb-ee971eda125f"
      },
      "execution_count": 99,
      "outputs": [
        {
          "output_type": "stream",
          "name": "stdout",
          "text": [
            "Requirement already satisfied: catboost in /usr/local/lib/python3.10/dist-packages (1.2.3)\n",
            "Requirement already satisfied: graphviz in /usr/local/lib/python3.10/dist-packages (from catboost) (0.20.1)\n",
            "Requirement already satisfied: matplotlib in /usr/local/lib/python3.10/dist-packages (from catboost) (3.7.1)\n",
            "Requirement already satisfied: numpy>=1.16.0 in /usr/local/lib/python3.10/dist-packages (from catboost) (1.25.2)\n",
            "Requirement already satisfied: pandas>=0.24 in /usr/local/lib/python3.10/dist-packages (from catboost) (1.5.3)\n",
            "Requirement already satisfied: scipy in /usr/local/lib/python3.10/dist-packages (from catboost) (1.11.4)\n",
            "Requirement already satisfied: plotly in /usr/local/lib/python3.10/dist-packages (from catboost) (5.15.0)\n",
            "Requirement already satisfied: six in /usr/local/lib/python3.10/dist-packages (from catboost) (1.16.0)\n",
            "Requirement already satisfied: python-dateutil>=2.8.1 in /usr/local/lib/python3.10/dist-packages (from pandas>=0.24->catboost) (2.8.2)\n",
            "Requirement already satisfied: pytz>=2020.1 in /usr/local/lib/python3.10/dist-packages (from pandas>=0.24->catboost) (2023.4)\n",
            "Requirement already satisfied: contourpy>=1.0.1 in /usr/local/lib/python3.10/dist-packages (from matplotlib->catboost) (1.2.0)\n",
            "Requirement already satisfied: cycler>=0.10 in /usr/local/lib/python3.10/dist-packages (from matplotlib->catboost) (0.12.1)\n",
            "Requirement already satisfied: fonttools>=4.22.0 in /usr/local/lib/python3.10/dist-packages (from matplotlib->catboost) (4.49.0)\n",
            "Requirement already satisfied: kiwisolver>=1.0.1 in /usr/local/lib/python3.10/dist-packages (from matplotlib->catboost) (1.4.5)\n",
            "Requirement already satisfied: packaging>=20.0 in /usr/local/lib/python3.10/dist-packages (from matplotlib->catboost) (23.2)\n",
            "Requirement already satisfied: pillow>=6.2.0 in /usr/local/lib/python3.10/dist-packages (from matplotlib->catboost) (9.4.0)\n",
            "Requirement already satisfied: pyparsing>=2.3.1 in /usr/local/lib/python3.10/dist-packages (from matplotlib->catboost) (3.1.2)\n",
            "Requirement already satisfied: tenacity>=6.2.0 in /usr/local/lib/python3.10/dist-packages (from plotly->catboost) (8.2.3)\n"
          ]
        }
      ]
    },
    {
      "cell_type": "code",
      "execution_count": 100,
      "metadata": {
        "id": "DIKcH6WfxWwH"
      },
      "outputs": [],
      "source": [
        "import pandas as pd\n",
        "import numpy as np\n",
        "import sklearn\n",
        "\n",
        "from sklearn.linear_model import LogisticRegression\n",
        "from sklearn.metrics import ndcg_score\n",
        "from sklearn.ensemble import GradientBoostingRegressor\n",
        "from sklearn.preprocessing import StandardScaler\n",
        "from sklearn.model_selection import GridSearchCV\n",
        "\n",
        "from catboost import CatBoostRanker, Pool, CatBoostRegressor\n",
        "from copy import deepcopy"
      ]
    },
    {
      "cell_type": "code",
      "source": [
        "train = pd.read_csv(\"data/train_df.csv\")\n",
        "test = pd.read_csv(\"data/test_df.csv\")"
      ],
      "metadata": {
        "id": "m0W38KmgyEuH"
      },
      "execution_count": 101,
      "outputs": []
    },
    {
      "cell_type": "markdown",
      "source": [
        "#### NDCG метрика"
      ],
      "metadata": {
        "id": "tDKoCPRxUSp1"
      }
    },
    {
      "cell_type": "code",
      "source": [
        "#Усредняем NDCG по всем запросам\n",
        "def NDCG(y_true, y_pred):\n",
        "    \"\"\"\n",
        "    Формат:\n",
        "    y_true = [[1, 0, 1], [0, 1]]\n",
        "    y_pred = [[0, 1, 1], [0, 0]]\n",
        "\n",
        "    Будем учитывать предсказания из одного обьекта, если он релевантен.\n",
        "    \"\"\"\n",
        "    ndcg_sum = 0\n",
        "    n = 0\n",
        "\n",
        "    for i in range(len(y_true)):\n",
        "        if len(y_true[i]) == 1 and y_true[i] == 1:\n",
        "             ndcg_sum += y_pred[i][0]\n",
        "             n += 1\n",
        "        if len(y_true[i]) != 1:\n",
        "            ndcg_sum += ndcg_score([y_true[i]], [y_pred[i]])\n",
        "            n += 1\n",
        "\n",
        "    return ndcg_sum / n\n",
        "\n",
        "\n",
        "#для удобства работы с валидационной выборкой\n",
        "def NDCG_df_res(df_res):\n",
        "    \"\"\"\n",
        "    Формат\n",
        "    df_res = pd.DataFrame(data={'search_id' : [..], 'y_pred' : [..], 'y_valid' : [..]})\n",
        "    \"\"\"\n",
        "    ids = list(set(df_res['search_id']))\n",
        "\n",
        "    y_true = []\n",
        "    y_pred = []\n",
        "\n",
        "    for id in ids:\n",
        "        y_pred.append(list(df_res[df_res['search_id'] == id]['y_pred']))\n",
        "        y_true.append(list(df_res[df_res['search_id'] == id]['y_valid']))\n",
        "\n",
        "    return NDCG(y_true, y_pred)"
      ],
      "metadata": {
        "id": "HOaFEFkDNUhR"
      },
      "execution_count": 102,
      "outputs": []
    },
    {
      "cell_type": "markdown",
      "source": [
        "#### Подготовим датасет"
      ],
      "metadata": {
        "id": "38GhA3gfUZfc"
      }
    },
    {
      "cell_type": "markdown",
      "source": [
        "1) Заметим,что некотрые признаки принимают коснтантные значения.\n",
        "Уберем их."
      ],
      "metadata": {
        "id": "XM9AbJ5pbGZH"
      }
    },
    {
      "cell_type": "code",
      "source": [
        "corr = train.corr();\n",
        "print(corr['search_id'].isnull()[corr['search_id'].isnull()==True])\n",
        "train = train.drop(['feature_0', 'feature_73', 'feature_74', 'feature_75'], axis=1)\n",
        "test = test.drop(['feature_0', 'feature_73', 'feature_74', 'feature_75'], axis=1)"
      ],
      "metadata": {
        "colab": {
          "base_uri": "https://localhost:8080/"
        },
        "id": "CFl-zO8HbPhX",
        "outputId": "3ee83d0c-2f08-4299-c545-195517fe5bd2"
      },
      "execution_count": 103,
      "outputs": [
        {
          "output_type": "stream",
          "name": "stdout",
          "text": [
            "feature_0     True\n",
            "feature_73    True\n",
            "feature_74    True\n",
            "feature_75    True\n",
            "Name: search_id, dtype: bool\n"
          ]
        }
      ]
    },
    {
      "cell_type": "markdown",
      "source": [
        "2) Уберем признаки сильно коррелирующие, к.Пирсона > 0.8"
      ],
      "metadata": {
        "id": "X5fIGO9qdgXH"
      }
    },
    {
      "cell_type": "code",
      "source": [
        "corr_vector = corr.abs().unstack().sort_values(ascending=False).drop_duplicates()\n",
        "corr_vector = list(dict(corr_vector[corr_vector < 1][corr_vector > 0.8]).keys())\n",
        "feature_list1 = set([f[0] for f in corr_vector])\n",
        "feature_list2 = set([f[0] for f in corr_vector])\n",
        "\n",
        "drop_features = list(set.union(feature_list1, feature_list2))\n",
        "drop_features"
      ],
      "metadata": {
        "colab": {
          "base_uri": "https://localhost:8080/"
        },
        "id": "5woh272HblM-",
        "outputId": "4c247d1a-abb9-4c8e-c3dc-f9960cf5d756"
      },
      "execution_count": 104,
      "outputs": [
        {
          "output_type": "execute_result",
          "data": {
            "text/plain": [
              "['feature_55',\n",
              " 'feature_53',\n",
              " 'feature_63',\n",
              " 'feature_62',\n",
              " 'feature_46',\n",
              " 'feature_65',\n",
              " 'feature_12',\n",
              " 'feature_71',\n",
              " 'feature_3',\n",
              " 'feature_76',\n",
              " 'feature_78',\n",
              " 'feature_11',\n",
              " 'feature_54']"
            ]
          },
          "metadata": {},
          "execution_count": 104
        }
      ]
    },
    {
      "cell_type": "code",
      "source": [
        "train = train.drop(drop_features, axis=1)\n",
        "test = test.drop(drop_features, axis=1)"
      ],
      "metadata": {
        "id": "xOUV-iUniqen"
      },
      "execution_count": 105,
      "outputs": []
    },
    {
      "cell_type": "markdown",
      "source": [
        "3) Подготовим search_id для удобной работы с NDCG. Разобьем тренировочный датасет на train_df и valid_df (valid_size=0.25)"
      ],
      "metadata": {
        "id": "rhsJvFRki9XW"
      }
    },
    {
      "cell_type": "code",
      "source": [
        "idx = sorted(list(set(train['search_id'])))\n",
        "\n",
        "drop_idx = []\n",
        "for id in idx:\n",
        "    targets = train[train['search_id'] == id]['target']\n",
        "    if (np.sum(targets) == 0) and (len(targets) < 5):\n",
        "        drop_idx.append(id)\n",
        "\n",
        "idx = list(set(idx).difference(set(drop_idx)))\n",
        "idx_train, idx_valid = idx[:int(len(idx)*0.75)] , idx[int(len(idx)*0.75):]\n",
        "df_train, df_valid = train[train['search_id'] <= idx_train[-1]], train[train['search_id'] >= idx_valid[0]]"
      ],
      "metadata": {
        "id": "Qqw4l4CcWGga"
      },
      "execution_count": 106,
      "outputs": []
    },
    {
      "cell_type": "markdown",
      "source": [
        "#### Обучение моделей"
      ],
      "metadata": {
        "id": "Mp5cub3pjfVV"
      }
    },
    {
      "cell_type": "markdown",
      "source": [
        "Максимальные метрики для тренировочной и валидационной выборок"
      ],
      "metadata": {
        "id": "LEYrVL40SMLH"
      }
    },
    {
      "cell_type": "code",
      "source": [
        "X_train, X_valid = df_train.drop(['search_id', 'target'], axis=1), df_valid.drop(['search_id', 'target'], axis=1)\n",
        "y_train, y_valid = df_train['target'], df_valid['target']\n",
        "\n",
        "df_res_train = pd.DataFrame(data={'search_id' : df_train['search_id'], 'y_pred' : y_train, 'y_valid' : y_train})\n",
        "df_res_valid = pd.DataFrame(data={'search_id' : df_valid['search_id'], 'y_pred' : y_valid, 'y_valid' : y_valid})\n",
        "\n",
        "print(\"max_NDCG train =\", NDCG_df_res(df_res_train), \"max_NDCG valid =\", NDCG_df_res(df_res_valid))"
      ],
      "metadata": {
        "colab": {
          "base_uri": "https://localhost:8080/"
        },
        "id": "TeVyrKUHv6Jj",
        "outputId": "ed96d1ae-ab07-4008-fa1d-4120cf9fb6f6"
      },
      "execution_count": 107,
      "outputs": [
        {
          "output_type": "stream",
          "name": "stdout",
          "text": [
            "max_NDCG train = 0.21521739130434783 max_NDCG valid = 0.21023765996343693\n"
          ]
        }
      ]
    },
    {
      "cell_type": "markdown",
      "source": [
        "1) Базовое решение: Логистичекая регрессия"
      ],
      "metadata": {
        "id": "EZNjLwVEjm5A"
      }
    },
    {
      "cell_type": "code",
      "source": [
        "param_grid = {'C': [0.001, 0.01, 1, 10],\n",
        "              'solver': ['lbfgs', 'sag']}\n",
        "\n",
        "\n",
        "for solver_param in param_grid['solver']:\n",
        "    for c_param in param_grid['C']:\n",
        "        X_train, X_valid = df_train.drop(['search_id', 'target'], axis=1), df_valid.drop(['search_id', 'target'], axis=1)\n",
        "        y_train, y_valid = df_train['target'], df_valid['target']\n",
        "\n",
        "        # попробуем стнадартизировать данные\n",
        "        ss = StandardScaler()\n",
        "        X_train_ss = pd.DataFrame(ss.fit_transform(X_train), columns=X_train.columns)\n",
        "        X_valid_ss = pd.DataFrame(ss.fit_transform(X_valid), columns=X_valid.columns)\n",
        "\n",
        "        logreg = LogisticRegression(max_iter=5000, solver=solver_param, C=c_param)\n",
        "        logreg.fit(X_train_ss, y_train)\n",
        "\n",
        "        y_pred_train = logreg.predict_proba(X_train_ss)[:,1]\n",
        "        y_pred_valid = logreg.predict_proba(X_valid_ss)[:,1]\n",
        "        df_res_train = pd.DataFrame(data={'search_id' : df_train['search_id'], 'y_pred' : y_pred_train, 'y_valid' : y_train})\n",
        "        df_res_valid = pd.DataFrame(data={'search_id' : df_valid['search_id'], 'y_pred' : y_pred_valid, 'y_valid' : y_valid})\n",
        "\n",
        "        print(solver_param, c_param, \"train = \", NDCG_df_res(df_res_train),\n",
        "                               \"valid = \", NDCG_df_res(df_res_valid))"
      ],
      "metadata": {
        "colab": {
          "base_uri": "https://localhost:8080/"
        },
        "id": "Ytw69KmuPy0n",
        "outputId": "32cb60cd-3268-4830-a7fe-19a3d95a6d26"
      },
      "execution_count": 98,
      "outputs": [
        {
          "output_type": "stream",
          "name": "stdout",
          "text": [
            "lbfgs 0.001 train =  0.11256125625907597 valid =  0.11172149939159948\n",
            "lbfgs 0.01 train =  0.11390205481166492 valid =  0.11242824011560545\n",
            "lbfgs 1 train =  0.11611434136980149 valid =  0.11293652240768558\n",
            "lbfgs 10 train =  0.11594822201083711 valid =  0.11293652240768558\n",
            "sag 0.001 train =  0.11256125625907597 valid =  0.11172149939159948\n",
            "sag 0.01 train =  0.11390205481166492 valid =  0.11284194100323054\n",
            "sag 1 train =  0.11597202642026729 valid =  0.11293652240768558\n",
            "sag 10 train =  0.11594822201083711 valid =  0.11293652240768558\n"
          ]
        }
      ]
    },
    {
      "cell_type": "markdown",
      "source": [
        "Как мы видим Логистическая регрессия не дает удовлетворительных результатов - в выборке слишком много нулевых векторов. Модель стремиться предсказать нули. Попробуем более продвинутые алгоритмы, например, градиентный бустинг."
      ],
      "metadata": {
        "id": "IEGKxDk9kphs"
      }
    },
    {
      "cell_type": "markdown",
      "source": [
        "2) Градиентный бустинг sklearn"
      ],
      "metadata": {
        "id": "T05248VekQYH"
      }
    },
    {
      "cell_type": "code",
      "source": [
        "def train_loop(model, param_grid):\n",
        "    NDCG_train_best = []\n",
        "    NDCG_valid_best = []\n",
        "\n",
        "    for lr_param in param_grid['learning_rate']:\n",
        "        print(\"lr =\", lr_param, \": \")\n",
        "        for n_est_param in param_grid['n_estimators']:\n",
        "            print(\"   n_est =\", n_est_param, \": \")\n",
        "            for depth_param in param_grid['depth']:\n",
        "                X_train, X_valid = df_train.drop(['search_id', 'target'], axis=1), df_valid.drop(['search_id', 'target'], axis=1)\n",
        "                y_train, y_valid = df_train['target'], df_valid['target']\n",
        "\n",
        "                gb = model(learning_rate=lr_param, n_estimators=n_est_param, max_depth=depth_param, verbose=0)\n",
        "                gb.fit(X_train, y_train)\n",
        "\n",
        "                y_pred_train = gb.predict(X_train)\n",
        "                y_pred_valid = gb.predict(X_valid)\n",
        "\n",
        "                df_res_train = pd.DataFrame(data={'search_id' : df_train['search_id'], 'y_pred' : y_pred_train, 'y_valid' : y_train})\n",
        "                df_res_valid = pd.DataFrame(data={'search_id' : df_valid['search_id'], 'y_pred' : y_pred_valid, 'y_valid' : y_valid})\n",
        "\n",
        "                NDCG_train_best.append(NDCG_df_res(df_res_train))\n",
        "                NDCG_valid_best.append(NDCG_df_res(df_res_valid))\n",
        "\n",
        "                print(\"      max_depth =\", depth_param, \"train =\", NDCG_df_res(df_res_train),\n",
        "                                                        \"valid =\", NDCG_df_res(df_res_valid))\n",
        "    return (NDCG_train_best, NDCG_valid_best)"
      ],
      "metadata": {
        "id": "WXbodLwQgVO5"
      },
      "execution_count": 114,
      "outputs": []
    },
    {
      "cell_type": "code",
      "source": [
        "param_grid = {'n_estimators' : [100, 300, 500],\n",
        "              'learning_rate': [ 0.01, 0.1, 0.3],\n",
        "              'depth': [3, 6] }\n",
        "\n",
        "model = GradientBoostingRegressor\n",
        "\n",
        "tr, vl = train_loop(model, param_grid)\n",
        "\n",
        "max(tr), max(vl)"
      ],
      "metadata": {
        "colab": {
          "base_uri": "https://localhost:8080/"
        },
        "id": "kQfB6B0NIgHZ",
        "outputId": "cddbf183-9333-478d-912d-f8327f72facc"
      },
      "execution_count": 109,
      "outputs": [
        {
          "output_type": "stream",
          "name": "stdout",
          "text": [
            "lr = 0.01 : \n",
            "   n_est = 100 : \n",
            "      max_depth = 3 train = 0.12434583274082367 valid = 0.1199896030925312\n",
            "      max_depth = 6 train = 0.14901551724618017 valid = 0.1419139975973971\n",
            "   n_est = 300 : \n",
            "      max_depth = 3 train = 0.136906891297934 valid = 0.12849300030407373\n",
            "      max_depth = 6 train = 0.1884303953826852 valid = 0.17474315435774465\n",
            "   n_est = 500 : \n",
            "      max_depth = 3 train = 0.14763875019814887 valid = 0.1376962817113187\n",
            "      max_depth = 6 train = 0.2044789444140467 valid = 0.18804840235695164\n",
            "lr = 0.1 : \n",
            "   n_est = 100 : \n",
            "      max_depth = 3 train = 0.15477183843238773 valid = 0.14486731550486792\n",
            "      max_depth = 6 train = 0.21112712020577695 valid = 0.1931439161598087\n",
            "   n_est = 300 : \n",
            "      max_depth = 3 train = 0.1931828060989805 valid = 0.17688352734620913\n",
            "      max_depth = 6 train = 0.21521739130434783 valid = 0.197805269783824\n",
            "   n_est = 500 : \n",
            "      max_depth = 3 train = 0.2069834490056029 valid = 0.19022002953013453\n",
            "      max_depth = 6 train = 0.21521739130434783 valid = 0.1977801865590416\n",
            "lr = 0.3 : \n",
            "   n_est = 100 : \n",
            "      max_depth = 3 train = 0.1882419572714304 valid = 0.17260662105990693\n",
            "      max_depth = 6 train = 0.21521739130434783 valid = 0.19657573398547157\n",
            "   n_est = 300 : \n",
            "      max_depth = 3 train = 0.21309268010078014 valid = 0.19388358587159082\n",
            "      max_depth = 6 train = 0.21521739130434783 valid = 0.1957053727966206\n",
            "   n_est = 500 : \n",
            "      max_depth = 3 train = 0.21521739130434783 valid = 0.19727829154442617\n",
            "      max_depth = 6 train = 0.21521739130434783 valid = 0.19618505343683282\n"
          ]
        },
        {
          "output_type": "execute_result",
          "data": {
            "text/plain": [
              "(0.21521739130434783, 0.197805269783824)"
            ]
          },
          "metadata": {},
          "execution_count": 109
        }
      ]
    },
    {
      "cell_type": "markdown",
      "source": [
        "3) Градиентный бустинг Сatboost"
      ],
      "metadata": {
        "id": "cv9E9aD4swra"
      }
    },
    {
      "cell_type": "code",
      "source": [
        "# CatBoostRegressor\n",
        "\n",
        "param_grid = {'n_estimators' : [100, 300, 500],\n",
        "              'learning_rate': [ 0.01, 0.2, 0.5],\n",
        "              'depth': [3, 6] }\n",
        "\n",
        "model = CatBoostRegressor\n",
        "\n",
        "tr, vl = train_loop(model, param_grid)\n",
        "\n",
        "max(tr), max(vl)"
      ],
      "metadata": {
        "colab": {
          "base_uri": "https://localhost:8080/"
        },
        "id": "YEUZVCXh-a8r",
        "outputId": "0bb1604c-c23a-4683-ef1f-39f97e6a9c90"
      },
      "execution_count": 116,
      "outputs": [
        {
          "output_type": "stream",
          "name": "stdout",
          "text": [
            "lr = 0.01 : \n",
            "   n_est = 100 : \n",
            "      max_depth = 3 train = 0.11727752918093261 valid = 0.11662966014229795\n",
            "      max_depth = 6 train = 0.14601817504613357 valid = 0.13873554876858965\n",
            "   n_est = 300 : \n",
            "      max_depth = 3 train = 0.12530307758427978 valid = 0.12214695168489173\n",
            "      max_depth = 6 train = 0.16179209875825837 valid = 0.15140445380443826\n",
            "   n_est = 500 : \n",
            "      max_depth = 3 train = 0.13419081824442988 valid = 0.13058805088906758\n",
            "      max_depth = 6 train = 0.17149143671808337 valid = 0.1590722479611344\n",
            "lr = 0.2 : \n",
            "   n_est = 100 : \n",
            "      max_depth = 3 train = 0.15126752014066158 valid = 0.1419643871004417\n",
            "      max_depth = 6 train = 0.18548039419079682 valid = 0.17268431804130926\n",
            "   n_est = 300 : \n",
            "      max_depth = 3 train = 0.18809519567567415 valid = 0.1733670107163559\n",
            "      max_depth = 6 train = 0.21172397053387307 valid = 0.19232282265013592\n",
            "   n_est = 500 : \n",
            "      max_depth = 3 train = 0.20022654573072965 valid = 0.18511263660988697\n",
            "      max_depth = 6 train = 0.21515967655383259 valid = 0.19550878983121242\n",
            "lr = 0.5 : \n",
            "   n_est = 100 : \n",
            "      max_depth = 3 train = 0.16404211974430283 valid = 0.1567442403434561\n",
            "      max_depth = 6 train = 0.20277563827604156 valid = 0.18824410527176533\n",
            "   n_est = 300 : \n",
            "      max_depth = 3 train = 0.19917280657372996 valid = 0.183048664106533\n",
            "      max_depth = 6 train = 0.21514404466516826 valid = 0.19806590105198546\n",
            "   n_est = 500 : \n",
            "      max_depth = 3 train = 0.20879418027506377 valid = 0.19156525021620732\n",
            "      max_depth = 6 train = 0.21521739130434783 valid = 0.19756843848610017\n"
          ]
        },
        {
          "output_type": "execute_result",
          "data": {
            "text/plain": [
              "(0.21521739130434783, 0.19806590105198546)"
            ]
          },
          "metadata": {},
          "execution_count": 116
        }
      ]
    },
    {
      "cell_type": "markdown",
      "source": [
        "Обратимся к CatBoostRanker. Минимизация функции потерь RMSE.  "
      ],
      "metadata": {
        "id": "48PFoNbkoJIp"
      }
    },
    {
      "cell_type": "code",
      "source": [
        "X_train, X_valid = df_train.drop(['search_id', 'target'], axis=1), df_valid.drop(['search_id', 'target'], axis=1)\n",
        "y_train, y_valid = df_train['target'], df_valid['target']"
      ],
      "metadata": {
        "id": "KS8ZWEIUr0rU"
      },
      "execution_count": 117,
      "outputs": []
    },
    {
      "cell_type": "code",
      "source": [
        "train_pool = Pool(\n",
        "    data=X_train.values,\n",
        "    label=y_train,\n",
        "    group_id=df_train['search_id']\n",
        ")\n",
        "\n",
        "test_pool = Pool(\n",
        "    data=X_valid.values,\n",
        "    label=y_valid,\n",
        "    group_id=df_valid['search_id']\n",
        ")"
      ],
      "metadata": {
        "id": "Am1kNQspsu3q"
      },
      "execution_count": 118,
      "outputs": []
    },
    {
      "cell_type": "code",
      "source": [
        "default_parameters = {\n",
        "    'iterations': 1000,\n",
        "    'custom_metric': ['NDCG'],\n",
        "    'verbose': 0,\n",
        "    'random_seed': 0,\n",
        "    'learning_rate' : 0.1\n",
        "}\n",
        "\n",
        "parameters = {}"
      ],
      "metadata": {
        "id": "8P4DK28yrEu_"
      },
      "execution_count": 126,
      "outputs": []
    },
    {
      "cell_type": "code",
      "source": [
        "def fit_model(loss_function, additional_params=None, train_pool=train_pool, test_pool=test_pool):\n",
        "    parameters = deepcopy(default_parameters)\n",
        "    parameters['loss_function'] = loss_function\n",
        "    parameters['train_dir'] = loss_function\n",
        "\n",
        "    if additional_params is not None:\n",
        "        parameters.update(additional_params)\n",
        "\n",
        "    model = CatBoostRanker(**parameters)\n",
        "    model.fit(train_pool, eval_set=test_pool, plot=True)\n",
        "\n",
        "    return model"
      ],
      "metadata": {
        "id": "fZBcQSfJrKDX"
      },
      "execution_count": 127,
      "outputs": []
    },
    {
      "cell_type": "code",
      "source": [
        "model = fit_model('RMSE', {'custom_metric': ['NDCG']}, train_pool, test_pool)"
      ],
      "metadata": {
        "colab": {
          "base_uri": "https://localhost:8080/",
          "height": 17,
          "referenced_widgets": [
            "24bb8d09538747109bde174d61512cec"
          ]
        },
        "id": "WwFSOUBErMnA",
        "outputId": "c94cfcfa-06b6-467a-d15c-1a80ca93b829"
      },
      "execution_count": 128,
      "outputs": [
        {
          "output_type": "display_data",
          "data": {
            "text/plain": [
              "MetricVisualizer(layout=Layout(align_self='stretch', height='500px'))"
            ],
            "application/vnd.jupyter.widget-view+json": {
              "version_major": 2,
              "version_minor": 0,
              "model_id": "24bb8d09538747109bde174d61512cec"
            }
          },
          "metadata": {}
        }
      ]
    },
    {
      "cell_type": "code",
      "source": [
        "model.best_iteration_, model.best_score_"
      ],
      "metadata": {
        "colab": {
          "base_uri": "https://localhost:8080/"
        },
        "id": "gXUzuZYwPNNk",
        "outputId": "9f387a1b-2829-4f36-8df3-87c8a786faea"
      },
      "execution_count": 130,
      "outputs": [
        {
          "output_type": "execute_result",
          "data": {
            "text/plain": [
              "(999,\n",
              " {'learn': {'RMSE': 0.078011510609796},\n",
              "  'validation': {'NDCG:type=Base': 0.9851887399984477,\n",
              "   'RMSE': 0.08379707948358492}})"
            ]
          },
          "metadata": {},
          "execution_count": 130
        }
      ]
    },
    {
      "cell_type": "code",
      "source": [
        "y_pred_train = model.predict(train_pool)\n",
        "y_pred_valid = model.predict(test_pool)\n",
        "\n",
        "df_res_valid = pd.DataFrame(data={'search_id' : df_valid['search_id'], 'y_pred' : y_pred_valid, 'y_valid' : y_valid})\n",
        "df_res_train = pd.DataFrame(data={'search_id' : df_train['search_id'], 'y_pred' : y_pred_train, 'y_valid' : y_train})\n",
        "\n",
        "NDCG_df_res(df_res_train), NDCG_df_res(df_res_valid)"
      ],
      "metadata": {
        "colab": {
          "base_uri": "https://localhost:8080/"
        },
        "id": "mDfObGCoPEJD",
        "outputId": "f85ef7ad-e521-4690-b602-185a319c46c4"
      },
      "execution_count": 131,
      "outputs": [
        {
          "output_type": "execute_result",
          "data": {
            "text/plain": [
              "(0.21470079849198195, 0.19433985710529053)"
            ]
          },
          "metadata": {},
          "execution_count": 131
        }
      ]
    },
    {
      "cell_type": "markdown",
      "source": [
        "#### Обучение лучшей модели"
      ],
      "metadata": {
        "id": "aYuM63PnMWhu"
      }
    },
    {
      "cell_type": "markdown",
      "source": [
        "Лучшая модель CatBoostRegeressor с метрикой на валидации 0.1980 (max 0.210). Обучим на всем тренировочном датасете и сделаем предсказания для тестовой.\n"
      ],
      "metadata": {
        "id": "x3QcMJoHP5S2"
      }
    },
    {
      "cell_type": "code",
      "source": [
        "cgb = CatBoostRegressor(learning_rate=0.5, max_depth=6, n_estimators=300, verbose=0)\n",
        "\n",
        "cgb.fit(train.drop(['search_id', 'target'], axis=1), train['target'])"
      ],
      "metadata": {
        "colab": {
          "base_uri": "https://localhost:8080/"
        },
        "id": "LVomtDjxMeAP",
        "outputId": "d0cccb01-87c5-4aa2-c27a-64752afb4fd3"
      },
      "execution_count": 133,
      "outputs": [
        {
          "output_type": "execute_result",
          "data": {
            "text/plain": [
              "<catboost.core.CatBoostRegressor at 0x7e22cc8535e0>"
            ]
          },
          "metadata": {},
          "execution_count": 133
        }
      ]
    },
    {
      "cell_type": "code",
      "source": [
        "res_pred = cgb.predict(test.drop(['search_id', 'target'], axis=1))\n",
        "df_res_test = pd.DataFrame(data={'search_id' : test['search_id'], 'y_pred' : res_pred, 'y_valid' : test['target']})\n",
        "NDCG_df_res(df_res_test)"
      ],
      "metadata": {
        "colab": {
          "base_uri": "https://localhost:8080/"
        },
        "id": "hRbcRJizQtd-",
        "outputId": "16e05e85-d23b-4fbc-d0f3-411ea7352e41"
      },
      "execution_count": 137,
      "outputs": [
        {
          "output_type": "execute_result",
          "data": {
            "text/plain": [
              "0.11368645007059028"
            ]
          },
          "metadata": {},
          "execution_count": 137
        }
      ]
    }
  ]
}